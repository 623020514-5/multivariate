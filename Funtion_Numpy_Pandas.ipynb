{
  "nbformat": 4,
  "nbformat_minor": 0,
  "metadata": {
    "colab": {
      "name": "Funtion_Numpy_Pandas.ipynb",
      "provenance": [],
      "authorship_tag": "ABX9TyMadW315Oztwi/sPZzww5ej",
      "include_colab_link": true
    },
    "kernelspec": {
      "name": "python3",
      "display_name": "Python 3"
    }
  },
  "cells": [
    {
      "cell_type": "markdown",
      "metadata": {
        "id": "view-in-github",
        "colab_type": "text"
      },
      "source": [
        "<a href=\"https://colab.research.google.com/github/623020514-5/multivariate/blob/main/Funtion_Numpy_Pandas.ipynb\" target=\"_parent\"><img src=\"https://colab.research.google.com/assets/colab-badge.svg\" alt=\"Open In Colab\"/></a>"
      ]
    },
    {
      "cell_type": "markdown",
      "metadata": {
        "id": "wf1mUWYLSiKU"
      },
      "source": [
        "###Function"
      ]
    },
    {
      "cell_type": "code",
      "metadata": {
        "id": "GYbvu2yETwEk"
      },
      "source": [
        "def function_name(_Input_) :\r\n",
        "        do_something with _input_ to get _Output_\r\n",
        "        return _output_"
      ],
      "execution_count": null,
      "outputs": []
    },
    {
      "cell_type": "markdown",
      "metadata": {
        "id": "-MEI97_PTnrr"
      },
      "source": [
        "function มีส่วนสำคัญทั้งหมด 4 ส่วน\r\n",
        "    \r\n",
        "    1. บอก python ว่าเราจะเขียนฟังก์ชั่น ชื่ออะไร def function_name(): (ขาดไม่ได้)\r\n",
        "\r\n",
        "    2. กำหนดตัวแปรที่จะเป็น Input (ขาดได้)\r\n",
        "\r\n",
        "    3.ส่วนประมวลผล do_something with _input_ to get _Output_ (ขาดไม่ได้)\r\n",
        "\r\n",
        "    4.ส่วน  _Output_return _output_ (ขาดได้)"
      ]
    },
    {
      "cell_type": "code",
      "metadata": {
        "id": "3TnwKDj1Sp4B"
      },
      "source": [
        "def print_name(name,surname,ID) :\r\n",
        "        st = f'ชื่อ {name} นามสกุล {surname} ID {ID}'\r\n",
        "        return st"
      ],
      "execution_count": 2,
      "outputs": []
    },
    {
      "cell_type": "code",
      "metadata": {
        "colab": {
          "base_uri": "https://localhost:8080/",
          "height": 35
        },
        "id": "8kYXw6BXWBJx",
        "outputId": "260f1ba7-e540-4b36-aec4-fbfed45a82c1"
      },
      "source": [
        "print_name('จุฑากาญจน์','ชิงจันทร์','623020514-5')"
      ],
      "execution_count": 3,
      "outputs": [
        {
          "output_type": "execute_result",
          "data": {
            "application/vnd.google.colaboratory.intrinsic+json": {
              "type": "string"
            },
            "text/plain": [
              "'ชื่อ จุฑากาญจน์ นามสกุล ชิงจันทร์ ID 623020514-5'"
            ]
          },
          "metadata": {
            "tags": []
          },
          "execution_count": 3
        }
      ]
    },
    {
      "cell_type": "code",
      "metadata": {
        "colab": {
          "base_uri": "https://localhost:8080/"
        },
        "id": "mZRsxM11W1fY",
        "outputId": "874eef49-3d67-4a6d-c8e2-d9506a6c1e8f"
      },
      "source": [
        "output_string = print_name('จุฑากาญจน์','ชิงจันทร์','623020514-5')\r\n",
        "print(output_string)"
      ],
      "execution_count": 4,
      "outputs": [
        {
          "output_type": "stream",
          "text": [
            "ชื่อ จุฑากาญจน์ นามสกุล ชิงจันทร์ ID 623020514-5\n"
          ],
          "name": "stdout"
        }
      ]
    },
    {
      "cell_type": "markdown",
      "metadata": {
        "id": "kGe5ZuC_XaCA"
      },
      "source": [
        "function ไม่จำเป็นต้องมี output"
      ]
    },
    {
      "cell_type": "code",
      "metadata": {
        "id": "9Qc9C-x9XhzJ"
      },
      "source": [
        "def print_name2(name,surname,ID) : #ฟังก์ชั่นไม่จำเป็นต้องมี output\r\n",
        "        st = f'ชื่อ {name} นามสกุล {surname} รหัส {ID}'\r\n",
        "        print(st)"
      ],
      "execution_count": 5,
      "outputs": []
    },
    {
      "cell_type": "code",
      "metadata": {
        "colab": {
          "base_uri": "https://localhost:8080/"
        },
        "id": "mVx6tuCxXx0C",
        "outputId": "bc9eb09a-d6ef-4f2d-d1f6-c35f60172b72"
      },
      "source": [
        "print_name2('จุฑากาญจน์','ชิงจันทร์','623020514-5')"
      ],
      "execution_count": 6,
      "outputs": [
        {
          "output_type": "stream",
          "text": [
            "ชื่อ จุฑากาญจน์ นามสกุล ชิงจันทร์ รหัส 623020514-5\n"
          ],
          "name": "stdout"
        }
      ]
    },
    {
      "cell_type": "code",
      "metadata": {
        "colab": {
          "base_uri": "https://localhost:8080/"
        },
        "id": "nhwV1SDfX9Ce",
        "outputId": "49f4baa5-1526-481e-d4d8-f4cd3e03728b"
      },
      "source": [
        "op2 = print_name2('จุฑากาญจน์','ชิงจันทร์','623020514-5')"
      ],
      "execution_count": 7,
      "outputs": [
        {
          "output_type": "stream",
          "text": [
            "ชื่อ จุฑากาญจน์ นามสกุล ชิงจันทร์ รหัส 623020514-5\n"
          ],
          "name": "stdout"
        }
      ]
    },
    {
      "cell_type": "code",
      "metadata": {
        "colab": {
          "base_uri": "https://localhost:8080/"
        },
        "id": "p3KVZHcCX9PP",
        "outputId": "b5ec4cd3-c664-4ef3-d5a3-f46817683413"
      },
      "source": [
        "print(op2)"
      ],
      "execution_count": 9,
      "outputs": [
        {
          "output_type": "stream",
          "text": [
            "None\n"
          ],
          "name": "stdout"
        }
      ]
    },
    {
      "cell_type": "markdown",
      "metadata": {
        "id": "7x9DLekTZKnF"
      },
      "source": [
        "function ไม่จำเป็นต้องมี input"
      ]
    },
    {
      "cell_type": "code",
      "metadata": {
        "id": "9KBAFf2XY50i"
      },
      "source": [
        "def Pi():\r\n",
        "    return 3.14159265 "
      ],
      "execution_count": 10,
      "outputs": []
    },
    {
      "cell_type": "code",
      "metadata": {
        "colab": {
          "base_uri": "https://localhost:8080/"
        },
        "id": "IITjYlMxZbVR",
        "outputId": "af728552-9f54-47c0-dfa0-6a850133cf71"
      },
      "source": [
        "#คำนวณพท.วงกลมที่มีเส้นผ่าศูนย์กลางเท่ากับ 3\r\n",
        "Pi()*(1.5**2)"
      ],
      "execution_count": 11,
      "outputs": [
        {
          "output_type": "execute_result",
          "data": {
            "text/plain": [
              "7.0685834625"
            ]
          },
          "metadata": {
            "tags": []
          },
          "execution_count": 11
        }
      ]
    },
    {
      "cell_type": "code",
      "metadata": {
        "id": "pR_cdk0CZxVu"
      },
      "source": [
        "def print_my_name():\r\n",
        "    print('จุฑากาญจน์ 623020514-5')"
      ],
      "execution_count": 14,
      "outputs": []
    },
    {
      "cell_type": "code",
      "metadata": {
        "colab": {
          "base_uri": "https://localhost:8080/"
        },
        "id": "mP-ZTOKnaONi",
        "outputId": "a0b1e28f-14c9-43a6-d576-b62990be6346"
      },
      "source": [
        "print_my_name()"
      ],
      "execution_count": 15,
      "outputs": [
        {
          "output_type": "stream",
          "text": [
            "จุฑากาญจน์ 623020514-5\n"
          ],
          "name": "stdout"
        }
      ]
    },
    {
      "cell_type": "code",
      "metadata": {
        "id": "XzTMkOJuafey"
      },
      "source": [
        "def print_2lines_default(name,surname,ID,grade='A'):\r\n",
        "    st = f'ชื่อ {name} นามสกุล {surname} รหัส {ID}'\r\n",
        "    print(st)\r\n",
        "    st2 = f'เกรดวิชา Multivariate >>> {grade}'\r\n",
        "    print(st2)\r\n"
      ],
      "execution_count": 16,
      "outputs": []
    },
    {
      "cell_type": "code",
      "metadata": {
        "colab": {
          "base_uri": "https://localhost:8080/",
          "height": 128
        },
        "id": "uTBlzoKlbRrX",
        "outputId": "f718fbe6-482a-48b1-8b78-0382cf8ab1bf"
      },
      "source": [
        "print_2lines_default('จุฑากาญจน์','ชิงจันทร์','623020514-5)"
      ],
      "execution_count": 18,
      "outputs": [
        {
          "output_type": "error",
          "ename": "SyntaxError",
          "evalue": "ignored",
          "traceback": [
            "\u001b[0;36m  File \u001b[0;32m\"<ipython-input-18-26c73ac2a83f>\"\u001b[0;36m, line \u001b[0;32m1\u001b[0m\n\u001b[0;31m    print_2lines_default('จุฑากาญจน์','ชิงจันทร์','623020514-5)\u001b[0m\n\u001b[0m                                                               ^\u001b[0m\n\u001b[0;31mSyntaxError\u001b[0m\u001b[0;31m:\u001b[0m EOL while scanning string literal\n"
          ]
        }
      ]
    },
    {
      "cell_type": "markdown",
      "metadata": {
        "id": "zWp10s8hc8-l"
      },
      "source": [
        "###Homework3 ให้เขียน Function คำนวณจำนวนวินาทีจาก เวลาต่อไปนี้\r\n",
        "\r\n",
        "'14-15-31'\r\n",
        "\r\n",
        "'13-00-01'\r\n",
        "\r\n",
        "'15-49-44'\r\n",
        "\r\n",
        "'00-00-16'\r\n",
        "\r\n",
        "และ print ให้สวยงาม"
      ]
    },
    {
      "cell_type": "code",
      "metadata": {
        "id": "AQMyfKdHdn96"
      },
      "source": [
        ""
      ],
      "execution_count": null,
      "outputs": []
    }
  ]
}