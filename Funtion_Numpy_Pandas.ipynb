{
  "nbformat": 4,
  "nbformat_minor": 0,
  "metadata": {
    "colab": {
      "name": "Funtion_Numpy_Pandas.ipynb",
      "provenance": [],
      "authorship_tag": "ABX9TyN2cLBLww6V2TvO1Ycbjeqp",
      "include_colab_link": true
    },
    "kernelspec": {
      "name": "python3",
      "display_name": "Python 3"
    }
  },
  "cells": [
    {
      "cell_type": "markdown",
      "metadata": {
        "id": "view-in-github",
        "colab_type": "text"
      },
      "source": [
        "<a href=\"https://colab.research.google.com/github/623020514-5/multivariate/blob/main/Funtion_Numpy_Pandas.ipynb\" target=\"_parent\"><img src=\"https://colab.research.google.com/assets/colab-badge.svg\" alt=\"Open In Colab\"/></a>"
      ]
    },
    {
      "cell_type": "markdown",
      "metadata": {
        "id": "wf1mUWYLSiKU"
      },
      "source": [
        "###Function"
      ]
    },
    {
      "cell_type": "code",
      "metadata": {
        "id": "GYbvu2yETwEk",
        "colab": {
          "base_uri": "https://localhost:8080/",
          "height": 128
        },
        "outputId": "b658615e-1e90-4471-e429-e5171d51a990"
      },
      "source": [
        "def function_name(_Input_) :\r\n",
        "        do_something with _input_ to get _Output_\r\n",
        "        return _output_"
      ],
      "execution_count": 2,
      "outputs": [
        {
          "output_type": "error",
          "ename": "SyntaxError",
          "evalue": "ignored",
          "traceback": [
            "\u001b[0;36m  File \u001b[0;32m\"<ipython-input-2-ae25a4818c0a>\"\u001b[0;36m, line \u001b[0;32m2\u001b[0m\n\u001b[0;31m    do_something with _input_ to get _Output_\u001b[0m\n\u001b[0m                    ^\u001b[0m\n\u001b[0;31mSyntaxError\u001b[0m\u001b[0;31m:\u001b[0m invalid syntax\n"
          ]
        }
      ]
    },
    {
      "cell_type": "markdown",
      "metadata": {
        "id": "-MEI97_PTnrr"
      },
      "source": [
        "function มีส่วนสำคัญทั้งหมด 4 ส่วน\r\n",
        "    \r\n",
        "    1. บอก python ว่าเราจะเขียนฟังก์ชั่น ชื่ออะไร def function_name(): (ขาดไม่ได้)\r\n",
        "\r\n",
        "    2. กำหนดตัวแปรที่จะเป็น Input (ขาดได้)\r\n",
        "\r\n",
        "    3.ส่วนประมวลผล do_something with _input_ to get _Output_ (ขาดไม่ได้)\r\n",
        "\r\n",
        "    4.ส่วน  _Output_return _output_ (ขาดได้)"
      ]
    },
    {
      "cell_type": "code",
      "metadata": {
        "id": "3TnwKDj1Sp4B"
      },
      "source": [
        "def print_name(name,surname,ID) :\r\n",
        "        st = f'ชื่อ {name} นามสกุล {surname} ID {ID}'\r\n",
        "        return st"
      ],
      "execution_count": null,
      "outputs": []
    },
    {
      "cell_type": "code",
      "metadata": {
        "id": "8kYXw6BXWBJx"
      },
      "source": [
        "print_name('จุฑากาญจน์','ชิงจันทร์','623020514-5')"
      ],
      "execution_count": null,
      "outputs": []
    },
    {
      "cell_type": "code",
      "metadata": {
        "id": "mZRsxM11W1fY"
      },
      "source": [
        "output_string = print_name('จุฑากาญจน์','ชิงจันทร์','623020514-5')\r\n",
        "print(output_string)"
      ],
      "execution_count": null,
      "outputs": []
    },
    {
      "cell_type": "markdown",
      "metadata": {
        "id": "kGe5ZuC_XaCA"
      },
      "source": [
        "function ไม่จำเป็นต้องมี output"
      ]
    },
    {
      "cell_type": "code",
      "metadata": {
        "id": "9Qc9C-x9XhzJ"
      },
      "source": [
        "def print_name2(name,surname,ID) : #ฟังก์ชั่นไม่จำเป็นต้องมี output\r\n",
        "        st = f'ชื่อ {name} นามสกุล {surname} รหัส {ID}'\r\n",
        "        print(st)"
      ],
      "execution_count": null,
      "outputs": []
    },
    {
      "cell_type": "code",
      "metadata": {
        "id": "mVx6tuCxXx0C"
      },
      "source": [
        "print_name2('จุฑากาญจน์','ชิงจันทร์','623020514-5')"
      ],
      "execution_count": null,
      "outputs": []
    },
    {
      "cell_type": "code",
      "metadata": {
        "id": "nhwV1SDfX9Ce"
      },
      "source": [
        "op2 = print_name2('จุฑากาญจน์','ชิงจันทร์','623020514-5')"
      ],
      "execution_count": null,
      "outputs": []
    },
    {
      "cell_type": "code",
      "metadata": {
        "id": "p3KVZHcCX9PP"
      },
      "source": [
        "print(op2)"
      ],
      "execution_count": null,
      "outputs": []
    },
    {
      "cell_type": "markdown",
      "metadata": {
        "id": "7x9DLekTZKnF"
      },
      "source": [
        "function ไม่จำเป็นต้องมี input"
      ]
    },
    {
      "cell_type": "code",
      "metadata": {
        "id": "9KBAFf2XY50i"
      },
      "source": [
        "def Pi():\r\n",
        "    return 3.14159265 "
      ],
      "execution_count": null,
      "outputs": []
    },
    {
      "cell_type": "code",
      "metadata": {
        "id": "IITjYlMxZbVR"
      },
      "source": [
        "#คำนวณพท.วงกลมที่มีเส้นผ่าศูนย์กลางเท่ากับ 3\r\n",
        "Pi()*(1.5**2)"
      ],
      "execution_count": null,
      "outputs": []
    },
    {
      "cell_type": "code",
      "metadata": {
        "id": "pR_cdk0CZxVu"
      },
      "source": [
        "def print_my_name():\r\n",
        "    print('จุฑากาญจน์ 623020514-5')"
      ],
      "execution_count": null,
      "outputs": []
    },
    {
      "cell_type": "code",
      "metadata": {
        "id": "mP-ZTOKnaONi"
      },
      "source": [
        "print_my_name()"
      ],
      "execution_count": null,
      "outputs": []
    },
    {
      "cell_type": "code",
      "metadata": {
        "id": "XzTMkOJuafey"
      },
      "source": [
        "def print_2lines_default(name,surname,ID,grade='A'):\r\n",
        "    st = f'ชื่อ {name} นามสกุล {surname} รหัส {ID}'\r\n",
        "    print(st)\r\n",
        "    st2 = f'เกรดวิชา Multivariate >>> {grade}'\r\n",
        "    print(st2)\r\n"
      ],
      "execution_count": null,
      "outputs": []
    },
    {
      "cell_type": "code",
      "metadata": {
        "id": "uTBlzoKlbRrX"
      },
      "source": [
        "print_2lines_default('จุฑากาญจน์','ชิงจันทร์','623020514-5)"
      ],
      "execution_count": null,
      "outputs": []
    },
    {
      "cell_type": "markdown",
      "metadata": {
        "id": "zWp10s8hc8-l"
      },
      "source": [
        "###Homework3 ให้เขียน Function คำนวณจำนวนวินาทีจาก เวลาต่อไปนี้\r\n",
        "\r\n",
        "'14-15-31'\r\n",
        "\r\n",
        "'13-00-01'\r\n",
        "\r\n",
        "'15-49-44'\r\n",
        "\r\n",
        "'00-00-16'\r\n",
        "\r\n",
        "และ print ให้สวยงาม"
      ]
    },
    {
      "cell_type": "markdown",
      "metadata": {
        "id": "OL1BvHqV0ruy"
      },
      "source": [
        "###Answer"
      ]
    },
    {
      "cell_type": "code",
      "metadata": {
        "id": "AQMyfKdHdn96"
      },
      "source": [
        "def function_time(time):\r\n",
        "    st = time.split('-')\r\n",
        "    ans = int(st[0]) * 3600 + int(st[1]) * 60 + int(st[2]) \r\n",
        "    print(f'คำนวณจำนวนวินาทีจาก {time} จะเท่ากับ {ans} วินาที')"
      ],
      "execution_count": null,
      "outputs": []
    },
    {
      "cell_type": "code",
      "metadata": {
        "id": "C971B6Jo0yLx"
      },
      "source": [
        "function_time('14-15-31')"
      ],
      "execution_count": null,
      "outputs": []
    },
    {
      "cell_type": "code",
      "metadata": {
        "id": "Qz3cuRNx0ycu"
      },
      "source": [
        "function_time('13-00-01')"
      ],
      "execution_count": null,
      "outputs": []
    },
    {
      "cell_type": "code",
      "metadata": {
        "id": "lRK35TSe0yqr"
      },
      "source": [
        "function_time('15-49-44')"
      ],
      "execution_count": null,
      "outputs": []
    },
    {
      "cell_type": "code",
      "metadata": {
        "id": "4Wm56EiY0y-_"
      },
      "source": [
        "function_time('00-00-16')"
      ],
      "execution_count": null,
      "outputs": []
    },
    {
      "cell_type": "markdown",
      "metadata": {
        "id": "-d4m_LIIQDwW"
      },
      "source": [
        "###No pandas"
      ]
    },
    {
      "cell_type": "markdown",
      "metadata": {
        "id": "su_FsL6sQaVk"
      },
      "source": [
        "###Numpy"
      ]
    },
    {
      "cell_type": "markdown",
      "metadata": {
        "id": "YVtYDVCjQnMI"
      },
      "source": [
        "Numpy >>> package สำหรับจัดการกับ Array ที่เป็นตัวเลข (Matrix)\r\n",
        "\r\n",
        "Num + Py  >>> Number-Numerical + python\r\n",
        "\r\n",
        "How to use to package\r\n",
        "\r\n",
        "1```import``` ```ชื่อ package``` #เรียกใช้ package\r\n",
        "\r\n",
        "2.```ชื่อ package.``` ```ชื่อ function```\r\n",
        "\r\n",
        "\r\n",
        "\r\n",
        "\r\n"
      ]
    },
    {
      "cell_type": "markdown",
      "metadata": {
        "id": "2h9eekRrTvGN"
      },
      "source": [
        "data structure -> array\r\n",
        "\r\n",
        "สร้าง array (numpy array)"
      ]
    },
    {
      "cell_type": "code",
      "metadata": {
        "id": "tkphzZPxWr4T"
      },
      "source": [
        "import numpy"
      ],
      "execution_count": 4,
      "outputs": []
    },
    {
      "cell_type": "code",
      "metadata": {
        "id": "1Qm5dd2uSn5u",
        "outputId": "d65a7959-a325-42d5-fb87-e35fab12247c",
        "colab": {
          "base_uri": "https://localhost:8080/"
        }
      },
      "source": [
        "mat_ex1 = numpy.array([[5.2,3.0,4.5],[9.1,0.1,0.3]])\r\n",
        "print(mat_ex1)"
      ],
      "execution_count": 5,
      "outputs": [
        {
          "output_type": "stream",
          "text": [
            "[[5.2 3.  4.5]\n",
            " [9.1 0.1 0.3]]\n"
          ],
          "name": "stdout"
        }
      ]
    },
    {
      "cell_type": "code",
      "metadata": {
        "id": "j3oG_9amWwfW",
        "outputId": "2d64339e-b505-42d8-8036-78de9d20c898",
        "colab": {
          "base_uri": "https://localhost:8080/"
        }
      },
      "source": [
        "mat_ex1 [1,1] #[แถว,หลัก]"
      ],
      "execution_count": 6,
      "outputs": [
        {
          "output_type": "execute_result",
          "data": {
            "text/plain": [
              "0.1"
            ]
          },
          "metadata": {
            "tags": []
          },
          "execution_count": 6
        }
      ]
    },
    {
      "cell_type": "markdown",
      "metadata": {
        "id": "wcLVCl2LWHNT"
      },
      "source": [
        "ถ้าไม่มี numpy array"
      ]
    },
    {
      "cell_type": "code",
      "metadata": {
        "id": "G6QKMIqYQIGe",
        "outputId": "10bb02d8-0c03-488d-cf20-102f5e1d05a8",
        "colab": {
          "base_uri": "https://localhost:8080/"
        }
      },
      "source": [
        "list_ex1 = [[5.2,3.0,4.5],[9.1,0.1,0.3]]\r\n",
        "print(list_ex1)"
      ],
      "execution_count": 3,
      "outputs": [
        {
          "output_type": "stream",
          "text": [
            "[[5.2, 3.0, 4.5], [9.1, 0.1, 0.3]]\n"
          ],
          "name": "stdout"
        }
      ]
    },
    {
      "cell_type": "code",
      "metadata": {
        "id": "hja9JouIWabf",
        "outputId": "249bf92e-23cc-4719-d7ab-d50503c8e8d2",
        "colab": {
          "base_uri": "https://localhost:8080/"
        }
      },
      "source": [
        "list_ex1[1] "
      ],
      "execution_count": 7,
      "outputs": [
        {
          "output_type": "execute_result",
          "data": {
            "text/plain": [
              "[9.1, 0.1, 0.3]"
            ]
          },
          "metadata": {
            "tags": []
          },
          "execution_count": 7
        }
      ]
    },
    {
      "cell_type": "code",
      "metadata": {
        "id": "KLGgUYwCXRPO",
        "outputId": "3b9597fb-66c9-446e-e1cc-0221647e5461",
        "colab": {
          "base_uri": "https://localhost:8080/"
        }
      },
      "source": [
        "list_ex1[1][1] #[แถว][หลัก]"
      ],
      "execution_count": 8,
      "outputs": [
        {
          "output_type": "execute_result",
          "data": {
            "text/plain": [
              "0.1"
            ]
          },
          "metadata": {
            "tags": []
          },
          "execution_count": 8
        }
      ]
    },
    {
      "cell_type": "code",
      "metadata": {
        "id": "fq_mIYxxXg7j",
        "outputId": "7ded2da4-682d-41fc-bdba-d3a1e399ceaa",
        "colab": {
          "base_uri": "https://localhost:8080/"
        }
      },
      "source": [
        "print(list_ex1)\r\n",
        "a= list_ex1[1]\r\n",
        "print(a)\r\n",
        "print(a[1])"
      ],
      "execution_count": 9,
      "outputs": [
        {
          "output_type": "stream",
          "text": [
            "[[5.2, 3.0, 4.5], [9.1, 0.1, 0.3]]\n",
            "[9.1, 0.1, 0.3]\n",
            "0.1\n"
          ],
          "name": "stdout"
        }
      ]
    },
    {
      "cell_type": "markdown",
      "metadata": {
        "id": "L-iAFwLMX9IN"
      },
      "source": [
        "Matrix Operation\r\n",
        "\r\n",
        "data 2 แบบ -> matrix (2D array),scalar = ตัวเลขค่าคงที่"
      ]
    },
    {
      "cell_type": "code",
      "metadata": {
        "id": "ZCYt0qwjXhRd",
        "outputId": "df5f95bf-5bec-4cd5-b3bc-463791d83d1e",
        "colab": {
          "base_uri": "https://localhost:8080/"
        }
      },
      "source": [
        "mat_ex1 = numpy.array([[5.2,3.0,4.5],[9.1,0.1,0.3]])\r\n",
        "print(mat_ex1)\r\n",
        "mat_ex2 = numpy.array([[2,3.7,5.9],[91,1.5,7.3]])\r\n",
        "print(mat_ex2)"
      ],
      "execution_count": 10,
      "outputs": [
        {
          "output_type": "stream",
          "text": [
            "[[5.2 3.  4.5]\n",
            " [9.1 0.1 0.3]]\n",
            "[[ 2.   3.7  5.9]\n",
            " [91.   1.5  7.3]]\n"
          ],
          "name": "stdout"
        }
      ]
    },
    {
      "cell_type": "code",
      "metadata": {
        "id": "bTZi344MY33d",
        "outputId": "78a177f6-79e3-4a70-93ed-711586db467c",
        "colab": {
          "base_uri": "https://localhost:8080/"
        }
      },
      "source": [
        "mat_ex3 = mat_ex1 + mat_ex2 #เอาตำแหน่งเดียวกันบวกหรือลบกันได้เลย และต้องมีมิติเท่ากัน\r\n",
        "print(mat_ex3)"
      ],
      "execution_count": 13,
      "outputs": [
        {
          "output_type": "stream",
          "text": [
            "[[  7.2   6.7  10.4]\n",
            " [100.1   1.6   7.6]]\n"
          ],
          "name": "stdout"
        }
      ]
    },
    {
      "cell_type": "markdown",
      "metadata": {
        "id": "PAnxWYZkaAg4"
      },
      "source": [
        "การตรวจสอบขนาดของ matrix \r\n",
        "\r\n",
        "\r\n",
        "\r\n",
        "```\r\n",
        ".shape\r\n",
        "```\r\n",
        "\r\n"
      ]
    },
    {
      "cell_type": "code",
      "metadata": {
        "id": "omu-tAFfZhKn",
        "outputId": "17043ef4-51d9-4081-ed9b-edf4f4eb6906",
        "colab": {
          "base_uri": "https://localhost:8080/"
        }
      },
      "source": [
        "mat_ex3.shape #จะเห็นว่าเป็น 2 มิติ"
      ],
      "execution_count": 14,
      "outputs": [
        {
          "output_type": "execute_result",
          "data": {
            "text/plain": [
              "(2, 3)"
            ]
          },
          "metadata": {
            "tags": []
          },
          "execution_count": 14
        }
      ]
    },
    {
      "cell_type": "code",
      "metadata": {
        "id": "SvjjY-fxappj",
        "outputId": "400ed9e5-c95a-432c-84e1-ae5f0a578034",
        "colab": {
          "base_uri": "https://localhost:8080/"
        }
      },
      "source": [
        "mat_ex3.shape[0] #ใช้งานเหมือน list"
      ],
      "execution_count": 15,
      "outputs": [
        {
          "output_type": "execute_result",
          "data": {
            "text/plain": [
              "2"
            ]
          },
          "metadata": {
            "tags": []
          },
          "execution_count": 15
        }
      ]
    },
    {
      "cell_type": "markdown",
      "metadata": {
        "id": "rPNQth2Ia-ha"
      },
      "source": [
        "## คูณ matrix\r\n",
        "\r\n",
        "(หลักการคูณ คือ หลักเมตทริกตัวข้างหน้า ต้องเท่ากับแถวของเมตทริกตัวข้างหลัง)\r\n",
        "\r\n",
        "dot product (ฟฟฟ,X)*(X,aaa)"
      ]
    },
    {
      "cell_type": "code",
      "metadata": {
        "id": "fDOkPEgua9QM",
        "outputId": "68f56bf7-5dd9-4fc4-da86-e5f35a90b992",
        "colab": {
          "base_uri": "https://localhost:8080/"
        }
      },
      "source": [
        "print(mat_ex1)\r\n",
        "print(mat_ex2)"
      ],
      "execution_count": 16,
      "outputs": [
        {
          "output_type": "stream",
          "text": [
            "[[5.2 3.  4.5]\n",
            " [9.1 0.1 0.3]]\n",
            "[[ 2.   3.7  5.9]\n",
            " [91.   1.5  7.3]]\n"
          ],
          "name": "stdout"
        }
      ]
    },
    {
      "cell_type": "code",
      "metadata": {
        "id": "cFWlTgK3cGHJ",
        "outputId": "28538037-7076-4ded-d2d5-9714a9ca4794",
        "colab": {
          "base_uri": "https://localhost:8080/"
        }
      },
      "source": [
        "mat_ex1 * mat_ex2"
      ],
      "execution_count": 17,
      "outputs": [
        {
          "output_type": "execute_result",
          "data": {
            "text/plain": [
              "array([[1.040e+01, 1.110e+01, 2.655e+01],\n",
              "       [8.281e+02, 1.500e-01, 2.190e+00]])"
            ]
          },
          "metadata": {
            "tags": []
          },
          "execution_count": 17
        }
      ]
    },
    {
      "cell_type": "code",
      "metadata": {
        "id": "R95r3L6LefRM",
        "outputId": "70b023c8-154d-439d-b1c0-a8fdcd4a9ff5",
        "colab": {
          "base_uri": "https://localhost:8080/",
          "height": 195
        }
      },
      "source": [
        "numpy.dot(mat_ex1,mat_ex2) #ต้องเช็ครูปร่างเมตทริค ถ้าอันนึง(2,3)อีกอันต้อง(3,2) "
      ],
      "execution_count": 18,
      "outputs": [
        {
          "output_type": "error",
          "ename": "ValueError",
          "evalue": "ignored",
          "traceback": [
            "\u001b[0;31m---------------------------------------------------------------------------\u001b[0m",
            "\u001b[0;31mValueError\u001b[0m                                Traceback (most recent call last)",
            "\u001b[0;32m<ipython-input-18-87326e5d09ab>\u001b[0m in \u001b[0;36m<module>\u001b[0;34m()\u001b[0m\n\u001b[0;32m----> 1\u001b[0;31m \u001b[0mnumpy\u001b[0m\u001b[0;34m.\u001b[0m\u001b[0mdot\u001b[0m\u001b[0;34m(\u001b[0m\u001b[0mmat_ex1\u001b[0m\u001b[0;34m,\u001b[0m\u001b[0mmat_ex2\u001b[0m\u001b[0;34m)\u001b[0m\u001b[0;34m\u001b[0m\u001b[0;34m\u001b[0m\u001b[0m\n\u001b[0m",
            "\u001b[0;32m<__array_function__ internals>\u001b[0m in \u001b[0;36mdot\u001b[0;34m(*args, **kwargs)\u001b[0m\n",
            "\u001b[0;31mValueError\u001b[0m: shapes (2,3) and (2,3) not aligned: 3 (dim 1) != 2 (dim 0)"
          ]
        }
      ]
    },
    {
      "cell_type": "markdown",
      "metadata": {
        "id": "VFyDFU54gceG"
      },
      "source": [
        "### Transpose กลับแถวเป็นหลักกลับหลักเป็นแถว\r\n",
        "\r\n",
        "\r\n",
        "\r\n",
        "```\r\n",
        "Matrix.T\r\n",
        "```\r\n",
        "\r\n"
      ]
    },
    {
      "cell_type": "code",
      "metadata": {
        "id": "Jd48tH1-fvTK",
        "outputId": "6bb537bf-dcdd-4060-d4ea-944199b1e8a3",
        "colab": {
          "base_uri": "https://localhost:8080/"
        }
      },
      "source": [
        "print(mat_ex2)\r\n",
        "print(mat_ex2.shape)"
      ],
      "execution_count": 19,
      "outputs": [
        {
          "output_type": "stream",
          "text": [
            "[[ 2.   3.7  5.9]\n",
            " [91.   1.5  7.3]]\n",
            "(2, 3)\n"
          ],
          "name": "stdout"
        }
      ]
    },
    {
      "cell_type": "code",
      "metadata": {
        "id": "A_6-tNHPhMc7",
        "outputId": "7570a2e7-24f6-422c-b198-dcfd95665771",
        "colab": {
          "base_uri": "https://localhost:8080/"
        }
      },
      "source": [
        "numpy.dot(mat_ex1,mat_ex2.T) #(2, 3).(3, 2)"
      ],
      "execution_count": 20,
      "outputs": [
        {
          "output_type": "execute_result",
          "data": {
            "text/plain": [
              "array([[ 48.05, 510.55],\n",
              "       [ 20.34, 830.44]])"
            ]
          },
          "metadata": {
            "tags": []
          },
          "execution_count": 20
        }
      ]
    },
    {
      "cell_type": "code",
      "metadata": {
        "id": "NsrU3md1h5he",
        "outputId": "9e480b9a-6b37-450d-8b5b-7779ec7aaa6d",
        "colab": {
          "base_uri": "https://localhost:8080/"
        }
      },
      "source": [
        "numpy.dot(mat_ex1.T,mat_ex2)"
      ],
      "execution_count": 21,
      "outputs": [
        {
          "output_type": "execute_result",
          "data": {
            "text/plain": [
              "array([[838.5 ,  32.89,  97.11],\n",
              "       [ 15.1 ,  11.25,  18.43],\n",
              "       [ 36.3 ,  17.1 ,  28.74]])"
            ]
          },
          "metadata": {
            "tags": []
          },
          "execution_count": 21
        }
      ]
    },
    {
      "cell_type": "markdown",
      "metadata": {
        "id": "_kmzIlQyijca"
      },
      "source": [
        "การบ้านครั้งที่ 4 \r\n",
        "\r\n",
        "อธิบาย และใส่รูปการหา DEterminant และ Inverse matrix "
      ]
    },
    {
      "cell_type": "code",
      "metadata": {
        "id": "Tc03m9wwjUkl"
      },
      "source": [
        ""
      ],
      "execution_count": null,
      "outputs": []
    }
  ]
}