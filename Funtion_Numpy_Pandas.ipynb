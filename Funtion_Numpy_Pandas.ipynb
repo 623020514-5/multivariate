{
  "nbformat": 4,
  "nbformat_minor": 0,
  "metadata": {
    "colab": {
      "name": "Funtion_Numpy_Pandas.ipynb",
      "provenance": [],
      "authorship_tag": "ABX9TyM+jN2kRGdTxEeVKMA+V9ky",
      "include_colab_link": true
    },
    "kernelspec": {
      "name": "python3",
      "display_name": "Python 3"
    }
  },
  "cells": [
    {
      "cell_type": "markdown",
      "metadata": {
        "id": "view-in-github",
        "colab_type": "text"
      },
      "source": [
        "<a href=\"https://colab.research.google.com/github/623020514-5/multivariate/blob/main/Funtion_Numpy_Pandas.ipynb\" target=\"_parent\"><img src=\"https://colab.research.google.com/assets/colab-badge.svg\" alt=\"Open In Colab\"/></a>"
      ]
    },
    {
      "cell_type": "markdown",
      "metadata": {
        "id": "wf1mUWYLSiKU"
      },
      "source": [
        "###Function"
      ]
    },
    {
      "cell_type": "code",
      "metadata": {
        "id": "GYbvu2yETwEk",
        "colab": {
          "base_uri": "https://localhost:8080/",
          "height": 128
        },
        "outputId": "4e621234-a84e-41f8-8008-e23055627bec"
      },
      "source": [
        "def function_name(_Input_) :\r\n",
        "        do_something with _input_ to get _Output_\r\n",
        "        return _output_"
      ],
      "execution_count": 1,
      "outputs": [
        {
          "output_type": "error",
          "ename": "SyntaxError",
          "evalue": "ignored",
          "traceback": [
            "\u001b[0;36m  File \u001b[0;32m\"<ipython-input-1-ae25a4818c0a>\"\u001b[0;36m, line \u001b[0;32m2\u001b[0m\n\u001b[0;31m    do_something with _input_ to get _Output_\u001b[0m\n\u001b[0m                    ^\u001b[0m\n\u001b[0;31mSyntaxError\u001b[0m\u001b[0;31m:\u001b[0m invalid syntax\n"
          ]
        }
      ]
    },
    {
      "cell_type": "markdown",
      "metadata": {
        "id": "-MEI97_PTnrr"
      },
      "source": [
        "function มีส่วนสำคัญทั้งหมด 4 ส่วน\r\n",
        "    \r\n",
        "    1. บอก python ว่าเราจะเขียนฟังก์ชั่น ชื่ออะไร def function_name(): (ขาดไม่ได้)\r\n",
        "\r\n",
        "    2. กำหนดตัวแปรที่จะเป็น Input (ขาดได้)\r\n",
        "\r\n",
        "    3.ส่วนประมวลผล do_something with _input_ to get _Output_ (ขาดไม่ได้)\r\n",
        "\r\n",
        "    4.ส่วน  _Output_return _output_ (ขาดได้)"
      ]
    },
    {
      "cell_type": "code",
      "metadata": {
        "id": "3TnwKDj1Sp4B"
      },
      "source": [
        "def print_name(name,surname,ID) :\r\n",
        "        st = f'ชื่อ {name} นามสกุล {surname} ID {ID}'\r\n",
        "        return st"
      ],
      "execution_count": 2,
      "outputs": []
    },
    {
      "cell_type": "code",
      "metadata": {
        "colab": {
          "base_uri": "https://localhost:8080/",
          "height": 35
        },
        "id": "8kYXw6BXWBJx",
        "outputId": "31f1bc64-2a0d-48a8-97ff-454675dec16c"
      },
      "source": [
        "print_name('จุฑากาญจน์','ชิงจันทร์','623020514-5')"
      ],
      "execution_count": 3,
      "outputs": [
        {
          "output_type": "execute_result",
          "data": {
            "application/vnd.google.colaboratory.intrinsic+json": {
              "type": "string"
            },
            "text/plain": [
              "'ชื่อ จุฑากาญจน์ นามสกุล ชิงจันทร์ ID 623020514-5'"
            ]
          },
          "metadata": {
            "tags": []
          },
          "execution_count": 3
        }
      ]
    },
    {
      "cell_type": "code",
      "metadata": {
        "colab": {
          "base_uri": "https://localhost:8080/"
        },
        "id": "mZRsxM11W1fY",
        "outputId": "f767b144-4415-4e6e-b423-b83d155bc4b2"
      },
      "source": [
        "output_string = print_name('จุฑากาญจน์','ชิงจันทร์','623020514-5')\r\n",
        "print(output_string)"
      ],
      "execution_count": 4,
      "outputs": [
        {
          "output_type": "stream",
          "text": [
            "ชื่อ จุฑากาญจน์ นามสกุล ชิงจันทร์ ID 623020514-5\n"
          ],
          "name": "stdout"
        }
      ]
    },
    {
      "cell_type": "markdown",
      "metadata": {
        "id": "kGe5ZuC_XaCA"
      },
      "source": [
        "function ไม่จำเป็นต้องมี output"
      ]
    },
    {
      "cell_type": "code",
      "metadata": {
        "id": "9Qc9C-x9XhzJ"
      },
      "source": [
        "def print_name2(name,surname,ID) : #ฟังก์ชั่นไม่จำเป็นต้องมี output\r\n",
        "        st = f'ชื่อ {name} นามสกุล {surname} รหัส {ID}'\r\n",
        "        print(st)"
      ],
      "execution_count": 5,
      "outputs": []
    },
    {
      "cell_type": "code",
      "metadata": {
        "colab": {
          "base_uri": "https://localhost:8080/"
        },
        "id": "mVx6tuCxXx0C",
        "outputId": "58dd3179-afce-4ffb-cb10-5ed927858fe2"
      },
      "source": [
        "print_name2('จุฑากาญจน์','ชิงจันทร์','623020514-5')"
      ],
      "execution_count": 6,
      "outputs": [
        {
          "output_type": "stream",
          "text": [
            "ชื่อ จุฑากาญจน์ นามสกุล ชิงจันทร์ รหัส 623020514-5\n"
          ],
          "name": "stdout"
        }
      ]
    },
    {
      "cell_type": "code",
      "metadata": {
        "colab": {
          "base_uri": "https://localhost:8080/"
        },
        "id": "nhwV1SDfX9Ce",
        "outputId": "f6965917-b01a-4c07-dd70-78c5ed472d73"
      },
      "source": [
        "op2 = print_name2('จุฑากาญจน์','ชิงจันทร์','623020514-5')"
      ],
      "execution_count": 7,
      "outputs": [
        {
          "output_type": "stream",
          "text": [
            "ชื่อ จุฑากาญจน์ นามสกุล ชิงจันทร์ รหัส 623020514-5\n"
          ],
          "name": "stdout"
        }
      ]
    },
    {
      "cell_type": "code",
      "metadata": {
        "colab": {
          "base_uri": "https://localhost:8080/"
        },
        "id": "p3KVZHcCX9PP",
        "outputId": "f82d5874-2621-491d-d727-feb0b6450cdc"
      },
      "source": [
        "print(op2)"
      ],
      "execution_count": 8,
      "outputs": [
        {
          "output_type": "stream",
          "text": [
            "None\n"
          ],
          "name": "stdout"
        }
      ]
    },
    {
      "cell_type": "markdown",
      "metadata": {
        "id": "7x9DLekTZKnF"
      },
      "source": [
        "function ไม่จำเป็นต้องมี input"
      ]
    },
    {
      "cell_type": "code",
      "metadata": {
        "id": "9KBAFf2XY50i"
      },
      "source": [
        "def Pi():\r\n",
        "    return 3.14159265 "
      ],
      "execution_count": 9,
      "outputs": []
    },
    {
      "cell_type": "code",
      "metadata": {
        "colab": {
          "base_uri": "https://localhost:8080/"
        },
        "id": "IITjYlMxZbVR",
        "outputId": "0aeff001-fcd4-4014-e90e-6ee5c57c0f3f"
      },
      "source": [
        "#คำนวณพท.วงกลมที่มีเส้นผ่าศูนย์กลางเท่ากับ 3\r\n",
        "Pi()*(1.5**2)"
      ],
      "execution_count": 10,
      "outputs": [
        {
          "output_type": "execute_result",
          "data": {
            "text/plain": [
              "7.0685834625"
            ]
          },
          "metadata": {
            "tags": []
          },
          "execution_count": 10
        }
      ]
    },
    {
      "cell_type": "code",
      "metadata": {
        "id": "pR_cdk0CZxVu"
      },
      "source": [
        "def print_my_name():\r\n",
        "    print('จุฑากาญจน์ 623020514-5')"
      ],
      "execution_count": 11,
      "outputs": []
    },
    {
      "cell_type": "code",
      "metadata": {
        "colab": {
          "base_uri": "https://localhost:8080/"
        },
        "id": "mP-ZTOKnaONi",
        "outputId": "fcf5cc83-c6fd-471c-8180-94151926db87"
      },
      "source": [
        "print_my_name()"
      ],
      "execution_count": 12,
      "outputs": [
        {
          "output_type": "stream",
          "text": [
            "จุฑากาญจน์ 623020514-5\n"
          ],
          "name": "stdout"
        }
      ]
    },
    {
      "cell_type": "code",
      "metadata": {
        "id": "XzTMkOJuafey"
      },
      "source": [
        "def print_2lines_default(name,surname,ID,grade='A'):\r\n",
        "    st = f'ชื่อ {name} นามสกุล {surname} รหัส {ID}'\r\n",
        "    print(st)\r\n",
        "    st2 = f'เกรดวิชา Multivariate >>> {grade}'\r\n",
        "    print(st2)\r\n"
      ],
      "execution_count": 13,
      "outputs": []
    },
    {
      "cell_type": "code",
      "metadata": {
        "colab": {
          "base_uri": "https://localhost:8080/",
          "height": 128
        },
        "id": "uTBlzoKlbRrX",
        "outputId": "c7b1f236-e7b7-467f-f59e-9ab8e41a8fee"
      },
      "source": [
        "print_2lines_default('จุฑากาญจน์','ชิงจันทร์','623020514-5)"
      ],
      "execution_count": 14,
      "outputs": [
        {
          "output_type": "error",
          "ename": "SyntaxError",
          "evalue": "ignored",
          "traceback": [
            "\u001b[0;36m  File \u001b[0;32m\"<ipython-input-14-26c73ac2a83f>\"\u001b[0;36m, line \u001b[0;32m1\u001b[0m\n\u001b[0;31m    print_2lines_default('จุฑากาญจน์','ชิงจันทร์','623020514-5)\u001b[0m\n\u001b[0m                                                               ^\u001b[0m\n\u001b[0;31mSyntaxError\u001b[0m\u001b[0;31m:\u001b[0m EOL while scanning string literal\n"
          ]
        }
      ]
    },
    {
      "cell_type": "markdown",
      "metadata": {
        "id": "zWp10s8hc8-l"
      },
      "source": [
        "###Homework3 ให้เขียน Function คำนวณจำนวนวินาทีจาก เวลาต่อไปนี้\r\n",
        "\r\n",
        "'14-15-31'\r\n",
        "\r\n",
        "'13-00-01'\r\n",
        "\r\n",
        "'15-49-44'\r\n",
        "\r\n",
        "'00-00-16'\r\n",
        "\r\n",
        "และ print ให้สวยงาม"
      ]
    },
    {
      "cell_type": "markdown",
      "metadata": {
        "id": "OL1BvHqV0ruy"
      },
      "source": [
        "###Answer"
      ]
    },
    {
      "cell_type": "code",
      "metadata": {
        "id": "AQMyfKdHdn96"
      },
      "source": [
        "def function_time(time):\r\n",
        "    st = time.split('-')\r\n",
        "    ans = int(st[0]) * 3600 + int(st[1]) * 60 + int(st[2]) \r\n",
        "    print(f'คำนวณจำนวนวินาทีจาก {time} จะเท่ากับ {ans} วินาที')"
      ],
      "execution_count": 19,
      "outputs": []
    },
    {
      "cell_type": "code",
      "metadata": {
        "colab": {
          "base_uri": "https://localhost:8080/"
        },
        "id": "C971B6Jo0yLx",
        "outputId": "95900576-1d4e-4c83-fd8d-5a3ca0c621ee"
      },
      "source": [
        "function_time('14-15-31')"
      ],
      "execution_count": 20,
      "outputs": [
        {
          "output_type": "stream",
          "text": [
            "คำนวณจำนวนวินาทีจาก 14-15-31 จะเท่ากับ 51331 วินาที\n"
          ],
          "name": "stdout"
        }
      ]
    },
    {
      "cell_type": "code",
      "metadata": {
        "colab": {
          "base_uri": "https://localhost:8080/"
        },
        "id": "Qz3cuRNx0ycu",
        "outputId": "6b4f3dcb-01c4-4681-95a3-72b07c269cd0"
      },
      "source": [
        "function_time('13-00-01')"
      ],
      "execution_count": 21,
      "outputs": [
        {
          "output_type": "stream",
          "text": [
            "คำนวณจำนวนวินาทีจาก 13-00-01 จะเท่ากับ 46801 วินาที\n"
          ],
          "name": "stdout"
        }
      ]
    },
    {
      "cell_type": "code",
      "metadata": {
        "colab": {
          "base_uri": "https://localhost:8080/"
        },
        "id": "lRK35TSe0yqr",
        "outputId": "264c6299-b5e2-4aff-de28-78eb1f03a061"
      },
      "source": [
        "function_time('15-49-44')"
      ],
      "execution_count": 22,
      "outputs": [
        {
          "output_type": "stream",
          "text": [
            "คำนวณจำนวนวินาทีจาก 15-49-44 จะเท่ากับ 56984 วินาที\n"
          ],
          "name": "stdout"
        }
      ]
    },
    {
      "cell_type": "code",
      "metadata": {
        "colab": {
          "base_uri": "https://localhost:8080/"
        },
        "id": "4Wm56EiY0y-_",
        "outputId": "d0dd7be7-f34e-4102-bb58-37a11d61f8fb"
      },
      "source": [
        "function_time('00-00-16')"
      ],
      "execution_count": 23,
      "outputs": [
        {
          "output_type": "stream",
          "text": [
            "คำนวณจำนวนวินาทีจาก 00-00-16 จะเท่ากับ 16 วินาที\n"
          ],
          "name": "stdout"
        }
      ]
    }
  ]
}