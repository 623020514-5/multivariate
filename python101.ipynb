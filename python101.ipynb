{
  "nbformat": 4,
  "nbformat_minor": 0,
  "metadata": {
    "colab": {
      "name": "python101.ipynb",
      "provenance": [],
      "authorship_tag": "ABX9TyMKio/WOk8iogaiEeT23hZ3",
      "include_colab_link": true
    },
    "kernelspec": {
      "name": "python3",
      "display_name": "Python 3"
    }
  },
  "cells": [
    {
      "cell_type": "markdown",
      "metadata": {
        "id": "view-in-github",
        "colab_type": "text"
      },
      "source": [
        "<a href=\"https://colab.research.google.com/github/623020514-5/multivariate/blob/main/python101.ipynb\" target=\"_parent\"><img src=\"https://colab.research.google.com/assets/colab-badge.svg\" alt=\"Open In Colab\"/></a>"
      ]
    },
    {
      "cell_type": "markdown",
      "metadata": {
        "id": "VdzGuc8WLlMw"
      },
      "source": [
        "ตัวแปร or variable"
      ]
    },
    {
      "cell_type": "markdown",
      "metadata": {
        "id": "klTagPGyMX0Z"
      },
      "source": [
        "หลักการตั้งชื่อตัวแปรต้น\r\n",
        "\r\n",
        "  1.ตั้งให้สื่อความหมาย\r\n",
        "\r\n",
        "  2.ภาษาอังกฤษ\r\n",
        "\r\n",
        "  3.ใช้ตัวเลขได้แต่ห้ามขึ้นต้นด้วยตัวเลข\r\n",
        "\r\n",
        "  4.ห้ามเว้นวรรค\r\n",
        "  \r\n",
        "  5.ตัวเล็กกับตัวใหญ่ไม่เหมือนกัน"
      ]
    },
    {
      "cell_type": "code",
      "metadata": {
        "id": "p_M3ukJoLxyt"
      },
      "source": [
        "Pi = 3.14159"
      ],
      "execution_count": 1,
      "outputs": []
    },
    {
      "cell_type": "code",
      "metadata": {
        "colab": {
          "base_uri": "https://localhost:8080/"
        },
        "id": "DdZ_aceBMVGN",
        "outputId": "0ecae86d-1c69-47b9-db7b-611c178c4f0e"
      },
      "source": [
        "Pi"
      ],
      "execution_count": 2,
      "outputs": [
        {
          "output_type": "execute_result",
          "data": {
            "text/plain": [
              "3.14159"
            ]
          },
          "metadata": {
            "tags": []
          },
          "execution_count": 2
        }
      ]
    },
    {
      "cell_type": "code",
      "metadata": {
        "colab": {
          "base_uri": "https://localhost:8080/"
        },
        "id": "YRhX7p9dNIVK",
        "outputId": "25be98d9-3ead-41f3-92c4-1bae61768931"
      },
      "source": [
        "a = 1234567\r\n",
        "print(a) #แสดงผล"
      ],
      "execution_count": 3,
      "outputs": [
        {
          "output_type": "stream",
          "text": [
            "1234567\n"
          ],
          "name": "stdout"
        }
      ]
    },
    {
      "cell_type": "markdown",
      "metadata": {
        "id": "xoNZsdu2Nnvt"
      },
      "source": [
        "ชนิดของตัวแปร 3 ชนิด\r\n"
      ]
    },
    {
      "cell_type": "markdown",
      "metadata": {
        "id": "oUuDsuIzOqdg"
      },
      "source": [
        "#แบบหนึ่งจำนวนเต็ม (int or integer)"
      ]
    },
    {
      "cell_type": "code",
      "metadata": {
        "colab": {
          "base_uri": "https://localhost:8080/"
        },
        "id": "ROumkEgfO6_K",
        "outputId": "5090541a-88a0-40fb-fc2a-8ca5db8534f3"
      },
      "source": [
        "bbb = 2200\r\n",
        "print(bbb)"
      ],
      "execution_count": 4,
      "outputs": [
        {
          "output_type": "stream",
          "text": [
            "2200\n"
          ],
          "name": "stdout"
        }
      ]
    },
    {
      "cell_type": "markdown",
      "metadata": {
        "id": "bvjoqngPO4Q6"
      },
      "source": [
        "#จำนวนจริง(float)"
      ]
    },
    {
      "cell_type": "code",
      "metadata": {
        "colab": {
          "base_uri": "https://localhost:8080/"
        },
        "id": "s9XB0Pa3PO0y",
        "outputId": "3b361056-2aa5-4909-ed72-b0d272bc97c5"
      },
      "source": [
        "ccc = 22.\r\n",
        "print(ccc)"
      ],
      "execution_count": 5,
      "outputs": [
        {
          "output_type": "stream",
          "text": [
            "22.0\n"
          ],
          "name": "stdout"
        }
      ]
    },
    {
      "cell_type": "markdown",
      "metadata": {
        "id": "qNBFJc8FPaIR"
      },
      "source": [
        "#แบบตัวอักษร หรือข้อความ(character,text,string) เจอบ่อย"
      ]
    },
    {
      "cell_type": "code",
      "metadata": {
        "id": "lVhN9BtxPp0x",
        "colab": {
          "base_uri": "https://localhost:8080/"
        },
        "outputId": "28755312-90dc-41a5-c4dd-60c0406c5e09"
      },
      "source": [
        "ddd = '123456'  # จะใช้ single quote คือ ' หรือ double quote \"\" ล้อมตัวหนังสือเพื่อระบุว่าเป็นตัวอักษร character-string \r\n",
        "print(ddd)"
      ],
      "execution_count": 6,
      "outputs": [
        {
          "output_type": "stream",
          "text": [
            "123456\n"
          ],
          "name": "stdout"
        }
      ]
    },
    {
      "cell_type": "code",
      "metadata": {
        "colab": {
          "base_uri": "https://localhost:8080/"
        },
        "id": "p-1PbON39Mv4",
        "outputId": "3251d9fd-3cae-4a7b-bcfd-d19a8b9fc48a"
      },
      "source": [
        "bbb + ccc # int+float"
      ],
      "execution_count": 7,
      "outputs": [
        {
          "output_type": "execute_result",
          "data": {
            "text/plain": [
              "2222.0"
            ]
          },
          "metadata": {
            "tags": []
          },
          "execution_count": 7
        }
      ]
    },
    {
      "cell_type": "code",
      "metadata": {
        "id": "u9sCo6ooNaxR",
        "colab": {
          "base_uri": "https://localhost:8080/"
        },
        "outputId": "0d4c75b3-2bff-454c-f987-924815bde7da"
      },
      "source": [
        "a + bbb #int+int"
      ],
      "execution_count": 8,
      "outputs": [
        {
          "output_type": "execute_result",
          "data": {
            "text/plain": [
              "1236767"
            ]
          },
          "metadata": {
            "tags": []
          },
          "execution_count": 8
        }
      ]
    },
    {
      "cell_type": "code",
      "metadata": {
        "colab": {
          "base_uri": "https://localhost:8080/",
          "height": 162
        },
        "id": "C__eeB0H-D_r",
        "outputId": "003b81d3-daad-4a25-94cb-8b831e778d08"
      },
      "source": [
        "ccc + ddd # จะบวกกันไม่ได้เพราะเป็นตัวแปลคนล่ะชนิด mean float+string"
      ],
      "execution_count": 9,
      "outputs": [
        {
          "output_type": "error",
          "ename": "TypeError",
          "evalue": "ignored",
          "traceback": [
            "\u001b[0;31m---------------------------------------------------------------------------\u001b[0m",
            "\u001b[0;31mTypeError\u001b[0m                                 Traceback (most recent call last)",
            "\u001b[0;32m<ipython-input-9-a9c152692858>\u001b[0m in \u001b[0;36m<module>\u001b[0;34m()\u001b[0m\n\u001b[0;32m----> 1\u001b[0;31m \u001b[0mccc\u001b[0m \u001b[0;34m+\u001b[0m \u001b[0mddd\u001b[0m \u001b[0;31m# จะบวกกันไม่ได้เพราะเป็นตัวแปลคนล่ะชนิด mean float+string\u001b[0m\u001b[0;34m\u001b[0m\u001b[0;34m\u001b[0m\u001b[0m\n\u001b[0m",
            "\u001b[0;31mTypeError\u001b[0m: unsupported operand type(s) for +: 'float' and 'str'"
          ]
        }
      ]
    },
    {
      "cell_type": "code",
      "metadata": {
        "id": "KT1RiQyv-QBQ"
      },
      "source": [
        "ggg = 'เจ๋อหมิง'#can out put and in put thai lang.\r\n",
        "print(ggg)"
      ],
      "execution_count": null,
      "outputs": []
    },
    {
      "cell_type": "markdown",
      "metadata": {
        "id": "EybDNehF_OjM"
      },
      "source": [
        "## การเปลี่ยนชนิดของตัวแปร โดย เรียกว่า Variable casting"
      ]
    },
    {
      "cell_type": "code",
      "metadata": {
        "id": "rYCi1hoj-QPR"
      },
      "source": [
        "ccc + int(ddd)"
      ],
      "execution_count": null,
      "outputs": []
    },
    {
      "cell_type": "code",
      "metadata": {
        "id": "y2WDpw-T-Qlq"
      },
      "source": [
        "bbb + float(ddd)"
      ],
      "execution_count": null,
      "outputs": []
    },
    {
      "cell_type": "code",
      "metadata": {
        "id": "L_JlHoDvAcdC"
      },
      "source": [
        "str(ccc) #เปลี่ยนตัวเลขเป็นข้อความได้ หรืออาจจะเปลี่ยนข้อความเป็นตัวเลขได้"
      ],
      "execution_count": null,
      "outputs": []
    },
    {
      "cell_type": "markdown",
      "metadata": {
        "id": "tJKjr8WdBRs2"
      },
      "source": [
        "## Operation or Operater (+,-,*,/,%)"
      ]
    },
    {
      "cell_type": "code",
      "metadata": {
        "id": "C1ci__2lAcpZ"
      },
      "source": [
        "a+b #เราไม่ได้input B ดังนั้นจะบวกไม่ได้"
      ],
      "execution_count": null,
      "outputs": []
    },
    {
      "cell_type": "code",
      "metadata": {
        "id": "zPGIzncWB6re"
      },
      "source": [
        "bbb+ccc"
      ],
      "execution_count": null,
      "outputs": []
    },
    {
      "cell_type": "code",
      "metadata": {
        "id": "9BqCQeHoCdaG"
      },
      "source": [
        "ac = bbb*ccc\r\n",
        "print(ac)"
      ],
      "execution_count": null,
      "outputs": []
    },
    {
      "cell_type": "code",
      "metadata": {
        "id": "Q384_tbGCdm-"
      },
      "source": [
        "ac+ int(ddd)"
      ],
      "execution_count": null,
      "outputs": []
    },
    {
      "cell_type": "markdown",
      "metadata": {
        "id": "qJ2ytCOiC7EX"
      },
      "source": [
        "## Modulo คือการหารเเล้วเอาแค่เศษ หรือก็คือผลลัพธ์ที่ได้มาจะเป็นเศษเหลือ %"
      ]
    },
    {
      "cell_type": "code",
      "metadata": {
        "id": "G1d0nozKCd2c"
      },
      "source": [
        "6%4"
      ],
      "execution_count": null,
      "outputs": []
    },
    {
      "cell_type": "code",
      "metadata": {
        "id": "P80VLr0BCeSp"
      },
      "source": [
        "7%3 #7หาร3ปกติจะได้ 2 เศษ 1"
      ],
      "execution_count": null,
      "outputs": []
    },
    {
      "cell_type": "markdown",
      "metadata": {
        "id": "MGZNFtrGDjpl"
      },
      "source": [
        "##คำสั่ง print แบบพิเศษ(การ Format String)"
      ]
    },
    {
      "cell_type": "code",
      "metadata": {
        "id": "Unpp2DroDzxU"
      },
      "source": [
        "print('ตัวแปร') #ข้างในคือตัวแปร และ string"
      ],
      "execution_count": null,
      "outputs": []
    },
    {
      "cell_type": "code",
      "metadata": {
        "id": "WqFqqzVoFsuX"
      },
      "source": [
        "print(f'% คือการหารเอาเศษ เช่น 5%2 = {5%2}')"
      ],
      "execution_count": null,
      "outputs": []
    },
    {
      "cell_type": "code",
      "metadata": {
        "id": "26mEd5UuD0GZ"
      },
      "source": [
        "print(f'% คือการหารเอาเศษ เช่น 5%2 = {5%2} \\\\\r\n",
        "แต่\\n/ คือการหารแบบปกติ เช่น 7/3 = {7/3} \\\\\r\n",
        "       and\\n/คือ การหารเอาส่วน เช่น 7//3 = {7//3}\\\\\r\n",
        "       or\\nใช้ int() เพื่อหารเอาส่วน เช่น 7/3 = {int(7/3)}') #\\n คือการขึ้นบบรรทัดใหม่ \\\\ ใช้ในการตัด code แต่ com จะไม่เห็น"
      ],
      "execution_count": null,
      "outputs": []
    },
    {
      "cell_type": "markdown",
      "metadata": {
        "id": "kMOXvwRtH5HT"
      },
      "source": [
        "##DATA structure or โครงสร้างข้อมูล"
      ]
    },
    {
      "cell_type": "markdown",
      "metadata": {
        "id": "vMMjKZlWIK1n"
      },
      "source": [
        "###List คือ การเอาข้อมูลหลายๆตัวมาเรียงต่อกัน\r\n",
        "####list สามารถสร้างได้ 2 แบบ"
      ]
    },
    {
      "cell_type": "markdown",
      "metadata": {
        "id": "yUM9vg38JM5h"
      },
      "source": [
        "#####1.square brackets "
      ]
    },
    {
      "cell_type": "code",
      "metadata": {
        "id": "VoD3-AXjJY2q"
      },
      "source": [
        "list_a = []\r\n",
        "print(list_a )"
      ],
      "execution_count": null,
      "outputs": []
    },
    {
      "cell_type": "code",
      "metadata": {
        "id": "KUfijuetE4PM"
      },
      "source": [
        "list_b = [111,'c','alone',bbb]\r\n",
        "print(list_b )"
      ],
      "execution_count": null,
      "outputs": []
    },
    {
      "cell_type": "code",
      "metadata": {
        "id": "p54SvGoLJkcE"
      },
      "source": [
        "list_b[1]"
      ],
      "execution_count": null,
      "outputs": []
    },
    {
      "cell_type": "markdown",
      "metadata": {
        "id": "94bY2qm0KF0O"
      },
      "source": [
        "##ลำดับที่อยู่ใน list มีความสำคัญโดยจะเริ่มนับตำแหน่งจาก 0,1,2,..."
      ]
    },
    {
      "cell_type": "code",
      "metadata": {
        "id": "ECWg8oMOKd-c"
      },
      "source": [
        "list_b[0]"
      ],
      "execution_count": null,
      "outputs": []
    },
    {
      "cell_type": "markdown",
      "metadata": {
        "id": "SUwo0LLzJmjy"
      },
      "source": [
        "####2."
      ]
    },
    {
      "cell_type": "code",
      "metadata": {
        "id": "xWnpYofxJlN8"
      },
      "source": [
        "list_c=list()\r\n",
        "print(list_c)"
      ],
      "execution_count": null,
      "outputs": []
    },
    {
      "cell_type": "markdown",
      "metadata": {
        "id": "1zQr7BaNK8E9"
      },
      "source": [
        "##append()เพิ่มสมาชิกในlist"
      ]
    },
    {
      "cell_type": "code",
      "metadata": {
        "id": "zWmi9kBBLBED"
      },
      "source": [
        "list_b.append('u') # add u in at list b\r\n",
        "print(list_b)"
      ],
      "execution_count": null,
      "outputs": []
    },
    {
      "cell_type": "code",
      "metadata": {
        "id": "mbDRfGuLLyNI"
      },
      "source": [
        "list_b[-1] # ตัวข้างในวงเล็บจากตัวแปรเรียกว่า อินเด็ซ ใช้สำหรับชี้ข้อมูล"
      ],
      "execution_count": null,
      "outputs": []
    },
    {
      "cell_type": "markdown",
      "metadata": {
        "id": "FJD8tvSYLyjU"
      },
      "source": [
        "##String > list of character"
      ]
    },
    {
      "cell_type": "code",
      "metadata": {
        "id": "8VJGo1IxLzBl"
      },
      "source": [
        "t = 'Python easily'\r\n",
        "t"
      ],
      "execution_count": null,
      "outputs": []
    },
    {
      "cell_type": "code",
      "metadata": {
        "id": "SM_Sf2mUMmpE"
      },
      "source": [
        "t[1]"
      ],
      "execution_count": null,
      "outputs": []
    },
    {
      "cell_type": "code",
      "metadata": {
        "id": "MtMtKB32M1b_"
      },
      "source": [
        "t[0]"
      ],
      "execution_count": null,
      "outputs": []
    },
    {
      "cell_type": "markdown",
      "metadata": {
        "id": "lQH9OW7nNAKU"
      },
      "source": [
        "end 5 มค 2021"
      ]
    },
    {
      "cell_type": "markdown",
      "metadata": {
        "id": "foRfaShFhjVE"
      },
      "source": [
        "#คาบ3 11 มกราคม 2021"
      ]
    },
    {
      "cell_type": "code",
      "metadata": {
        "id": "DnZwzIKThYr-"
      },
      "source": [
        "len(t)"
      ],
      "execution_count": null,
      "outputs": []
    },
    {
      "cell_type": "code",
      "metadata": {
        "id": "_Hlf-dyAisgU"
      },
      "source": [
        "len(list_b) # len คือคำสั่งตรวจสอบความยาวของ ลิส (จำนวนสมาชิก)"
      ],
      "execution_count": null,
      "outputs": []
    },
    {
      "cell_type": "code",
      "metadata": {
        "id": "354_BPSUitd_"
      },
      "source": [
        "t[-4]"
      ],
      "execution_count": null,
      "outputs": []
    },
    {
      "cell_type": "code",
      "metadata": {
        "id": "eOAEbDAiq6Ue"
      },
      "source": [
        "list_b.append(t)\r\n",
        "print(list_b)"
      ],
      "execution_count": null,
      "outputs": []
    },
    {
      "cell_type": "markdown",
      "metadata": {
        "id": "lmzXBDwvkRrN"
      },
      "source": [
        "####ตัวที่อยู่ข้างใน [] เราเรียกว่า index หรือ ตัวชี้"
      ]
    },
    {
      "cell_type": "markdown",
      "metadata": {
        "id": "b8R5_ZK7ne-R"
      },
      "source": [
        "####List"
      ]
    },
    {
      "cell_type": "code",
      "metadata": {
        "id": "p3UPW-QLnQl9"
      },
      "source": [
        "print(t)\r\n",
        "print(t[7:9])\r\n",
        "print(len(t[7:9]))"
      ],
      "execution_count": null,
      "outputs": []
    },
    {
      "cell_type": "code",
      "metadata": {
        "id": "WkBFB1xLn7Zn"
      },
      "source": [
        "t[0:13:2]"
      ],
      "execution_count": null,
      "outputs": []
    },
    {
      "cell_type": "code",
      "metadata": {
        "id": "s0A3V3VXn7tP"
      },
      "source": [
        "z = [1,2,3,4,5,6,7,8,9,10]"
      ],
      "execution_count": null,
      "outputs": []
    },
    {
      "cell_type": "markdown",
      "metadata": {
        "id": "a1C3ruFooWTl"
      },
      "source": [
        "### quiz\r\n",
        "ให้ใช้ list slicing เลือกมาเฉพาะเลขคู่"
      ]
    },
    {
      "cell_type": "code",
      "metadata": {
        "id": "irQvp2vcomKd"
      },
      "source": [
        "print(z[1:10:2]) # z เริ่มด้วยตัวที่สอง คือ ตัวที่ 1 จากสมาชิกทั้งหมด 10 ตัว ให้กระโดดไปทีล่ะ 2"
      ],
      "execution_count": null,
      "outputs": []
    },
    {
      "cell_type": "markdown",
      "metadata": {
        "id": "As2hNoENpTn0"
      },
      "source": [
        "ถ้าเว้นว่างหน้า : หมายความว่า เริ่มตั้งแต่ตัวแรก (0)\r\n",
        "\r\n",
        "ถ้าเว้นว่างหลัง : หมายความว่า ไปจนถึงตัวสุดท้าย(len(list))"
      ]
    },
    {
      "cell_type": "code",
      "metadata": {
        "id": "w5e58SHYp-Ol"
      },
      "source": [
        "print(t)\r\n",
        "print(t[:6])\r\n",
        "print(t[10:])\r\n",
        "print(t[-4:])\r\n",
        "print(t[:])"
      ],
      "execution_count": null,
      "outputs": []
    },
    {
      "cell_type": "code",
      "metadata": {
        "id": "qoZ6KeAIqVzz"
      },
      "source": [
        "print(z[::2])"
      ],
      "execution_count": null,
      "outputs": []
    },
    {
      "cell_type": "markdown",
      "metadata": {
        "id": "Eg76-TcKr0Ey"
      },
      "source": [
        "เราสามารถเอา list มาต่อกันได้ด้วย +"
      ]
    },
    {
      "cell_type": "code",
      "metadata": {
        "id": "ncPH2AbDr6-t"
      },
      "source": [
        "t + '??'"
      ],
      "execution_count": null,
      "outputs": []
    },
    {
      "cell_type": "code",
      "metadata": {
        "id": "Hb7vRXwPsGKa"
      },
      "source": [
        "t + list_b #ไม่สามารถเอาลิสปกติมาต่อกับ string ได้"
      ],
      "execution_count": null,
      "outputs": []
    },
    {
      "cell_type": "code",
      "metadata": {
        "id": "AbVakp8lsXwP"
      },
      "source": [
        "print(list_a)\r\n",
        "print(list_b)\r\n",
        "print(list_a + list_b) #เอาสมาชิกมารวมกัน"
      ],
      "execution_count": null,
      "outputs": []
    },
    {
      "cell_type": "code",
      "metadata": {
        "id": "VLPZihnntIcJ"
      },
      "source": [
        "list_b.append(list_a) #เอาสมาชิกมาต่อกัน ดังนั้น จะไม่เหมือน +\r\n",
        "print(list_b)"
      ],
      "execution_count": null,
      "outputs": []
    },
    {
      "cell_type": "markdown",
      "metadata": {
        "id": "208ICpz5strp"
      },
      "source": [
        "การแบ่ง string ตามสัญลักษณ์ที่กำหนด -> split string"
      ]
    },
    {
      "cell_type": "code",
      "metadata": {
        "id": "OZVc3pz1uHea"
      },
      "source": [
        "t"
      ],
      "execution_count": null,
      "outputs": []
    },
    {
      "cell_type": "code",
      "metadata": {
        "id": "MuraVhE0t0Xc"
      },
      "source": [
        "t.split(' ')"
      ],
      "execution_count": null,
      "outputs": []
    },
    {
      "cell_type": "code",
      "metadata": {
        "id": "JLu7Fk-it0jx"
      },
      "source": [
        "time = '12:30:15'"
      ],
      "execution_count": null,
      "outputs": []
    },
    {
      "cell_type": "code",
      "metadata": {
        "id": "1kBsHgCMt0xN"
      },
      "source": [
        "time.split(':')"
      ],
      "execution_count": null,
      "outputs": []
    },
    {
      "cell_type": "code",
      "metadata": {
        "id": "0u_ji6X6t0_A"
      },
      "source": [
        "t.sp = t.split(' ')\r\n",
        "print(t.sp)"
      ],
      "execution_count": null,
      "outputs": []
    },
    {
      "cell_type": "markdown",
      "metadata": {
        "id": "s-7ccUHmviEk"
      },
      "source": [
        "###Homework คำนวณเวลาเป็นวินาทีของเวลาต่อไปนี้โดยใช้คำสั่ง split() ช่วย print ออกมาให้สวยงาม\r\n",
        "\r\n",
        "12:30:15\r\n",
        "\r\n",
        "13:41:07\r\n",
        "\r\n",
        "12:53:15\r\n",
        "\r\n",
        "00:59:25\r\n",
        "\r\n",
        "11:11:11\r\n",
        "\r\n",
        "16:06:09\r\n",
        "\r\n",
        "21:12:30\r\n",
        "\r\n",
        "10:06:15\r\n",
        "ตัวอย่าง > 00:01:10 = 70 sec"
      ]
    },
    {
      "cell_type": "code",
      "metadata": {
        "colab": {
          "base_uri": "https://localhost:8080/"
        },
        "id": "NZl40n-Rw4D2",
        "outputId": "e3b46c6b-fa44-48aa-c564-96f70a26b1c4"
      },
      "source": [
        "q1 = '12:30:15'\r\n",
        "q1.split(':')\r\n",
        "list_q1 = [12,30,15]\r\n",
        "hr = list_q1[0]*3600 #แปลงชั่วโมงเป็นวินาที\r\n",
        "mi = list_q1[1]*60   #แปลงนาทีเป็นวินาที\r\n",
        "s = list_q1[2]\r\n",
        "aq1 = hr+mi+s\r\n",
        "print(aq1,'วินาที')"
      ],
      "execution_count": 10,
      "outputs": [
        {
          "output_type": "stream",
          "text": [
            "45015 วินาที\n"
          ],
          "name": "stdout"
        }
      ]
    },
    {
      "cell_type": "code",
      "metadata": {
        "id": "KKHvDmp3YegD",
        "colab": {
          "base_uri": "https://localhost:8080/"
        },
        "outputId": "f8791165-29dd-4f28-dd2c-fd3b876ad91b"
      },
      "source": [
        "q2 = '13:41:07'\r\n",
        "q2.split(':')\r\n",
        "list_q2 = [13,41,7]\r\n",
        "hr2 = list_q2[0]*3600\r\n",
        "mi2 = list_q2[1]*60\r\n",
        "s2 = list_q2[2]\r\n",
        "aq2 = hr2+mi2+s2\r\n",
        "print(aq2,'วินาที')"
      ],
      "execution_count": 11,
      "outputs": [
        {
          "output_type": "stream",
          "text": [
            "49267 วินาที\n"
          ],
          "name": "stdout"
        }
      ]
    },
    {
      "cell_type": "code",
      "metadata": {
        "id": "htbNkryCYo6g",
        "colab": {
          "base_uri": "https://localhost:8080/"
        },
        "outputId": "73eede57-ce7d-44e4-e098-508e1a414f72"
      },
      "source": [
        "q3 = '12:53:15'\r\n",
        "q3.split(':')\r\n",
        "list_q3 = [12,53,15]\r\n",
        "hr3 = list_q3[0]*3600\r\n",
        "mi3 = list_q3[1]*60\r\n",
        "s3 = list_q3[2]\r\n",
        "aq3 = hr3+mi3+s3\r\n",
        "print(aq3,'วินาที')"
      ],
      "execution_count": 12,
      "outputs": [
        {
          "output_type": "stream",
          "text": [
            "46395 วินาที\n"
          ],
          "name": "stdout"
        }
      ]
    },
    {
      "cell_type": "code",
      "metadata": {
        "id": "EkQ0DUmQYp0F",
        "colab": {
          "base_uri": "https://localhost:8080/"
        },
        "outputId": "2b62945a-913e-475c-f8e8-465e3025756b"
      },
      "source": [
        "q4 = '00:59:25'\r\n",
        "q4.split(':')\r\n",
        "list_q4 = [00,59,25]\r\n",
        "hr4 = list_q4[0]*3600\r\n",
        "mi4 = list_q4[1]*60\r\n",
        "s4 = list_q4[2]\r\n",
        "aq4 = hr4+mi4+s4\r\n",
        "print(aq4,'วินาที')"
      ],
      "execution_count": 13,
      "outputs": [
        {
          "output_type": "stream",
          "text": [
            "3565 วินาที\n"
          ],
          "name": "stdout"
        }
      ]
    },
    {
      "cell_type": "code",
      "metadata": {
        "id": "kwJRn0ZcY2Er",
        "colab": {
          "base_uri": "https://localhost:8080/"
        },
        "outputId": "5444658c-7af6-47e6-8c52-53bb6b29462d"
      },
      "source": [
        "q5 = '11:11:11'\r\n",
        "q5.split(':')\r\n",
        "list_q5 = [11,11,11]\r\n",
        "hr5 = list_q5[0]*3600\r\n",
        "mi5 = list_q5[1]*60\r\n",
        "s5 = list_q5[2]\r\n",
        "aq5 = hr5+mi5+s5\r\n",
        "print(aq5,'วินาที')"
      ],
      "execution_count": 14,
      "outputs": [
        {
          "output_type": "stream",
          "text": [
            "40271 วินาที\n"
          ],
          "name": "stdout"
        }
      ]
    },
    {
      "cell_type": "code",
      "metadata": {
        "id": "ZuHx3B3XY-lV",
        "colab": {
          "base_uri": "https://localhost:8080/"
        },
        "outputId": "25284815-eb91-47e0-b109-519d0c361619"
      },
      "source": [
        "q6 = '16:06:09'\r\n",
        "q6.split(':')\r\n",
        "list_q6 = [16,6,9]\r\n",
        "hr6 = list_q6[0]*3600\r\n",
        "mi6 = list_q6[1]*60\r\n",
        "s6 = list_q6[2]\r\n",
        "aq6 = hr6+mi6+s6\r\n",
        "print(aq6,'วินาที')"
      ],
      "execution_count": 15,
      "outputs": [
        {
          "output_type": "stream",
          "text": [
            "57969 วินาที\n"
          ],
          "name": "stdout"
        }
      ]
    },
    {
      "cell_type": "code",
      "metadata": {
        "id": "_mOr9z6EY-wM",
        "colab": {
          "base_uri": "https://localhost:8080/"
        },
        "outputId": "3a6cb821-be46-4672-ee0c-1b7baf4c7809"
      },
      "source": [
        "q7 = '21:12:30'\r\n",
        "q7.split(':')\r\n",
        "list_q7 = [21,12,30]\r\n",
        "hr7 = list_q7[0]*3600\r\n",
        "mi7 = list_q7[1]*60\r\n",
        "s7 = list_q7[2]\r\n",
        "aq7 = hr7+mi7+s7\r\n",
        "print(aq7,'วินาที')"
      ],
      "execution_count": 16,
      "outputs": [
        {
          "output_type": "stream",
          "text": [
            "76350 วินาที\n"
          ],
          "name": "stdout"
        }
      ]
    },
    {
      "cell_type": "code",
      "metadata": {
        "id": "BuA2Z5jRZKAk",
        "colab": {
          "base_uri": "https://localhost:8080/"
        },
        "outputId": "e85ca699-e7c6-43cd-cfb2-9dcfc4df2a20"
      },
      "source": [
        "q8 = '10:06:15'\r\n",
        "q8.split(':')\r\n",
        "list_q8 = [10,6,15]\r\n",
        "hr8 = list_q8[0]*3600\r\n",
        "mi8 = list_q8[1]*60\r\n",
        "s8 = list_q8[2]\r\n",
        "aq8 = hr8+mi8+s8\r\n",
        "print(aq8,'วินาที')"
      ],
      "execution_count": 17,
      "outputs": [
        {
          "output_type": "stream",
          "text": [
            "36375 วินาที\n"
          ],
          "name": "stdout"
        }
      ]
    }
  ]
}