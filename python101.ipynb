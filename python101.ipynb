{
  "nbformat": 4,
  "nbformat_minor": 0,
  "metadata": {
    "colab": {
      "name": "python101.ipynb",
      "provenance": [],
      "authorship_tag": "ABX9TyP/MzaUmvfo6IH1woHTAGqS",
      "include_colab_link": true
    },
    "kernelspec": {
      "name": "python3",
      "display_name": "Python 3"
    }
  },
  "cells": [
    {
      "cell_type": "markdown",
      "metadata": {
        "id": "view-in-github",
        "colab_type": "text"
      },
      "source": [
        "<a href=\"https://colab.research.google.com/github/623020514-5/multivariate/blob/main/python101.ipynb\" target=\"_parent\"><img src=\"https://colab.research.google.com/assets/colab-badge.svg\" alt=\"Open In Colab\"/></a>"
      ]
    },
    {
      "cell_type": "markdown",
      "metadata": {
        "id": "VdzGuc8WLlMw"
      },
      "source": [
        "ตัวแปร or variable"
      ]
    },
    {
      "cell_type": "markdown",
      "metadata": {
        "id": "klTagPGyMX0Z"
      },
      "source": [
        "หลักการตั้งชื่อตัวแปรต้น\r\n",
        "\r\n",
        "  1.ตั้งให้สื่อความหมาย\r\n",
        "\r\n",
        "  2.ภาษาอังกฤษ\r\n",
        "\r\n",
        "  3.ใช้ตัวเลขได้แต่ห้ามขึ้นต้นด้วยตัวเลข\r\n",
        "\r\n",
        "  4.ห้ามเว้นวรรค\r\n",
        "  \r\n",
        "  5.ตัวเล็กกับตัวใหญ่ไม่เหมือนกัน"
      ]
    },
    {
      "cell_type": "code",
      "metadata": {
        "id": "p_M3ukJoLxyt"
      },
      "source": [
        "Pi = 3.14159"
      ],
      "execution_count": 6,
      "outputs": []
    },
    {
      "cell_type": "code",
      "metadata": {
        "colab": {
          "base_uri": "https://localhost:8080/"
        },
        "id": "DdZ_aceBMVGN",
        "outputId": "e7301b08-1f49-49b2-df42-79a5dcc9edb6"
      },
      "source": [
        "Pi"
      ],
      "execution_count": 7,
      "outputs": [
        {
          "output_type": "execute_result",
          "data": {
            "text/plain": [
              "3.14159"
            ]
          },
          "metadata": {
            "tags": []
          },
          "execution_count": 7
        }
      ]
    },
    {
      "cell_type": "code",
      "metadata": {
        "colab": {
          "base_uri": "https://localhost:8080/"
        },
        "id": "YRhX7p9dNIVK",
        "outputId": "acab0a86-274e-4d16-f736-2ec1e63e74ef"
      },
      "source": [
        "a = 1234567\r\n",
        "print(a) #แสดงผล"
      ],
      "execution_count": 8,
      "outputs": [
        {
          "output_type": "stream",
          "text": [
            "1234567\n"
          ],
          "name": "stdout"
        }
      ]
    },
    {
      "cell_type": "markdown",
      "metadata": {
        "id": "xoNZsdu2Nnvt"
      },
      "source": [
        "ชนิดของตัวแปร 3 ชนิด\r\n"
      ]
    },
    {
      "cell_type": "markdown",
      "metadata": {
        "id": "oUuDsuIzOqdg"
      },
      "source": [
        "#แบบหนึ่งจำนวนเต็ม (int or integer)"
      ]
    },
    {
      "cell_type": "code",
      "metadata": {
        "colab": {
          "base_uri": "https://localhost:8080/"
        },
        "id": "ROumkEgfO6_K",
        "outputId": "4562b589-87c9-43b3-b29b-5dd397a3d052"
      },
      "source": [
        "bbb = 2200\r\n",
        "print(bbb)"
      ],
      "execution_count": 9,
      "outputs": [
        {
          "output_type": "stream",
          "text": [
            "2200\n"
          ],
          "name": "stdout"
        }
      ]
    },
    {
      "cell_type": "markdown",
      "metadata": {
        "id": "bvjoqngPO4Q6"
      },
      "source": [
        "#จำนวนจริง(float)"
      ]
    },
    {
      "cell_type": "code",
      "metadata": {
        "colab": {
          "base_uri": "https://localhost:8080/"
        },
        "id": "s9XB0Pa3PO0y",
        "outputId": "ba328178-3f0f-4f89-d4ae-79edadd4d595"
      },
      "source": [
        "ccc = 22.\r\n",
        "print(ccc)"
      ],
      "execution_count": 10,
      "outputs": [
        {
          "output_type": "stream",
          "text": [
            "22.0\n"
          ],
          "name": "stdout"
        }
      ]
    },
    {
      "cell_type": "markdown",
      "metadata": {
        "id": "qNBFJc8FPaIR"
      },
      "source": [
        "#แบบตัวอักษร หรือข้อความ(character,text,string) เจอบ่อย"
      ]
    },
    {
      "cell_type": "code",
      "metadata": {
        "id": "lVhN9BtxPp0x",
        "colab": {
          "base_uri": "https://localhost:8080/"
        },
        "outputId": "132b3454-e764-49cf-ad48-e92935faefd7"
      },
      "source": [
        "ddd = '123456'  # จะใช้ single quote คือ ' หรือ double quote \"\" ล้อมตัวหนังสือเพื่อระบุว่าเป็นตัวอักษร character-string \r\n",
        "print(ddd)"
      ],
      "execution_count": 11,
      "outputs": [
        {
          "output_type": "stream",
          "text": [
            "123456\n"
          ],
          "name": "stdout"
        }
      ]
    },
    {
      "cell_type": "code",
      "metadata": {
        "colab": {
          "base_uri": "https://localhost:8080/"
        },
        "id": "p-1PbON39Mv4",
        "outputId": "f44b428e-2fb3-4be0-f3fc-cb7f54a6d92a"
      },
      "source": [
        "bbb + ccc # int+float"
      ],
      "execution_count": 12,
      "outputs": [
        {
          "output_type": "execute_result",
          "data": {
            "text/plain": [
              "2222.0"
            ]
          },
          "metadata": {
            "tags": []
          },
          "execution_count": 12
        }
      ]
    },
    {
      "cell_type": "code",
      "metadata": {
        "id": "u9sCo6ooNaxR",
        "colab": {
          "base_uri": "https://localhost:8080/"
        },
        "outputId": "b3551532-c490-4aac-9d78-a7470456899a"
      },
      "source": [
        "a + bbb #int+int"
      ],
      "execution_count": 13,
      "outputs": [
        {
          "output_type": "execute_result",
          "data": {
            "text/plain": [
              "1236767"
            ]
          },
          "metadata": {
            "tags": []
          },
          "execution_count": 13
        }
      ]
    },
    {
      "cell_type": "code",
      "metadata": {
        "colab": {
          "base_uri": "https://localhost:8080/",
          "height": 162
        },
        "id": "C__eeB0H-D_r",
        "outputId": "b42685e8-a092-4156-b98f-3b646906dac5"
      },
      "source": [
        "ccc + ddd # จะบวกกันไม่ได้เพราะเป็นตัวแปลคนล่ะชนิด mean float+string"
      ],
      "execution_count": 14,
      "outputs": [
        {
          "output_type": "error",
          "ename": "TypeError",
          "evalue": "ignored",
          "traceback": [
            "\u001b[0;31m---------------------------------------------------------------------------\u001b[0m",
            "\u001b[0;31mTypeError\u001b[0m                                 Traceback (most recent call last)",
            "\u001b[0;32m<ipython-input-14-a9c152692858>\u001b[0m in \u001b[0;36m<module>\u001b[0;34m()\u001b[0m\n\u001b[0;32m----> 1\u001b[0;31m \u001b[0mccc\u001b[0m \u001b[0;34m+\u001b[0m \u001b[0mddd\u001b[0m \u001b[0;31m# จะบวกกันไม่ได้เพราะเป็นตัวแปลคนล่ะชนิด mean float+string\u001b[0m\u001b[0;34m\u001b[0m\u001b[0;34m\u001b[0m\u001b[0m\n\u001b[0m",
            "\u001b[0;31mTypeError\u001b[0m: unsupported operand type(s) for +: 'float' and 'str'"
          ]
        }
      ]
    },
    {
      "cell_type": "code",
      "metadata": {
        "colab": {
          "base_uri": "https://localhost:8080/"
        },
        "id": "KT1RiQyv-QBQ",
        "outputId": "0be494aa-4e92-4966-a5fc-9b771defab1b"
      },
      "source": [
        "ggg = 'เจ๋อหมิง'#can out put and in put thai lang.\r\n",
        "print(ggg)"
      ],
      "execution_count": 15,
      "outputs": [
        {
          "output_type": "stream",
          "text": [
            "เจ๋อหมิง\n"
          ],
          "name": "stdout"
        }
      ]
    },
    {
      "cell_type": "markdown",
      "metadata": {
        "id": "EybDNehF_OjM"
      },
      "source": [
        "## การเปลี่ยนชนิดของตัวแปร โดย เรียกว่า Variable casting"
      ]
    },
    {
      "cell_type": "code",
      "metadata": {
        "colab": {
          "base_uri": "https://localhost:8080/"
        },
        "id": "rYCi1hoj-QPR",
        "outputId": "e778e5a1-daf6-48d1-e99c-9459818908d0"
      },
      "source": [
        "ccc + int(ddd)"
      ],
      "execution_count": 16,
      "outputs": [
        {
          "output_type": "execute_result",
          "data": {
            "text/plain": [
              "123478.0"
            ]
          },
          "metadata": {
            "tags": []
          },
          "execution_count": 16
        }
      ]
    },
    {
      "cell_type": "code",
      "metadata": {
        "colab": {
          "base_uri": "https://localhost:8080/"
        },
        "id": "y2WDpw-T-Qlq",
        "outputId": "a5413f08-c524-4ffb-decf-e48d307280b7"
      },
      "source": [
        "bbb + float(ddd)"
      ],
      "execution_count": 17,
      "outputs": [
        {
          "output_type": "execute_result",
          "data": {
            "text/plain": [
              "125656.0"
            ]
          },
          "metadata": {
            "tags": []
          },
          "execution_count": 17
        }
      ]
    },
    {
      "cell_type": "code",
      "metadata": {
        "colab": {
          "base_uri": "https://localhost:8080/",
          "height": 35
        },
        "id": "L_JlHoDvAcdC",
        "outputId": "ffa55815-e8f9-40d8-9ce2-1568f421d46f"
      },
      "source": [
        "str(ccc) #เปลี่ยนตัวเลขเป็นข้อความได้ หรืออาจจะเปลี่ยนข้อความเป็นตัวเลขได้"
      ],
      "execution_count": 18,
      "outputs": [
        {
          "output_type": "execute_result",
          "data": {
            "application/vnd.google.colaboratory.intrinsic+json": {
              "type": "string"
            },
            "text/plain": [
              "'22.0'"
            ]
          },
          "metadata": {
            "tags": []
          },
          "execution_count": 18
        }
      ]
    },
    {
      "cell_type": "markdown",
      "metadata": {
        "id": "tJKjr8WdBRs2"
      },
      "source": [
        "## Operation or Operater (+,-,*,/,%)"
      ]
    },
    {
      "cell_type": "code",
      "metadata": {
        "colab": {
          "base_uri": "https://localhost:8080/",
          "height": 162
        },
        "id": "C1ci__2lAcpZ",
        "outputId": "26267e14-242b-481e-e295-fe6e89733e06"
      },
      "source": [
        "a+b #เราไม่ได้input B ดังนั้นจะบวกไม่ได้"
      ],
      "execution_count": 19,
      "outputs": [
        {
          "output_type": "error",
          "ename": "NameError",
          "evalue": "ignored",
          "traceback": [
            "\u001b[0;31m---------------------------------------------------------------------------\u001b[0m",
            "\u001b[0;31mNameError\u001b[0m                                 Traceback (most recent call last)",
            "\u001b[0;32m<ipython-input-19-83e316a7ae67>\u001b[0m in \u001b[0;36m<module>\u001b[0;34m()\u001b[0m\n\u001b[0;32m----> 1\u001b[0;31m \u001b[0ma\u001b[0m\u001b[0;34m+\u001b[0m\u001b[0mb\u001b[0m \u001b[0;31m#เราไม่ได้input B ดังนั้นจะบวกไม่ได้\u001b[0m\u001b[0;34m\u001b[0m\u001b[0;34m\u001b[0m\u001b[0m\n\u001b[0m",
            "\u001b[0;31mNameError\u001b[0m: name 'b' is not defined"
          ]
        }
      ]
    },
    {
      "cell_type": "code",
      "metadata": {
        "colab": {
          "base_uri": "https://localhost:8080/"
        },
        "id": "zPGIzncWB6re",
        "outputId": "8b1d848d-5450-4f37-f567-a5578178c052"
      },
      "source": [
        "bbb+ccc"
      ],
      "execution_count": 20,
      "outputs": [
        {
          "output_type": "execute_result",
          "data": {
            "text/plain": [
              "2222.0"
            ]
          },
          "metadata": {
            "tags": []
          },
          "execution_count": 20
        }
      ]
    },
    {
      "cell_type": "code",
      "metadata": {
        "colab": {
          "base_uri": "https://localhost:8080/"
        },
        "id": "9BqCQeHoCdaG",
        "outputId": "49b5bb21-37f7-4a5c-dc87-c2400fc7c1d9"
      },
      "source": [
        "ac = bbb*ccc\r\n",
        "print(ac)"
      ],
      "execution_count": 21,
      "outputs": [
        {
          "output_type": "stream",
          "text": [
            "48400.0\n"
          ],
          "name": "stdout"
        }
      ]
    },
    {
      "cell_type": "code",
      "metadata": {
        "colab": {
          "base_uri": "https://localhost:8080/"
        },
        "id": "Q384_tbGCdm-",
        "outputId": "b9889ab2-1d82-4907-c197-55862baec930"
      },
      "source": [
        "ac+ int(ddd)"
      ],
      "execution_count": 22,
      "outputs": [
        {
          "output_type": "execute_result",
          "data": {
            "text/plain": [
              "171856.0"
            ]
          },
          "metadata": {
            "tags": []
          },
          "execution_count": 22
        }
      ]
    },
    {
      "cell_type": "markdown",
      "metadata": {
        "id": "qJ2ytCOiC7EX"
      },
      "source": [
        "## Modulo คือการหารเเล้วเอาแค่เศษ หรือก็คือผลลัพธ์ที่ได้มาจะเป็นเศษเหลือ %"
      ]
    },
    {
      "cell_type": "code",
      "metadata": {
        "colab": {
          "base_uri": "https://localhost:8080/"
        },
        "id": "G1d0nozKCd2c",
        "outputId": "826a7d64-c2ab-4d3b-e06b-1e6e4fc08f69"
      },
      "source": [
        "6%4"
      ],
      "execution_count": 23,
      "outputs": [
        {
          "output_type": "execute_result",
          "data": {
            "text/plain": [
              "2"
            ]
          },
          "metadata": {
            "tags": []
          },
          "execution_count": 23
        }
      ]
    },
    {
      "cell_type": "code",
      "metadata": {
        "colab": {
          "base_uri": "https://localhost:8080/"
        },
        "id": "P80VLr0BCeSp",
        "outputId": "4f3db820-3166-4b53-fed0-10288e1fd62a"
      },
      "source": [
        "7%3 #7หาร3ปกติจะได้ 2 เศษ 1"
      ],
      "execution_count": 24,
      "outputs": [
        {
          "output_type": "execute_result",
          "data": {
            "text/plain": [
              "1"
            ]
          },
          "metadata": {
            "tags": []
          },
          "execution_count": 24
        }
      ]
    },
    {
      "cell_type": "markdown",
      "metadata": {
        "id": "MGZNFtrGDjpl"
      },
      "source": [
        "##คำสั่ง print แบบพิเศษ(การ Format String)"
      ]
    },
    {
      "cell_type": "code",
      "metadata": {
        "colab": {
          "base_uri": "https://localhost:8080/"
        },
        "id": "Unpp2DroDzxU",
        "outputId": "8c953c90-61b2-4ffe-a478-46ee04a59b5a"
      },
      "source": [
        "print('ตัวแปร') #ข้างในคือตัวแปร และ string"
      ],
      "execution_count": 25,
      "outputs": [
        {
          "output_type": "stream",
          "text": [
            "ตัวแปร\n"
          ],
          "name": "stdout"
        }
      ]
    },
    {
      "cell_type": "code",
      "metadata": {
        "colab": {
          "base_uri": "https://localhost:8080/"
        },
        "id": "WqFqqzVoFsuX",
        "outputId": "b8c2cd02-3ee2-45d8-f1c9-376a8298c90e"
      },
      "source": [
        "print(f'% คือการหารเอาเศษ เช่น 5%2 = {5%2}')"
      ],
      "execution_count": 26,
      "outputs": [
        {
          "output_type": "stream",
          "text": [
            "% คือการหารเอาเศษ เช่น 5%2 = 1\n"
          ],
          "name": "stdout"
        }
      ]
    },
    {
      "cell_type": "code",
      "metadata": {
        "colab": {
          "base_uri": "https://localhost:8080/"
        },
        "id": "26mEd5UuD0GZ",
        "outputId": "3694c5a6-f553-4bac-b6f7-5e3b37201c98"
      },
      "source": [
        "print(f'% คือการหารเอาเศษ เช่น 5%2 = {5%2} \\\\\r\n",
        "แต่\\n/ คือการหารแบบปกติ เช่น 7/3 = {7/3} \\\\\r\n",
        "       and\\n/คือ การหารเอาส่วน เช่น 7//3 = {7//3}\\\\\r\n",
        "       or\\nใช้ int() เพื่อหารเอาส่วน เช่น 7/3 = {int(7/3)}') #\\n คือการขึ้นบบรรทัดใหม่ \\\\ ใช้ในการตัด code แต่ com จะไม่เห็น"
      ],
      "execution_count": 27,
      "outputs": [
        {
          "output_type": "stream",
          "text": [
            "% คือการหารเอาเศษ เช่น 5%2 = 1 \\แต่\n",
            "/ คือการหารแบบปกติ เช่น 7/3 = 2.3333333333333335 \\       and\n",
            "/คือ การหารเอาส่วน เช่น 7//3 = 2\\       or\n",
            "ใช้ int() เพื่อหารเอาส่วน เช่น 7/3 = 2\n"
          ],
          "name": "stdout"
        }
      ]
    },
    {
      "cell_type": "markdown",
      "metadata": {
        "id": "kMOXvwRtH5HT"
      },
      "source": [
        "##DATA structure or โครงสร้างข้อมูล"
      ]
    },
    {
      "cell_type": "markdown",
      "metadata": {
        "id": "vMMjKZlWIK1n"
      },
      "source": [
        "###List คือ การเอาข้อมูลหลายๆตัวมาเรียงต่อกัน\r\n",
        "####list สามารถสร้างได้ 2 แบบ"
      ]
    },
    {
      "cell_type": "markdown",
      "metadata": {
        "id": "yUM9vg38JM5h"
      },
      "source": [
        "#####1.square brackets "
      ]
    },
    {
      "cell_type": "code",
      "metadata": {
        "colab": {
          "base_uri": "https://localhost:8080/"
        },
        "id": "VoD3-AXjJY2q",
        "outputId": "eddbf9f9-36c5-4846-ec90-1e7ec0cb8b7c"
      },
      "source": [
        "list_a = []\r\n",
        "print(list_a )"
      ],
      "execution_count": 31,
      "outputs": [
        {
          "output_type": "stream",
          "text": [
            "[]\n"
          ],
          "name": "stdout"
        }
      ]
    },
    {
      "cell_type": "code",
      "metadata": {
        "colab": {
          "base_uri": "https://localhost:8080/"
        },
        "id": "KUfijuetE4PM",
        "outputId": "5986d020-9e09-4f2b-8fea-2d7a116885a1"
      },
      "source": [
        "list_b = [111,'c','alone',bbb]\r\n",
        "print(list_b )"
      ],
      "execution_count": 32,
      "outputs": [
        {
          "output_type": "stream",
          "text": [
            "[111, 'c', 'alone', 2200]\n"
          ],
          "name": "stdout"
        }
      ]
    },
    {
      "cell_type": "code",
      "metadata": {
        "colab": {
          "base_uri": "https://localhost:8080/",
          "height": 0
        },
        "id": "p54SvGoLJkcE",
        "outputId": "a51b6561-99d7-40b2-d40e-51ca277f33d1"
      },
      "source": [
        "list_b[1]"
      ],
      "execution_count": 33,
      "outputs": [
        {
          "output_type": "execute_result",
          "data": {
            "application/vnd.google.colaboratory.intrinsic+json": {
              "type": "string"
            },
            "text/plain": [
              "'c'"
            ]
          },
          "metadata": {
            "tags": []
          },
          "execution_count": 33
        }
      ]
    },
    {
      "cell_type": "markdown",
      "metadata": {
        "id": "94bY2qm0KF0O"
      },
      "source": [
        "##ลำดับที่อยู่ใน list มีความสำคัญโดยจะเริ่มนับตำแหน่งจาก 0,1,2,..."
      ]
    },
    {
      "cell_type": "code",
      "metadata": {
        "colab": {
          "base_uri": "https://localhost:8080/"
        },
        "id": "ECWg8oMOKd-c",
        "outputId": "1a4044d1-d2da-4481-829b-937fcba7b703"
      },
      "source": [
        "list_b[0]"
      ],
      "execution_count": 34,
      "outputs": [
        {
          "output_type": "execute_result",
          "data": {
            "text/plain": [
              "111"
            ]
          },
          "metadata": {
            "tags": []
          },
          "execution_count": 34
        }
      ]
    },
    {
      "cell_type": "markdown",
      "metadata": {
        "id": "SUwo0LLzJmjy"
      },
      "source": [
        "####2."
      ]
    },
    {
      "cell_type": "code",
      "metadata": {
        "colab": {
          "base_uri": "https://localhost:8080/"
        },
        "id": "xWnpYofxJlN8",
        "outputId": "23affa2c-d3f1-4159-f307-a68c058cce9b"
      },
      "source": [
        "list_c=list()\r\n",
        "print(list_c)"
      ],
      "execution_count": 35,
      "outputs": [
        {
          "output_type": "stream",
          "text": [
            "[]\n"
          ],
          "name": "stdout"
        }
      ]
    },
    {
      "cell_type": "markdown",
      "metadata": {
        "id": "1zQr7BaNK8E9"
      },
      "source": [
        "##append()เพิ่มสมาชิกในlist"
      ]
    },
    {
      "cell_type": "code",
      "metadata": {
        "colab": {
          "base_uri": "https://localhost:8080/"
        },
        "id": "zWmi9kBBLBED",
        "outputId": "fd6744df-93db-4b7e-a372-36f4bc83c4e2"
      },
      "source": [
        "list_b.append('u') # add u in at list b\r\n",
        "print(list_b)"
      ],
      "execution_count": 38,
      "outputs": [
        {
          "output_type": "stream",
          "text": [
            "[111, 'c', 'alone', 2200, 'u', 'u']\n"
          ],
          "name": "stdout"
        }
      ]
    },
    {
      "cell_type": "code",
      "metadata": {
        "colab": {
          "base_uri": "https://localhost:8080/",
          "height": 35
        },
        "id": "mbDRfGuLLyNI",
        "outputId": "54ec2e94-cf2d-4d21-c488-711c6e3b71c2"
      },
      "source": [
        "list_b[-1] # ตัวข้างในวงเล็บจากตัวแปรเรียกว่า อินเด็ซ ใช้สำหรับชี้ข้อมูล"
      ],
      "execution_count": 37,
      "outputs": [
        {
          "output_type": "execute_result",
          "data": {
            "application/vnd.google.colaboratory.intrinsic+json": {
              "type": "string"
            },
            "text/plain": [
              "'u'"
            ]
          },
          "metadata": {
            "tags": []
          },
          "execution_count": 37
        }
      ]
    },
    {
      "cell_type": "markdown",
      "metadata": {
        "id": "FJD8tvSYLyjU"
      },
      "source": [
        "##String > list of character"
      ]
    },
    {
      "cell_type": "code",
      "metadata": {
        "colab": {
          "base_uri": "https://localhost:8080/",
          "height": 35
        },
        "id": "8VJGo1IxLzBl",
        "outputId": "712a9b5c-8ddc-49fb-a52f-9786c77bb26e"
      },
      "source": [
        "t = 'Python easily'\r\n",
        "t"
      ],
      "execution_count": 39,
      "outputs": [
        {
          "output_type": "execute_result",
          "data": {
            "application/vnd.google.colaboratory.intrinsic+json": {
              "type": "string"
            },
            "text/plain": [
              "'Python easily'"
            ]
          },
          "metadata": {
            "tags": []
          },
          "execution_count": 39
        }
      ]
    },
    {
      "cell_type": "code",
      "metadata": {
        "colab": {
          "base_uri": "https://localhost:8080/",
          "height": 35
        },
        "id": "SM_Sf2mUMmpE",
        "outputId": "5b5ff67f-8060-4bb0-aae2-7f526d18b345"
      },
      "source": [
        "t[1]"
      ],
      "execution_count": 40,
      "outputs": [
        {
          "output_type": "execute_result",
          "data": {
            "application/vnd.google.colaboratory.intrinsic+json": {
              "type": "string"
            },
            "text/plain": [
              "'y'"
            ]
          },
          "metadata": {
            "tags": []
          },
          "execution_count": 40
        }
      ]
    },
    {
      "cell_type": "code",
      "metadata": {
        "colab": {
          "base_uri": "https://localhost:8080/",
          "height": 35
        },
        "id": "MtMtKB32M1b_",
        "outputId": "f3cf99f9-da4f-463c-e4d2-2ededec13072"
      },
      "source": [
        "t[0]"
      ],
      "execution_count": 41,
      "outputs": [
        {
          "output_type": "execute_result",
          "data": {
            "application/vnd.google.colaboratory.intrinsic+json": {
              "type": "string"
            },
            "text/plain": [
              "'P'"
            ]
          },
          "metadata": {
            "tags": []
          },
          "execution_count": 41
        }
      ]
    },
    {
      "cell_type": "markdown",
      "metadata": {
        "id": "lQH9OW7nNAKU"
      },
      "source": [
        "end 5 มค 2021"
      ]
    },
    {
      "cell_type": "markdown",
      "metadata": {
        "id": "foRfaShFhjVE"
      },
      "source": [
        "#คาบ3 11 มกราคม 2021"
      ]
    },
    {
      "cell_type": "code",
      "metadata": {
        "id": "DnZwzIKThYr-",
        "outputId": "f010e166-64de-4daa-ad4e-f201dcaafc7f",
        "colab": {
          "base_uri": "https://localhost:8080/"
        }
      },
      "source": [
        "len(t)"
      ],
      "execution_count": 44,
      "outputs": [
        {
          "output_type": "execute_result",
          "data": {
            "text/plain": [
              "13"
            ]
          },
          "metadata": {
            "tags": []
          },
          "execution_count": 44
        }
      ]
    },
    {
      "cell_type": "code",
      "metadata": {
        "id": "_Hlf-dyAisgU",
        "outputId": "6771bf6a-b96e-42c9-ecc2-c638b994fac4",
        "colab": {
          "base_uri": "https://localhost:8080/"
        }
      },
      "source": [
        "len(list_b) # len คือคำสั่งตรวจสอบความยาวของ ลิส (จำนวนสมาชิก)"
      ],
      "execution_count": 45,
      "outputs": [
        {
          "output_type": "execute_result",
          "data": {
            "text/plain": [
              "6"
            ]
          },
          "metadata": {
            "tags": []
          },
          "execution_count": 45
        }
      ]
    },
    {
      "cell_type": "code",
      "metadata": {
        "id": "354_BPSUitd_",
        "outputId": "7c51ef42-aaaf-46cc-d57c-237c2db7b755",
        "colab": {
          "base_uri": "https://localhost:8080/",
          "height": 35
        }
      },
      "source": [
        "t[-4]"
      ],
      "execution_count": 48,
      "outputs": [
        {
          "output_type": "execute_result",
          "data": {
            "application/vnd.google.colaboratory.intrinsic+json": {
              "type": "string"
            },
            "text/plain": [
              "'s'"
            ]
          },
          "metadata": {
            "tags": []
          },
          "execution_count": 48
        }
      ]
    },
    {
      "cell_type": "code",
      "metadata": {
        "id": "eOAEbDAiq6Ue",
        "outputId": "249a1a3a-b10a-4320-a600-9da57bdae5ff",
        "colab": {
          "base_uri": "https://localhost:8080/"
        }
      },
      "source": [
        "list_b.append(t)\r\n",
        "print(list_b)"
      ],
      "execution_count": 63,
      "outputs": [
        {
          "output_type": "stream",
          "text": [
            "[111, 'c', 'alone', 2200, 'u', 'u', 'Python easily', 'Python easily', 'Python easily']\n"
          ],
          "name": "stdout"
        }
      ]
    },
    {
      "cell_type": "markdown",
      "metadata": {
        "id": "lmzXBDwvkRrN"
      },
      "source": [
        "####ตัวที่อยู่ข้างใน [] เราเรียกว่า index หรือ ตัวชี้"
      ]
    },
    {
      "cell_type": "markdown",
      "metadata": {
        "id": "b8R5_ZK7ne-R"
      },
      "source": [
        "####List"
      ]
    },
    {
      "cell_type": "code",
      "metadata": {
        "id": "p3UPW-QLnQl9",
        "outputId": "78317817-4cb8-4138-f73f-c3c13e3e6b80",
        "colab": {
          "base_uri": "https://localhost:8080/"
        }
      },
      "source": [
        "print(t)\r\n",
        "print(t[7:9])\r\n",
        "print(len(t[7:9]))"
      ],
      "execution_count": 50,
      "outputs": [
        {
          "output_type": "stream",
          "text": [
            "Python easily\n",
            "ea\n",
            "2\n"
          ],
          "name": "stdout"
        }
      ]
    },
    {
      "cell_type": "code",
      "metadata": {
        "id": "WkBFB1xLn7Zn",
        "outputId": "a78a74dd-9e4c-4cbc-b574-cad14b1663ad",
        "colab": {
          "base_uri": "https://localhost:8080/",
          "height": 35
        }
      },
      "source": [
        "t[0:13:2]"
      ],
      "execution_count": 52,
      "outputs": [
        {
          "output_type": "execute_result",
          "data": {
            "application/vnd.google.colaboratory.intrinsic+json": {
              "type": "string"
            },
            "text/plain": [
              "'Pto aiy'"
            ]
          },
          "metadata": {
            "tags": []
          },
          "execution_count": 52
        }
      ]
    },
    {
      "cell_type": "code",
      "metadata": {
        "id": "s0A3V3VXn7tP"
      },
      "source": [
        "z = [1,2,3,4,5,6,7,8,9,10]"
      ],
      "execution_count": 53,
      "outputs": []
    },
    {
      "cell_type": "markdown",
      "metadata": {
        "id": "a1C3ruFooWTl"
      },
      "source": [
        "### quiz\r\n",
        "ให้ใช้ list slicing เลือกมาเฉพาะเลขคู่"
      ]
    },
    {
      "cell_type": "code",
      "metadata": {
        "id": "irQvp2vcomKd",
        "outputId": "f9e60ec8-5bbb-4ff2-88ca-f8fc36a4d5db",
        "colab": {
          "base_uri": "https://localhost:8080/"
        }
      },
      "source": [
        "print(z[1:10:2]) # z เริ่มด้วยตัวที่สอง คือ ตัวที่ 1 จากสมาชิกทั้งหมด 10 ตัว ให้กระโดดไปทีล่ะ 2"
      ],
      "execution_count": 56,
      "outputs": [
        {
          "output_type": "stream",
          "text": [
            "[2, 4, 6, 8, 10]\n"
          ],
          "name": "stdout"
        }
      ]
    },
    {
      "cell_type": "markdown",
      "metadata": {
        "id": "As2hNoENpTn0"
      },
      "source": [
        "ถ้าเว้นว่างหน้า : หมายความว่า เริ่มตั้งแต่ตัวแรก (0)\r\n",
        "\r\n",
        "ถ้าเว้นว่างหลัง : หมายความว่า ไปจนถึงตัวสุดท้าย(len(list))"
      ]
    },
    {
      "cell_type": "code",
      "metadata": {
        "id": "w5e58SHYp-Ol",
        "outputId": "bb3db57e-ba2d-406d-b398-2667e2a5ca17",
        "colab": {
          "base_uri": "https://localhost:8080/"
        }
      },
      "source": [
        "print(t)\r\n",
        "print(t[:6])\r\n",
        "print(t[10:])\r\n",
        "print(t[-4:])\r\n",
        "print(t[:])"
      ],
      "execution_count": 58,
      "outputs": [
        {
          "output_type": "stream",
          "text": [
            "Python easily\n",
            "Python\n",
            "ily\n",
            "sily\n",
            "Python easily\n"
          ],
          "name": "stdout"
        }
      ]
    },
    {
      "cell_type": "code",
      "metadata": {
        "id": "qoZ6KeAIqVzz",
        "outputId": "95aafd28-396f-40a4-ef03-2ded3dd49761",
        "colab": {
          "base_uri": "https://localhost:8080/"
        }
      },
      "source": [
        "print(z[::2])"
      ],
      "execution_count": 60,
      "outputs": [
        {
          "output_type": "stream",
          "text": [
            "[1, 3, 5, 7, 9]\n"
          ],
          "name": "stdout"
        }
      ]
    },
    {
      "cell_type": "markdown",
      "metadata": {
        "id": "Eg76-TcKr0Ey"
      },
      "source": [
        "เราสามารถเอา list มาต่อกันได้ด้วย +"
      ]
    },
    {
      "cell_type": "code",
      "metadata": {
        "id": "ncPH2AbDr6-t",
        "outputId": "52155f63-4c77-4692-880c-4c3aaf19e5de",
        "colab": {
          "base_uri": "https://localhost:8080/",
          "height": 35
        }
      },
      "source": [
        "t + '??'"
      ],
      "execution_count": 64,
      "outputs": [
        {
          "output_type": "execute_result",
          "data": {
            "application/vnd.google.colaboratory.intrinsic+json": {
              "type": "string"
            },
            "text/plain": [
              "'Python easily??'"
            ]
          },
          "metadata": {
            "tags": []
          },
          "execution_count": 64
        }
      ]
    },
    {
      "cell_type": "code",
      "metadata": {
        "id": "Hb7vRXwPsGKa",
        "outputId": "bb617954-6a7d-4b2c-a7ac-ca98ee75fa61",
        "colab": {
          "base_uri": "https://localhost:8080/",
          "height": 162
        }
      },
      "source": [
        "t + list_b #ไม่สามารถเอาลิสปกติมาต่อกับ string ได้"
      ],
      "execution_count": 65,
      "outputs": [
        {
          "output_type": "error",
          "ename": "TypeError",
          "evalue": "ignored",
          "traceback": [
            "\u001b[0;31m---------------------------------------------------------------------------\u001b[0m",
            "\u001b[0;31mTypeError\u001b[0m                                 Traceback (most recent call last)",
            "\u001b[0;32m<ipython-input-65-10da5820a950>\u001b[0m in \u001b[0;36m<module>\u001b[0;34m()\u001b[0m\n\u001b[0;32m----> 1\u001b[0;31m \u001b[0mt\u001b[0m \u001b[0;34m+\u001b[0m \u001b[0mlist_b\u001b[0m \u001b[0;31m#ำม่สามารถเอาลิสปกติมาต่อกับ string ได้\u001b[0m\u001b[0;34m\u001b[0m\u001b[0;34m\u001b[0m\u001b[0m\n\u001b[0m",
            "\u001b[0;31mTypeError\u001b[0m: must be str, not list"
          ]
        }
      ]
    },
    {
      "cell_type": "code",
      "metadata": {
        "id": "AbVakp8lsXwP",
        "outputId": "e51fb564-f25e-4dcf-b845-ffc51c9a2edf",
        "colab": {
          "base_uri": "https://localhost:8080/"
        }
      },
      "source": [
        "print(list_a)\r\n",
        "print(list_b)\r\n",
        "print(list_a + list_b) #เอาสมาชิกมารวมกัน"
      ],
      "execution_count": 66,
      "outputs": [
        {
          "output_type": "stream",
          "text": [
            "[]\n",
            "[111, 'c', 'alone', 2200, 'u', 'u', 'Python easily', 'Python easily', 'Python easily']\n",
            "[111, 'c', 'alone', 2200, 'u', 'u', 'Python easily', 'Python easily', 'Python easily']\n"
          ],
          "name": "stdout"
        }
      ]
    },
    {
      "cell_type": "code",
      "metadata": {
        "id": "VLPZihnntIcJ",
        "outputId": "4064e900-68b4-4c7b-94de-b41ea6b6d9ee",
        "colab": {
          "base_uri": "https://localhost:8080/"
        }
      },
      "source": [
        "list_b.append(list_a) #เอาสมาชิกมาต่อกัน ดังนั้น จะไม่เหมือน +\r\n",
        "print(list_b)"
      ],
      "execution_count": 67,
      "outputs": [
        {
          "output_type": "stream",
          "text": [
            "[111, 'c', 'alone', 2200, 'u', 'u', 'Python easily', 'Python easily', 'Python easily', []]\n"
          ],
          "name": "stdout"
        }
      ]
    },
    {
      "cell_type": "markdown",
      "metadata": {
        "id": "208ICpz5strp"
      },
      "source": [
        "การแบ่ง string ตามสัญลักษณ์ที่กำหนด -> split string"
      ]
    },
    {
      "cell_type": "code",
      "metadata": {
        "id": "OZVc3pz1uHea",
        "outputId": "26dac3dd-f1d6-4208-8687-e7fb9afad411",
        "colab": {
          "base_uri": "https://localhost:8080/",
          "height": 35
        }
      },
      "source": [
        "t"
      ],
      "execution_count": 69,
      "outputs": [
        {
          "output_type": "execute_result",
          "data": {
            "application/vnd.google.colaboratory.intrinsic+json": {
              "type": "string"
            },
            "text/plain": [
              "'Python easily'"
            ]
          },
          "metadata": {
            "tags": []
          },
          "execution_count": 69
        }
      ]
    },
    {
      "cell_type": "code",
      "metadata": {
        "id": "MuraVhE0t0Xc",
        "outputId": "9b758d52-9e1a-40a9-8196-da5c4ff2b0fa",
        "colab": {
          "base_uri": "https://localhost:8080/"
        }
      },
      "source": [
        "t.split(' ')"
      ],
      "execution_count": 76,
      "outputs": [
        {
          "output_type": "execute_result",
          "data": {
            "text/plain": [
              "['Python', 'easily']"
            ]
          },
          "metadata": {
            "tags": []
          },
          "execution_count": 76
        }
      ]
    },
    {
      "cell_type": "code",
      "metadata": {
        "id": "JLu7Fk-it0jx"
      },
      "source": [
        "time = '12:30:15'"
      ],
      "execution_count": 72,
      "outputs": []
    },
    {
      "cell_type": "code",
      "metadata": {
        "id": "1kBsHgCMt0xN",
        "outputId": "c20e89fa-a2f4-46c5-a9ce-4a625bea2d27",
        "colab": {
          "base_uri": "https://localhost:8080/"
        }
      },
      "source": [
        "time.split(':')"
      ],
      "execution_count": 73,
      "outputs": [
        {
          "output_type": "execute_result",
          "data": {
            "text/plain": [
              "['12', '30', '15']"
            ]
          },
          "metadata": {
            "tags": []
          },
          "execution_count": 73
        }
      ]
    },
    {
      "cell_type": "code",
      "metadata": {
        "id": "0u_ji6X6t0_A",
        "outputId": "cb26ff58-dbbf-471d-98c7-ea9ff969bff0",
        "colab": {
          "base_uri": "https://localhost:8080/",
          "height": 178
        }
      },
      "source": [
        "t.sp = t.split(' ')\r\n",
        "print(t.sp)"
      ],
      "execution_count": 77,
      "outputs": [
        {
          "output_type": "error",
          "ename": "AttributeError",
          "evalue": "ignored",
          "traceback": [
            "\u001b[0;31m---------------------------------------------------------------------------\u001b[0m",
            "\u001b[0;31mAttributeError\u001b[0m                            Traceback (most recent call last)",
            "\u001b[0;32m<ipython-input-77-b62ef00cccf6>\u001b[0m in \u001b[0;36m<module>\u001b[0;34m()\u001b[0m\n\u001b[0;32m----> 1\u001b[0;31m \u001b[0mt\u001b[0m\u001b[0;34m.\u001b[0m\u001b[0msp\u001b[0m \u001b[0;34m=\u001b[0m \u001b[0mt\u001b[0m\u001b[0;34m.\u001b[0m\u001b[0msplit\u001b[0m\u001b[0;34m(\u001b[0m\u001b[0;34m' '\u001b[0m\u001b[0;34m)\u001b[0m\u001b[0;34m\u001b[0m\u001b[0;34m\u001b[0m\u001b[0m\n\u001b[0m\u001b[1;32m      2\u001b[0m \u001b[0mprint\u001b[0m\u001b[0;34m(\u001b[0m\u001b[0mt\u001b[0m\u001b[0;34m.\u001b[0m\u001b[0msp\u001b[0m\u001b[0;34m)\u001b[0m\u001b[0;34m\u001b[0m\u001b[0;34m\u001b[0m\u001b[0m\n",
            "\u001b[0;31mAttributeError\u001b[0m: 'str' object has no attribute 'sp'"
          ]
        }
      ]
    },
    {
      "cell_type": "markdown",
      "metadata": {
        "id": "s-7ccUHmviEk"
      },
      "source": [
        "###Homework คำนวณเวลาเป็นวินาทีของเวลาต่อไปนี้โดยใช้คำสั่ง split() ช่วย print ออกมาให้สวยงาม\r\n",
        "\r\n",
        "12:30:15\r\n",
        "\r\n",
        "13:41:07\r\n",
        "\r\n",
        "12:53:15\r\n",
        "\r\n",
        "00:59:25\r\n",
        "\r\n",
        "11:11:11\r\n",
        "\r\n",
        "16:06:09\r\n",
        "\r\n",
        "21:12:30\r\n",
        "\r\n",
        "10:06:15\r\n",
        "ตัวอย่าง > 00:01:10 = 70 sec"
      ]
    },
    {
      "cell_type": "code",
      "metadata": {
        "id": "NZl40n-Rw4D2"
      },
      "source": [
        "Q1 = '12:30:15'\r\n",
        "print"
      ],
      "execution_count": null,
      "outputs": []
    }
  ]
}