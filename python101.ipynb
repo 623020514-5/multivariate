{
  "nbformat": 4,
  "nbformat_minor": 0,
  "metadata": {
    "colab": {
      "name": "python101.ipynb",
      "provenance": [],
      "authorship_tag": "ABX9TyNcJ5HZeBhPoT0tgPSQ3xtk",
      "include_colab_link": true
    },
    "kernelspec": {
      "name": "python3",
      "display_name": "Python 3"
    }
  },
  "cells": [
    {
      "cell_type": "markdown",
      "metadata": {
        "id": "view-in-github",
        "colab_type": "text"
      },
      "source": [
        "<a href=\"https://colab.research.google.com/github/623020514-5/multivariate/blob/main/python101.ipynb\" target=\"_parent\"><img src=\"https://colab.research.google.com/assets/colab-badge.svg\" alt=\"Open In Colab\"/></a>"
      ]
    },
    {
      "cell_type": "markdown",
      "metadata": {
        "id": "VdzGuc8WLlMw"
      },
      "source": [
        "ตัวแปร or variable"
      ]
    },
    {
      "cell_type": "markdown",
      "metadata": {
        "id": "klTagPGyMX0Z"
      },
      "source": [
        "หลักการตั้งชื่อตัวแปรต้น\r\n",
        "\r\n",
        "  1.ตั้งให้สื่อความหมาย\r\n",
        "\r\n",
        "  2.ภาษาอังกฤษ\r\n",
        "\r\n",
        "  3.ใช้ตัวเลขได้แต่ห้ามขึ้นต้นด้วยตัวเลข\r\n",
        "\r\n",
        "  4.ห้ามเว้นวรรค\r\n",
        "  \r\n",
        "  5.ตัวเล็กกับตัวใหญ่ไม่เหมือนกัน"
      ]
    },
    {
      "cell_type": "code",
      "metadata": {
        "id": "p_M3ukJoLxyt"
      },
      "source": [
        "Pi = 3.14159"
      ],
      "execution_count": null,
      "outputs": []
    },
    {
      "cell_type": "code",
      "metadata": {
        "colab": {
          "base_uri": "https://localhost:8080/"
        },
        "id": "DdZ_aceBMVGN",
        "outputId": "c9162d11-1902-4eb9-c707-5f43c2842d0e"
      },
      "source": [
        "Pi"
      ],
      "execution_count": null,
      "outputs": [
        {
          "output_type": "execute_result",
          "data": {
            "text/plain": [
              "3.14159"
            ]
          },
          "metadata": {
            "tags": []
          },
          "execution_count": 3
        }
      ]
    },
    {
      "cell_type": "code",
      "metadata": {
        "colab": {
          "base_uri": "https://localhost:8080/"
        },
        "id": "YRhX7p9dNIVK",
        "outputId": "53fb9805-6958-4049-9130-dbf2e611442e"
      },
      "source": [
        "a = 1234567\r\n",
        "print(a) #แสดงผล"
      ],
      "execution_count": 9,
      "outputs": [
        {
          "output_type": "stream",
          "text": [
            "1234567\n"
          ],
          "name": "stdout"
        }
      ]
    },
    {
      "cell_type": "markdown",
      "metadata": {
        "id": "xoNZsdu2Nnvt"
      },
      "source": [
        "ชนิดของตัวแปร 3 ชนิด\r\n"
      ]
    },
    {
      "cell_type": "markdown",
      "metadata": {
        "id": "oUuDsuIzOqdg"
      },
      "source": [
        "#แบบหนึ่งจำนวนเต็ม (int or integer)"
      ]
    },
    {
      "cell_type": "code",
      "metadata": {
        "colab": {
          "base_uri": "https://localhost:8080/"
        },
        "id": "ROumkEgfO6_K",
        "outputId": "28d42c01-726e-41b0-93a7-bf5bc6079c68"
      },
      "source": [
        "bbb = 2200\r\n",
        "print(bbb)"
      ],
      "execution_count": 24,
      "outputs": [
        {
          "output_type": "stream",
          "text": [
            "2200\n"
          ],
          "name": "stdout"
        }
      ]
    },
    {
      "cell_type": "markdown",
      "metadata": {
        "id": "bvjoqngPO4Q6"
      },
      "source": [
        "#จำนวนจริง(float)"
      ]
    },
    {
      "cell_type": "code",
      "metadata": {
        "colab": {
          "base_uri": "https://localhost:8080/"
        },
        "id": "s9XB0Pa3PO0y",
        "outputId": "e9720d7a-cbaf-4b7e-c35a-a667ce93134d"
      },
      "source": [
        "ccc = 22.\r\n",
        "print(ccc)"
      ],
      "execution_count": 25,
      "outputs": [
        {
          "output_type": "stream",
          "text": [
            "22.0\n"
          ],
          "name": "stdout"
        }
      ]
    },
    {
      "cell_type": "markdown",
      "metadata": {
        "id": "qNBFJc8FPaIR"
      },
      "source": [
        "#แบบตัวอักษร หรือข้อความ(character,text,string) เจอบ่อย"
      ]
    },
    {
      "cell_type": "code",
      "metadata": {
        "id": "lVhN9BtxPp0x",
        "colab": {
          "base_uri": "https://localhost:8080/"
        },
        "outputId": "5296f7ae-5244-4baf-a970-b3c62a759a55"
      },
      "source": [
        "ddd = '123456'  # จะใช้ single quote คือ ' หรือ double quote \"\" ล้อมตัวหนังสือเพื่อระบุว่าเป็นตัวอักษร character-string \r\n",
        "print(ddd)"
      ],
      "execution_count": 12,
      "outputs": [
        {
          "output_type": "stream",
          "text": [
            "123456\n"
          ],
          "name": "stdout"
        }
      ]
    },
    {
      "cell_type": "code",
      "metadata": {
        "colab": {
          "base_uri": "https://localhost:8080/"
        },
        "id": "p-1PbON39Mv4",
        "outputId": "7785c559-da3b-48a8-b531-ca262d82d9ca"
      },
      "source": [
        "bbb + ccc # int+float"
      ],
      "execution_count": 7,
      "outputs": [
        {
          "output_type": "execute_result",
          "data": {
            "text/plain": [
              "2222.0"
            ]
          },
          "metadata": {
            "tags": []
          },
          "execution_count": 7
        }
      ]
    },
    {
      "cell_type": "code",
      "metadata": {
        "id": "u9sCo6ooNaxR",
        "colab": {
          "base_uri": "https://localhost:8080/"
        },
        "outputId": "08162575-d8ad-4aa9-f5a8-0d2ab4dd813e"
      },
      "source": [
        "a + bbb #int+int"
      ],
      "execution_count": 10,
      "outputs": [
        {
          "output_type": "execute_result",
          "data": {
            "text/plain": [
              "1236767"
            ]
          },
          "metadata": {
            "tags": []
          },
          "execution_count": 10
        }
      ]
    },
    {
      "cell_type": "code",
      "metadata": {
        "colab": {
          "base_uri": "https://localhost:8080/",
          "height": 162
        },
        "id": "C__eeB0H-D_r",
        "outputId": "37429fc3-6719-476d-83b6-d4da5724d071"
      },
      "source": [
        "ccc + ddd # จะบวกกันไม่ได้เพราะเป็นตัวแปลคนล่ะชนิด mean float+string"
      ],
      "execution_count": 13,
      "outputs": [
        {
          "output_type": "error",
          "ename": "TypeError",
          "evalue": "ignored",
          "traceback": [
            "\u001b[0;31m---------------------------------------------------------------------------\u001b[0m",
            "\u001b[0;31mTypeError\u001b[0m                                 Traceback (most recent call last)",
            "\u001b[0;32m<ipython-input-13-9aa88dc8b86f>\u001b[0m in \u001b[0;36m<module>\u001b[0;34m()\u001b[0m\n\u001b[0;32m----> 1\u001b[0;31m \u001b[0mccc\u001b[0m \u001b[0;34m+\u001b[0m \u001b[0mddd\u001b[0m\u001b[0;34m\u001b[0m\u001b[0;34m\u001b[0m\u001b[0m\n\u001b[0m",
            "\u001b[0;31mTypeError\u001b[0m: unsupported operand type(s) for +: 'float' and 'str'"
          ]
        }
      ]
    },
    {
      "cell_type": "code",
      "metadata": {
        "colab": {
          "base_uri": "https://localhost:8080/"
        },
        "id": "KT1RiQyv-QBQ",
        "outputId": "21a6f688-d703-4a3e-b8e1-db99824bee71"
      },
      "source": [
        "ggg = 'เจ๋อหมิง'#can out put and in put thai lang.\r\n",
        "print(ggg)"
      ],
      "execution_count": 14,
      "outputs": [
        {
          "output_type": "stream",
          "text": [
            "เจ๋อหมิง\n"
          ],
          "name": "stdout"
        }
      ]
    },
    {
      "cell_type": "markdown",
      "metadata": {
        "id": "EybDNehF_OjM"
      },
      "source": [
        "## การเปลี่ยนชนิดของตัวแปร โดย เรียกว่า Variable casting"
      ]
    },
    {
      "cell_type": "code",
      "metadata": {
        "colab": {
          "base_uri": "https://localhost:8080/"
        },
        "id": "rYCi1hoj-QPR",
        "outputId": "5885cce6-9b40-4e72-c38e-511d596ce018"
      },
      "source": [
        "ccc + int(ddd)"
      ],
      "execution_count": 15,
      "outputs": [
        {
          "output_type": "execute_result",
          "data": {
            "text/plain": [
              "123478.0"
            ]
          },
          "metadata": {
            "tags": []
          },
          "execution_count": 15
        }
      ]
    },
    {
      "cell_type": "code",
      "metadata": {
        "colab": {
          "base_uri": "https://localhost:8080/"
        },
        "id": "y2WDpw-T-Qlq",
        "outputId": "27bcbd05-86f9-4392-839d-49ea5b2f129f"
      },
      "source": [
        "bbb + float(ddd)"
      ],
      "execution_count": 28,
      "outputs": [
        {
          "output_type": "execute_result",
          "data": {
            "text/plain": [
              "125656.0"
            ]
          },
          "metadata": {
            "tags": []
          },
          "execution_count": 28
        }
      ]
    },
    {
      "cell_type": "code",
      "metadata": {
        "colab": {
          "base_uri": "https://localhost:8080/",
          "height": 35
        },
        "id": "L_JlHoDvAcdC",
        "outputId": "1d2fac42-d36e-48f4-d38d-53d0d1d45c84"
      },
      "source": [
        "str(ccc) #เปลี่ยนตัวเลขเป็นข้อความได้ หรืออาจจะเปลี่ยนข้อความเป็นตัวเลขได้"
      ],
      "execution_count": 20,
      "outputs": [
        {
          "output_type": "execute_result",
          "data": {
            "application/vnd.google.colaboratory.intrinsic+json": {
              "type": "string"
            },
            "text/plain": [
              "'22.0'"
            ]
          },
          "metadata": {
            "tags": []
          },
          "execution_count": 20
        }
      ]
    },
    {
      "cell_type": "markdown",
      "metadata": {
        "id": "tJKjr8WdBRs2"
      },
      "source": [
        "## Operation or Operater (+,-,*,/,%)"
      ]
    },
    {
      "cell_type": "code",
      "metadata": {
        "colab": {
          "base_uri": "https://localhost:8080/",
          "height": 162
        },
        "id": "C1ci__2lAcpZ",
        "outputId": "ac4387fa-ea52-403f-f0c9-120c0c6432af"
      },
      "source": [
        "a+b #เราไม่ได้input B ดังนั้นจะบวกไม่ได้"
      ],
      "execution_count": 22,
      "outputs": [
        {
          "output_type": "error",
          "ename": "NameError",
          "evalue": "ignored",
          "traceback": [
            "\u001b[0;31m---------------------------------------------------------------------------\u001b[0m",
            "\u001b[0;31mNameError\u001b[0m                                 Traceback (most recent call last)",
            "\u001b[0;32m<ipython-input-22-ca730b97bf8a>\u001b[0m in \u001b[0;36m<module>\u001b[0;34m()\u001b[0m\n\u001b[0;32m----> 1\u001b[0;31m \u001b[0ma\u001b[0m\u001b[0;34m+\u001b[0m\u001b[0mb\u001b[0m\u001b[0;34m\u001b[0m\u001b[0;34m\u001b[0m\u001b[0m\n\u001b[0m",
            "\u001b[0;31mNameError\u001b[0m: name 'b' is not defined"
          ]
        }
      ]
    },
    {
      "cell_type": "code",
      "metadata": {
        "colab": {
          "base_uri": "https://localhost:8080/"
        },
        "id": "zPGIzncWB6re",
        "outputId": "83a3cd1e-b226-49b3-9750-170fe16efd74"
      },
      "source": [
        "bbb+ccc"
      ],
      "execution_count": 27,
      "outputs": [
        {
          "output_type": "execute_result",
          "data": {
            "text/plain": [
              "2222.0"
            ]
          },
          "metadata": {
            "tags": []
          },
          "execution_count": 27
        }
      ]
    },
    {
      "cell_type": "code",
      "metadata": {
        "colab": {
          "base_uri": "https://localhost:8080/"
        },
        "id": "9BqCQeHoCdaG",
        "outputId": "344c551a-3cc2-4354-e399-168d3a4b77b5"
      },
      "source": [
        "ac = bbb*ccc\r\n",
        "print(ac)"
      ],
      "execution_count": 29,
      "outputs": [
        {
          "output_type": "stream",
          "text": [
            "48400.0\n"
          ],
          "name": "stdout"
        }
      ]
    },
    {
      "cell_type": "code",
      "metadata": {
        "colab": {
          "base_uri": "https://localhost:8080/"
        },
        "id": "Q384_tbGCdm-",
        "outputId": "f69b2d71-cb5d-449d-e0e9-7d5b94d3cd07"
      },
      "source": [
        "ac+ int(ddd)"
      ],
      "execution_count": 30,
      "outputs": [
        {
          "output_type": "execute_result",
          "data": {
            "text/plain": [
              "171856.0"
            ]
          },
          "metadata": {
            "tags": []
          },
          "execution_count": 30
        }
      ]
    },
    {
      "cell_type": "markdown",
      "metadata": {
        "id": "qJ2ytCOiC7EX"
      },
      "source": [
        "## Modulo คือการหารเเล้วเอาแค่เศษ หรือก็คือผลลัพธ์ที่ได้มาจะเป็นเศษเหลือ %"
      ]
    },
    {
      "cell_type": "code",
      "metadata": {
        "colab": {
          "base_uri": "https://localhost:8080/"
        },
        "id": "G1d0nozKCd2c",
        "outputId": "4d29d657-bbc6-447e-fb60-f5c6687c4a52"
      },
      "source": [
        "6%4"
      ],
      "execution_count": 31,
      "outputs": [
        {
          "output_type": "execute_result",
          "data": {
            "text/plain": [
              "2"
            ]
          },
          "metadata": {
            "tags": []
          },
          "execution_count": 31
        }
      ]
    },
    {
      "cell_type": "code",
      "metadata": {
        "colab": {
          "base_uri": "https://localhost:8080/"
        },
        "id": "P80VLr0BCeSp",
        "outputId": "dd6ef49a-8ba0-4b9a-e180-7957618067bc"
      },
      "source": [
        "7%3 #7หาร3ปกติจะได้ 2 เศษ 1"
      ],
      "execution_count": 32,
      "outputs": [
        {
          "output_type": "execute_result",
          "data": {
            "text/plain": [
              "1"
            ]
          },
          "metadata": {
            "tags": []
          },
          "execution_count": 32
        }
      ]
    },
    {
      "cell_type": "markdown",
      "metadata": {
        "id": "MGZNFtrGDjpl"
      },
      "source": [
        "##คำสั่ง print แบบพิเศษ(การ Format String)"
      ]
    },
    {
      "cell_type": "code",
      "metadata": {
        "colab": {
          "base_uri": "https://localhost:8080/"
        },
        "id": "Unpp2DroDzxU",
        "outputId": "69ddcd4c-c231-427e-fd2e-7d9f666ee575"
      },
      "source": [
        "print('ตัวแปร') #ข้างในคือตัวแปร และ string"
      ],
      "execution_count": 33,
      "outputs": [
        {
          "output_type": "stream",
          "text": [
            "ตัวแปร\n"
          ],
          "name": "stdout"
        }
      ]
    },
    {
      "cell_type": "code",
      "metadata": {
        "colab": {
          "base_uri": "https://localhost:8080/"
        },
        "id": "WqFqqzVoFsuX",
        "outputId": "edd49909-c0f6-4203-9525-aaeb046ed3ba"
      },
      "source": [
        "print(f'% คือการหารเอาเศษ เช่น 5%2 = {5%2}')"
      ],
      "execution_count": 35,
      "outputs": [
        {
          "output_type": "stream",
          "text": [
            "% คือการหารเอาเศษ เช่น 5%2 = 1\n"
          ],
          "name": "stdout"
        }
      ]
    },
    {
      "cell_type": "code",
      "metadata": {
        "colab": {
          "base_uri": "https://localhost:8080/"
        },
        "id": "26mEd5UuD0GZ",
        "outputId": "d8d0b6b5-477d-4353-c337-5a0850ac8cae"
      },
      "source": [
        "print(f'% คือการหารเอาเศษ เช่น 5%2 = {5%2} \\\\\r\n",
        "แต่\\n/ คือการหารแบบปกติ เช่น 7/3 = {7/3} \\\\\r\n",
        "       and\\n/คือ การหารเอาส่วน เช่น 7//3 = {7//3}\\\\\r\n",
        "       or\\nใช้ int() เพื่อหารเอาส่วน เช่น 7/3 = {int(7/3)}') #\\n คือการขึ้นบบรรทัดใหม่ \\\\ ใช้ในการตัด code แต่ com จะไม่เห็น"
      ],
      "execution_count": 38,
      "outputs": [
        {
          "output_type": "stream",
          "text": [
            "% คือการหารเอาเศษ เช่น 5%2 = 1 \\แต่\n",
            "/ คือการหารแบบปกติ เช่น 7/3 = 2.3333333333333335 \\       and\n",
            "/คือ การหารเอาส่วน เช่น 7//3 = 2\\       or\n",
            "ใช้ int() เพื่อหารเอาส่วน เช่น 7/3 = 2\n"
          ],
          "name": "stdout"
        }
      ]
    },
    {
      "cell_type": "markdown",
      "metadata": {
        "id": "kMOXvwRtH5HT"
      },
      "source": [
        "##DATA structure or โครงสร้างข้อมูล"
      ]
    },
    {
      "cell_type": "markdown",
      "metadata": {
        "id": "vMMjKZlWIK1n"
      },
      "source": [
        "###List คือ การเอาข้อมูลหลายๆตัวมาเรียงต่อกัน\r\n",
        "####list สามารถสร้างได้ 2 แบบ"
      ]
    },
    {
      "cell_type": "markdown",
      "metadata": {
        "id": "yUM9vg38JM5h"
      },
      "source": [
        "#####1.square brackets "
      ]
    },
    {
      "cell_type": "code",
      "metadata": {
        "colab": {
          "base_uri": "https://localhost:8080/"
        },
        "id": "VoD3-AXjJY2q",
        "outputId": "2c614969-a6fd-47ff-d997-91929d45d9dd"
      },
      "source": [
        "list_a = []\r\n",
        "print(list_a )"
      ],
      "execution_count": 42,
      "outputs": [
        {
          "output_type": "stream",
          "text": [
            "[]\n"
          ],
          "name": "stdout"
        }
      ]
    },
    {
      "cell_type": "code",
      "metadata": {
        "colab": {
          "base_uri": "https://localhost:8080/"
        },
        "id": "KUfijuetE4PM",
        "outputId": "c8412732-f3ee-4776-c861-b99ecd914278"
      },
      "source": [
        "list_b = [111,'c','alone',bbb]\r\n",
        "print(list_b )"
      ],
      "execution_count": 41,
      "outputs": [
        {
          "output_type": "stream",
          "text": [
            "[111, 'c', 'alone', 2200]\n"
          ],
          "name": "stdout"
        }
      ]
    },
    {
      "cell_type": "code",
      "metadata": {
        "colab": {
          "base_uri": "https://localhost:8080/",
          "height": 35
        },
        "id": "p54SvGoLJkcE",
        "outputId": "5a32d7c5-a138-4168-8ca3-a5cbf615f060"
      },
      "source": [
        "list_b[1]"
      ],
      "execution_count": 43,
      "outputs": [
        {
          "output_type": "execute_result",
          "data": {
            "application/vnd.google.colaboratory.intrinsic+json": {
              "type": "string"
            },
            "text/plain": [
              "'c'"
            ]
          },
          "metadata": {
            "tags": []
          },
          "execution_count": 43
        }
      ]
    },
    {
      "cell_type": "markdown",
      "metadata": {
        "id": "94bY2qm0KF0O"
      },
      "source": [
        "##ลำดับที่อยู่ใน list มีความสำคัญโดยจะเริ่มนับตำแหน่งจาก 0,1,2,..."
      ]
    },
    {
      "cell_type": "code",
      "metadata": {
        "colab": {
          "base_uri": "https://localhost:8080/"
        },
        "id": "ECWg8oMOKd-c",
        "outputId": "2d6ed3d9-b199-4f45-c960-f6c06ccec74b"
      },
      "source": [
        "list_b[0]"
      ],
      "execution_count": 44,
      "outputs": [
        {
          "output_type": "execute_result",
          "data": {
            "text/plain": [
              "111"
            ]
          },
          "metadata": {
            "tags": []
          },
          "execution_count": 44
        }
      ]
    },
    {
      "cell_type": "markdown",
      "metadata": {
        "id": "SUwo0LLzJmjy"
      },
      "source": [
        "####2."
      ]
    },
    {
      "cell_type": "code",
      "metadata": {
        "colab": {
          "base_uri": "https://localhost:8080/"
        },
        "id": "xWnpYofxJlN8",
        "outputId": "4dac8be6-ab65-47bb-fe07-529e4646fc03"
      },
      "source": [
        "list_c=list()\r\n",
        "print(list_c)"
      ],
      "execution_count": 45,
      "outputs": [
        {
          "output_type": "stream",
          "text": [
            "[]\n"
          ],
          "name": "stdout"
        }
      ]
    },
    {
      "cell_type": "markdown",
      "metadata": {
        "id": "1zQr7BaNK8E9"
      },
      "source": [
        "##append()เพิ่มสมาชิกในlist"
      ]
    },
    {
      "cell_type": "code",
      "metadata": {
        "colab": {
          "base_uri": "https://localhost:8080/"
        },
        "id": "zWmi9kBBLBED",
        "outputId": "68a79de6-6be8-4833-9b09-ce14b6375641"
      },
      "source": [
        "list_b.append('u') # add u in at list b\r\n",
        "print(list_b)"
      ],
      "execution_count": 46,
      "outputs": [
        {
          "output_type": "stream",
          "text": [
            "[111, 'c', 'alone', 2200, 'u']\n"
          ],
          "name": "stdout"
        }
      ]
    },
    {
      "cell_type": "code",
      "metadata": {
        "colab": {
          "base_uri": "https://localhost:8080/",
          "height": 35
        },
        "id": "mbDRfGuLLyNI",
        "outputId": "ecafb4a3-bfbb-4441-e086-3fc739a50085"
      },
      "source": [
        "list_b[-1] # ตัวข้างในวงเล็บจากตัวแปรเรียกว่า อินเด็ซ ใช้สำหรับชี้ข้อมูล"
      ],
      "execution_count": 48,
      "outputs": [
        {
          "output_type": "execute_result",
          "data": {
            "application/vnd.google.colaboratory.intrinsic+json": {
              "type": "string"
            },
            "text/plain": [
              "'u'"
            ]
          },
          "metadata": {
            "tags": []
          },
          "execution_count": 48
        }
      ]
    },
    {
      "cell_type": "markdown",
      "metadata": {
        "id": "FJD8tvSYLyjU"
      },
      "source": [
        "##String > list of character"
      ]
    },
    {
      "cell_type": "code",
      "metadata": {
        "colab": {
          "base_uri": "https://localhost:8080/",
          "height": 35
        },
        "id": "8VJGo1IxLzBl",
        "outputId": "75333a94-8002-4de1-ed9d-c5b136d9eead"
      },
      "source": [
        "t = 'Python easily'\r\n",
        "t"
      ],
      "execution_count": 51,
      "outputs": [
        {
          "output_type": "execute_result",
          "data": {
            "application/vnd.google.colaboratory.intrinsic+json": {
              "type": "string"
            },
            "text/plain": [
              "'Python easily'"
            ]
          },
          "metadata": {
            "tags": []
          },
          "execution_count": 51
        }
      ]
    },
    {
      "cell_type": "code",
      "metadata": {
        "colab": {
          "base_uri": "https://localhost:8080/",
          "height": 35
        },
        "id": "SM_Sf2mUMmpE",
        "outputId": "de240e77-3525-404f-e9dd-23698d1f881f"
      },
      "source": [
        "t[1]"
      ],
      "execution_count": 52,
      "outputs": [
        {
          "output_type": "execute_result",
          "data": {
            "application/vnd.google.colaboratory.intrinsic+json": {
              "type": "string"
            },
            "text/plain": [
              "'y'"
            ]
          },
          "metadata": {
            "tags": []
          },
          "execution_count": 52
        }
      ]
    },
    {
      "cell_type": "code",
      "metadata": {
        "colab": {
          "base_uri": "https://localhost:8080/",
          "height": 35
        },
        "id": "MtMtKB32M1b_",
        "outputId": "cf14def0-ea5b-4122-92bf-0f2d048e2bd2"
      },
      "source": [
        "t[0]"
      ],
      "execution_count": 54,
      "outputs": [
        {
          "output_type": "execute_result",
          "data": {
            "application/vnd.google.colaboratory.intrinsic+json": {
              "type": "string"
            },
            "text/plain": [
              "'P'"
            ]
          },
          "metadata": {
            "tags": []
          },
          "execution_count": 54
        }
      ]
    },
    {
      "cell_type": "markdown",
      "metadata": {
        "id": "lQH9OW7nNAKU"
      },
      "source": [
        "end 5 มค 2021"
      ]
    }
  ]
}