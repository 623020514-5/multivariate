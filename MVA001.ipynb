{
  "nbformat": 4,
  "nbformat_minor": 0,
  "metadata": {
    "colab": {
      "name": "MVA001.ipynb",
      "provenance": [],
      "authorship_tag": "ABX9TyOIXquYTrKaRTRQC2eOD9GT",
      "include_colab_link": true
    },
    "kernelspec": {
      "name": "python3",
      "display_name": "Python 3"
    }
  },
  "cells": [
    {
      "cell_type": "markdown",
      "metadata": {
        "id": "view-in-github",
        "colab_type": "text"
      },
      "source": [
        "<a href=\"https://colab.research.google.com/github/623020514-5/multivariate/blob/main/MVA001.ipynb\" target=\"_parent\"><img src=\"https://colab.research.google.com/assets/colab-badge.svg\" alt=\"Open In Colab\"/></a>"
      ]
    },
    {
      "cell_type": "markdown",
      "metadata": {
        "id": "pzwNEqYYTI6p"
      },
      "source": [
        "Scalar,Vecter,Matrix"
      ]
    },
    {
      "cell_type": "code",
      "metadata": {
        "id": "pumeAHJeT7Fq"
      },
      "source": [
        "import numpy as np"
      ],
      "execution_count": 1,
      "outputs": []
    },
    {
      "cell_type": "code",
      "metadata": {
        "colab": {
          "base_uri": "https://localhost:8080/"
        },
        "id": "Xeym_DdNTFdl",
        "outputId": "89a88ea8-abff-4e35-86c1-63feaeea55c7"
      },
      "source": [
        "scalar_a = 10 #scalar\r\n",
        "print(scalar_a)"
      ],
      "execution_count": 2,
      "outputs": [
        {
          "output_type": "stream",
          "text": [
            "10\n"
          ],
          "name": "stdout"
        }
      ]
    },
    {
      "cell_type": "code",
      "metadata": {
        "colab": {
          "base_uri": "https://localhost:8080/"
        },
        "id": "fonbQ7lsUdF-",
        "outputId": "625887bc-3b1d-48b8-b561-999399797003"
      },
      "source": [
        "vector_b = np.zeros([2,1])\r\n",
        "vector_b[0,0] = 1\r\n",
        "vector_b[1,0] = 3\r\n",
        "print(vector_b)\r\n",
        "print(vector_b.shape)"
      ],
      "execution_count": 3,
      "outputs": [
        {
          "output_type": "stream",
          "text": [
            "[[1.]\n",
            " [3.]]\n",
            "(2, 1)\n"
          ],
          "name": "stdout"
        }
      ]
    },
    {
      "cell_type": "code",
      "metadata": {
        "id": "7Znzp6XKVGJG"
      },
      "source": [
        "from matplotlib import pyplot as plt"
      ],
      "execution_count": 4,
      "outputs": []
    },
    {
      "cell_type": "code",
      "metadata": {
        "colab": {
          "base_uri": "https://localhost:8080/",
          "height": 282
        },
        "id": "Y-0jwIejVaul",
        "outputId": "379c1ec0-1a08-4d9c-b5c2-6b248ac54245"
      },
      "source": [
        "plt.plot(vector_b[0,0],vector_b[1,0],'or')"
      ],
      "execution_count": 5,
      "outputs": [
        {
          "output_type": "execute_result",
          "data": {
            "text/plain": [
              "[<matplotlib.lines.Line2D at 0x7f1acc443898>]"
            ]
          },
          "metadata": {
            "tags": []
          },
          "execution_count": 5
        },
        {
          "output_type": "display_data",
          "data": {
            "image/png": "[encoded data removed]",
            "text/plain": [
              "<Figure size 432x288 with 1 Axes>"
            ]
          },
          "metadata": {
            "tags": [],
            "needs_background": "light"
          }
        }
      ]
    },
    {
      "cell_type": "markdown",
      "metadata": {
        "id": "V1KLRd1fX2VD"
      },
      "source": [
        "ขนาดของ vector คำนวณ \r\n",
        "\r\n",
        "###how to "
      ]
    },
    {
      "cell_type": "code",
      "metadata": {
        "colab": {
          "base_uri": "https://localhost:8080/"
        },
        "id": "41-g_eN2YOHv",
        "outputId": "7074cf25-6bcc-4e20-8c85-fe97b260fd76"
      },
      "source": [
        "vector_b_size = ((vector_b[0,0]**2) + (vector_b[1,0]**2))**0.5\r\n",
        "print(vector_b_size)"
      ],
      "execution_count": 6,
      "outputs": [
        {
          "output_type": "stream",
          "text": [
            "3.1622776601683795\n"
          ],
          "name": "stdout"
        }
      ]
    },
    {
      "cell_type": "code",
      "metadata": {
        "colab": {
          "base_uri": "https://localhost:8080/",
          "height": 282
        },
        "id": "mziSuPbyWUDX",
        "outputId": "e6b896da-f3a2-424d-9186-a28b80aa2382"
      },
      "source": [
        "plt.quiver(0,0,vector_b[0,0],vector_b[1,0])"
      ],
      "execution_count": 7,
      "outputs": [
        {
          "output_type": "execute_result",
          "data": {
            "text/plain": [
              "<matplotlib.quiver.Quiver at 0x7f1acbf78f28>"
            ]
          },
          "metadata": {
            "tags": []
          },
          "execution_count": 7
        },
        {
          "output_type": "display_data",
          "data": {
            "image/png": "[encoded data removed]",
            "text/plain": [
              "<Figure size 432x288 with 1 Axes>"
            ]
          },
          "metadata": {
            "tags": [],
            "needs_background": "light"
          }
        }
      ]
    },
    {
      "cell_type": "markdown",
      "metadata": {
        "id": "HPxp5PeEZWal"
      },
      "source": [
        "#Matrix"
      ]
    },
    {
      "cell_type": "code",
      "metadata": {
        "colab": {
          "base_uri": "https://localhost:8080/"
        },
        "id": "U7IjdV_fZeDo",
        "outputId": "100cfd1f-03a1-4d3a-9c10-a0c1beb04147"
      },
      "source": [
        "matrix_d = np.array([[2,3],[1,4],[-1,1]]) #[ค่าแกนเอ็กซ์,ค่าแกนวาย]\r\n",
        "print(matrix_d)"
      ],
      "execution_count": 8,
      "outputs": [
        {
          "output_type": "stream",
          "text": [
            "[[ 2  3]\n",
            " [ 1  4]\n",
            " [-1  1]]\n"
          ],
          "name": "stdout"
        }
      ]
    },
    {
      "cell_type": "code",
      "metadata": {
        "colab": {
          "base_uri": "https://localhost:8080/"
        },
        "id": "rVZMcSKfacIr",
        "outputId": "a75e1244-4a13-426f-d3be-c2e377c4220d"
      },
      "source": [
        "matrix_d = matrix_d.T\r\n",
        "print(matrix_d)"
      ],
      "execution_count": 9,
      "outputs": [
        {
          "output_type": "stream",
          "text": [
            "[[ 2  1 -1]\n",
            " [ 3  4  1]]\n"
          ],
          "name": "stdout"
        }
      ]
    },
    {
      "cell_type": "code",
      "metadata": {
        "colab": {
          "base_uri": "https://localhost:8080/"
        },
        "id": "EuKNUclFcjo4",
        "outputId": "c340d0c3-7225-40c1-d363-cc674a5cc515"
      },
      "source": [
        "matrix_d[0,:]"
      ],
      "execution_count": 10,
      "outputs": [
        {
          "output_type": "execute_result",
          "data": {
            "text/plain": [
              "array([ 2,  1, -1])"
            ]
          },
          "metadata": {
            "tags": []
          },
          "execution_count": 10
        }
      ]
    },
    {
      "cell_type": "code",
      "metadata": {
        "colab": {
          "base_uri": "https://localhost:8080/",
          "height": 282
        },
        "id": "pvqwve0Iai_Y",
        "outputId": "e4425eda-d407-439d-ec5a-332491f4fd2a"
      },
      "source": [
        "plt.plot(matrix_d[0,:],matrix_d[1,:],'or') #ใช้สำหรับฟังก์ชั่นพลอตจุดลงไปในสแปช #plot(ค่าx,ค่าy,หน้าตาของจุด)\r\n",
        "plt.plot(0,0,'.b') \r\n",
        "plt.plot([0,0],[-1,5],'^:k')\r\n",
        "plt.plot([-1.5,2.5],[0,0],'>:k')"
      ],
      "execution_count": 11,
      "outputs": [
        {
          "output_type": "execute_result",
          "data": {
            "text/plain": [
              "[<matplotlib.lines.Line2D at 0x7f1ac3704668>]"
            ]
          },
          "metadata": {
            "tags": []
          },
          "execution_count": 11
        },
        {
          "output_type": "display_data",
          "data": {
            "image/png": "[encoded data removed]",
            "text/plain": [
              "<Figure size 432x288 with 1 Axes>"
            ]
          },
          "metadata": {
            "tags": [],
            "needs_background": "light"
          }
        }
      ]
    },
    {
      "cell_type": "markdown",
      "metadata": {
        "id": "Q6fKFg6TkCls"
      },
      "source": [
        "##Transpose"
      ]
    },
    {
      "cell_type": "code",
      "metadata": {
        "colab": {
          "base_uri": "https://localhost:8080/"
        },
        "id": "Ul5DNmoVbH6Z",
        "outputId": "9a40f95f-de8d-4aca-8c76-ff1e6a8f0ea1"
      },
      "source": [
        "A = np.array([[3,-1,2],[1,5,4]])\r\n",
        "print(A)"
      ],
      "execution_count": 12,
      "outputs": [
        {
          "output_type": "stream",
          "text": [
            "[[ 3 -1  2]\n",
            " [ 1  5  4]]\n"
          ],
          "name": "stdout"
        }
      ]
    },
    {
      "cell_type": "code",
      "metadata": {
        "colab": {
          "base_uri": "https://localhost:8080/"
        },
        "id": "nb2852vunN0K",
        "outputId": "6ca03475-1de2-42e2-974f-9f7447e57758"
      },
      "source": [
        "A.T"
      ],
      "execution_count": 13,
      "outputs": [
        {
          "output_type": "execute_result",
          "data": {
            "text/plain": [
              "array([[ 3,  1],\n",
              "       [-1,  5],\n",
              "       [ 2,  4]])"
            ]
          },
          "metadata": {
            "tags": []
          },
          "execution_count": 13
        }
      ]
    },
    {
      "cell_type": "markdown",
      "metadata": {
        "id": "kKSCmmy9nQqt"
      },
      "source": [
        "### Matrix Multiply"
      ]
    },
    {
      "cell_type": "markdown",
      "metadata": {
        "id": "U1_-EX-lnaCB"
      },
      "source": [
        "$B = A*A'$"
      ]
    },
    {
      "cell_type": "code",
      "metadata": {
        "colab": {
          "base_uri": "https://localhost:8080/"
        },
        "id": "lhhpxy18nbBS",
        "outputId": "0ee6fede-bfd9-4db5-8719-bb66217c6b74"
      },
      "source": [
        "B = np.dot(A,A.T)\r\n",
        "print(B)"
      ],
      "execution_count": 14,
      "outputs": [
        {
          "output_type": "stream",
          "text": [
            "[[14  6]\n",
            " [ 6 42]]\n"
          ],
          "name": "stdout"
        }
      ]
    },
    {
      "cell_type": "markdown",
      "metadata": {
        "id": "g9AtxIafnd4u"
      },
      "source": [
        "## Determinant\r\n",
        "$Det(B)$"
      ]
    },
    {
      "cell_type": "code",
      "metadata": {
        "colab": {
          "base_uri": "https://localhost:8080/"
        },
        "id": "Xh8EL6HWng9o",
        "outputId": "b0b44e32-3fbe-4446-d370-7917c0d7de24"
      },
      "source": [
        "np.linalg.det(B)"
      ],
      "execution_count": 15,
      "outputs": [
        {
          "output_type": "execute_result",
          "data": {
            "text/plain": [
              "551.9999999999998"
            ]
          },
          "metadata": {
            "tags": []
          },
          "execution_count": 15
        }
      ]
    },
    {
      "cell_type": "markdown",
      "metadata": {
        "id": "ftGjWf1Cno6F"
      },
      "source": [
        "จบคาบที่ 7"
      ]
    },
    {
      "cell_type": "markdown",
      "metadata": {
        "id": "DsM4JwuenjyN"
      },
      "source": [
        ""
      ]
    },
    {
      "cell_type": "markdown",
      "metadata": {
        "id": "rbLjsNTSx_P1"
      },
      "source": [
        "linalg = linear algebra"
      ]
    },
    {
      "cell_type": "code",
      "metadata": {
        "id": "-QSu8K3syH9Y",
        "colab": {
          "base_uri": "https://localhost:8080/",
          "height": 0
        },
        "outputId": "a8510631-a294-4a68-b135-01d9880041f1"
      },
      "source": [
        "plt.plot([0,1],[0,1], '-r') ## vector [1,1]\r\n",
        "plt.plot(0,0, '.b') \r\n",
        "plt.plot([0,0],[-1,5],'^:k')\r\n",
        "plt.plot([-1.5,2.5],[0,0],'>:k')"
      ],
      "execution_count": 16,
      "outputs": [
        {
          "output_type": "execute_result",
          "data": {
            "text/plain": [
              "[<matplotlib.lines.Line2D at 0x7f1ac3684240>]"
            ]
          },
          "metadata": {
            "tags": []
          },
          "execution_count": 16
        },
        {
          "output_type": "display_data",
          "data": {
            "image/png": "[encoded data removed]",
            "text/plain": [
              "<Figure size 432x288 with 1 Axes>"
            ]
          },
          "metadata": {
            "tags": [],
            "needs_background": "light"
          }
        }
      ]
    },
    {
      "cell_type": "code",
      "metadata": {
        "id": "KBKGEci5yOmB",
        "colab": {
          "base_uri": "https://localhost:8080/"
        },
        "outputId": "4c989c3f-5df3-4947-f865-2629a7dd1889"
      },
      "source": [
        "B = np.array([[1,2],[3,4]])\r\n",
        "B"
      ],
      "execution_count": 17,
      "outputs": [
        {
          "output_type": "execute_result",
          "data": {
            "text/plain": [
              "array([[1, 2],\n",
              "       [3, 4]])"
            ]
          },
          "metadata": {
            "tags": []
          },
          "execution_count": 17
        }
      ]
    },
    {
      "cell_type": "code",
      "metadata": {
        "id": "Tu8--57myfRV",
        "colab": {
          "base_uri": "https://localhost:8080/"
        },
        "outputId": "295dc924-62e7-413b-802b-e11266ca9413"
      },
      "source": [
        "v = np.array([[1],[1]])\r\n",
        "v"
      ],
      "execution_count": 18,
      "outputs": [
        {
          "output_type": "execute_result",
          "data": {
            "text/plain": [
              "array([[1],\n",
              "       [1]])"
            ]
          },
          "metadata": {
            "tags": []
          },
          "execution_count": 18
        }
      ]
    },
    {
      "cell_type": "code",
      "metadata": {
        "id": "XEFNu4TTyoid",
        "colab": {
          "base_uri": "https://localhost:8080/"
        },
        "outputId": "19517352-6317-4433-bdbf-65dd7b027eef"
      },
      "source": [
        "Bv = np.dot(B,np.array([[1],[1]]))\r\n",
        "Bv"
      ],
      "execution_count": 19,
      "outputs": [
        {
          "output_type": "execute_result",
          "data": {
            "text/plain": [
              "array([[3],\n",
              "       [7]])"
            ]
          },
          "metadata": {
            "tags": []
          },
          "execution_count": 19
        }
      ]
    },
    {
      "cell_type": "code",
      "metadata": {
        "id": "k0YsJFuMytxc",
        "colab": {
          "base_uri": "https://localhost:8080/",
          "height": 0
        },
        "outputId": "f7dfc5ab-493a-4d81-c11a-c0619c484537"
      },
      "source": [
        "plt.plot([0,Bv[0,0]],[0,Bv[1,0]], '-g') ## vector Bv\r\n",
        "plt.plot([0,1],[0,1], '-r') ## vector [1,1]\r\n",
        "plt.plot(0,0, '.b') \r\n",
        "plt.plot([0,0],[-1,5],'^:k')\r\n",
        "plt.plot([-1.5,2.5],[0,0],'>:k')"
      ],
      "execution_count": 20,
      "outputs": [
        {
          "output_type": "execute_result",
          "data": {
            "text/plain": [
              "[<matplotlib.lines.Line2D at 0x7f1ac35fa6a0>]"
            ]
          },
          "metadata": {
            "tags": []
          },
          "execution_count": 20
        },
        {
          "output_type": "display_data",
          "data": {
            "image/png": "[encoded data removed]",
            "text/plain": [
              "<Figure size 432x288 with 1 Axes>"
            ]
          },
          "metadata": {
            "tags": [],
            "needs_background": "light"
          }
        }
      ]
    },
    {
      "cell_type": "code",
      "metadata": {
        "id": "mlzp-5eAzAZC",
        "colab": {
          "base_uri": "https://localhost:8080/",
          "height": 0
        },
        "outputId": "47221057-fe42-4608-beb5-a30c1eafc819"
      },
      "source": [
        "plt.plot([0,Bv[0,0]], [0,Bv[1,0]], '-g')     ## vector Bv\r\n",
        "plt.plot([1,1],[1,0], ':r')   ## วาดจุดไข่ปลา  พื้นที่ของ Bv\r\n",
        "plt.plot([1,0],[1,1], ':r')   ## วาดจุดไข่ปลา   พื้นที่ของ Bv\r\n",
        "plt.plot([0,1],[1,0], '-r')    ## vector  v    ([1,1])\r\n",
        "plt.plot(0,0, '.b')\r\n",
        "plt.plot([0,0],[-1,5], '^:k')\r\n",
        "plt.plot([-1.5,2.5],[0,0], '>:k')"
      ],
      "execution_count": 21,
      "outputs": [
        {
          "output_type": "execute_result",
          "data": {
            "text/plain": [
              "[<matplotlib.lines.Line2D at 0x7f1ac3575400>]"
            ]
          },
          "metadata": {
            "tags": []
          },
          "execution_count": 21
        },
        {
          "output_type": "display_data",
          "data": {
            "image/png": "[encoded data removed]",
            "text/plain": [
              "<Figure size 432x288 with 1 Axes>"
            ]
          },
          "metadata": {
            "tags": [],
            "needs_background": "light"
          }
        }
      ]
    },
    {
      "cell_type": "code",
      "metadata": {
        "id": "BK1HoKYe4L70",
        "colab": {
          "base_uri": "https://localhost:8080/"
        },
        "outputId": "095adf6f-5b1f-4ca6-a7cc-3b1c000a0857"
      },
      "source": [
        "Ex = np.array([[3,1,6],[7,4,5],[2,-7,1]])\r\n",
        "Ex"
      ],
      "execution_count": 22,
      "outputs": [
        {
          "output_type": "execute_result",
          "data": {
            "text/plain": [
              "array([[ 3,  1,  6],\n",
              "       [ 7,  4,  5],\n",
              "       [ 2, -7,  1]])"
            ]
          },
          "metadata": {
            "tags": []
          },
          "execution_count": 22
        }
      ]
    },
    {
      "cell_type": "code",
      "metadata": {
        "id": "6DWTdbUk5ipi",
        "colab": {
          "base_uri": "https://localhost:8080/"
        },
        "outputId": "63343aee-dd22-4334-9d30-d2a076e85d75"
      },
      "source": [
        "np.linalg.det(Ex)"
      ],
      "execution_count": 23,
      "outputs": [
        {
          "output_type": "execute_result",
          "data": {
            "text/plain": [
              "-221.99999999999997"
            ]
          },
          "metadata": {
            "tags": []
          },
          "execution_count": 23
        }
      ]
    },
    {
      "cell_type": "markdown",
      "metadata": {
        "id": "Wjt0CfLsLijH"
      },
      "source": [
        "HW 5 หา Eigen value กับ Eigen vector ของ \r\n",
        "![HW5.PNG](data:image/png;base64,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)"
      ]
    },
    {
      "cell_type": "code",
      "metadata": {
        "id": "6wP0sbmLLj6y",
        "colab": {
          "base_uri": "https://localhost:8080/"
        },
        "outputId": "bdad33e4-9b14-4c50-ab52-0eb1fd96c421"
      },
      "source": [
        "#สร้าง Matrix A \r\n",
        "A = np.array([[1,0],[1,3]])\r\n",
        "A"
      ],
      "execution_count": 24,
      "outputs": [
        {
          "output_type": "execute_result",
          "data": {
            "text/plain": [
              "array([[1, 0],\n",
              "       [1, 3]])"
            ]
          },
          "metadata": {
            "tags": []
          },
          "execution_count": 24
        }
      ]
    },
    {
      "cell_type": "code",
      "metadata": {
        "id": "o1lvGK3RLsBv",
        "colab": {
          "base_uri": "https://localhost:8080/"
        },
        "outputId": "f32d99bf-6d49-42ed-da2e-df22487f5db0"
      },
      "source": [
        "A[0]\r\n"
      ],
      "execution_count": 25,
      "outputs": [
        {
          "output_type": "execute_result",
          "data": {
            "text/plain": [
              "array([1, 0])"
            ]
          },
          "metadata": {
            "tags": []
          },
          "execution_count": 25
        }
      ]
    },
    {
      "cell_type": "code",
      "metadata": {
        "id": "gK8ZatHxLv9M",
        "colab": {
          "base_uri": "https://localhost:8080/"
        },
        "outputId": "b128231d-e266-440d-eef4-9417644777c1"
      },
      "source": [
        "#ในการ Eigen value กับ Eigen vector จะใช้คำสั่ง .eig ที่อยู่ใน linelg ของ numpy\r\n",
        "A_eig = np.linalg.eig(A)\r\n",
        "A_eig\r\n",
        "#ในการใช้ eig จะมี output 2 ตัว คือ (value,vector)"
      ],
      "execution_count": 26,
      "outputs": [
        {
          "output_type": "execute_result",
          "data": {
            "text/plain": [
              "(array([3., 1.]), array([[ 0.        ,  0.89442719],\n",
              "        [ 1.        , -0.4472136 ]]))"
            ]
          },
          "metadata": {
            "tags": []
          },
          "execution_count": 26
        }
      ]
    },
    {
      "cell_type": "code",
      "metadata": {
        "id": "pbzz85SqL2PP",
        "colab": {
          "base_uri": "https://localhost:8080/"
        },
        "outputId": "d65d201c-d8ab-4c07-e00e-deba460ba948"
      },
      "source": [
        "#ในการ Eigen value กับ Eigen vector จะใช้คำสั่ง .eig ที่อยู่ใน linelg ของ numpy\r\n",
        "A_eig = np.linalg.eig(A)\r\n",
        "A_eig\r\n",
        "#ในการใช้ eig จะมี output 2 ตัว คือ (value,vector)"
      ],
      "execution_count": 27,
      "outputs": [
        {
          "output_type": "execute_result",
          "data": {
            "text/plain": [
              "(array([3., 1.]), array([[ 0.        ,  0.89442719],\n",
              "        [ 1.        , -0.4472136 ]]))"
            ]
          },
          "metadata": {
            "tags": []
          },
          "execution_count": 27
        }
      ]
    },
    {
      "cell_type": "code",
      "metadata": {
        "id": "LnwdhlNxcTdg",
        "colab": {
          "base_uri": "https://localhost:8080/"
        },
        "outputId": "39b0ad6a-92a5-4377-e339-56fb6b468158"
      },
      "source": [
        "print(f'ค่าลักษณะเฉพาะ $Eigen value$ คือ {A_eig[0]}')\r\n",
        "print(f'เวกเตอร์ลักษณะเฉพาะ $Eigen vector$ คือ {A_eig[1]}')"
      ],
      "execution_count": 28,
      "outputs": [
        {
          "output_type": "stream",
          "text": [
            "ค่าลักษณะเฉพาะ $Eigen value$ คือ [3. 1.]\n",
            "เวกเตอร์ลักษณะเฉพาะ $Eigen vector$ คือ [[ 0.          0.89442719]\n",
            " [ 1.         -0.4472136 ]]\n"
          ],
          "name": "stdout"
        }
      ]
    },
    {
      "cell_type": "code",
      "metadata": {
        "id": "NKRlBU1DcXuY",
        "colab": {
          "base_uri": "https://localhost:8080/"
        },
        "outputId": "bf2e10df-297e-4d20-8f72-38909b9c702e"
      },
      "source": [
        "X = np.array([[1,2,-3,4],[4,5,-3,2]])\r\n",
        "print(f'data X =\\n {X}')\r\n",
        "C_X = np.cov(X)\r\n",
        "print(f'Covarience ของ X คือ \\n {C_X}')"
      ],
      "execution_count": 29,
      "outputs": [
        {
          "output_type": "stream",
          "text": [
            "data X =\n",
            " [[ 1  2 -3  4]\n",
            " [ 4  5 -3  2]]\n",
            "Covarience ของ X คือ \n",
            " [[ 8.66666667  7.66666667]\n",
            " [ 7.66666667 12.66666667]]\n"
          ],
          "name": "stdout"
        }
      ]
    },
    {
      "cell_type": "code",
      "metadata": {
        "id": "PkZMTehWca--"
      },
      "source": [
        "W,V = np.linalg.eig(C_X)"
      ],
      "execution_count": 30,
      "outputs": []
    },
    {
      "cell_type": "code",
      "metadata": {
        "id": "k4uGOwgYcbP1",
        "colab": {
          "base_uri": "https://localhost:8080/"
        },
        "outputId": "a7382279-8b95-4edc-c141-c223dc47ac90"
      },
      "source": [
        "W"
      ],
      "execution_count": 31,
      "outputs": [
        {
          "output_type": "execute_result",
          "data": {
            "text/plain": [
              "array([ 2.74342378, 18.58990955])"
            ]
          },
          "metadata": {
            "tags": []
          },
          "execution_count": 31
        }
      ]
    },
    {
      "cell_type": "code",
      "metadata": {
        "id": "eyiBX1__cg1u",
        "colab": {
          "base_uri": "https://localhost:8080/"
        },
        "outputId": "bcd01fe4-0ef5-4ee3-9080-0d0a846cfb45"
      },
      "source": [
        "print(W[1])\r\n",
        "print(V[:,1])"
      ],
      "execution_count": 32,
      "outputs": [
        {
          "output_type": "stream",
          "text": [
            "18.589909549336475\n",
            "[-0.6113829  -0.79133492]\n"
          ],
          "name": "stdout"
        }
      ]
    },
    {
      "cell_type": "code",
      "metadata": {
        "id": "EhycLbxfcjYP",
        "colab": {
          "base_uri": "https://localhost:8080/",
          "height": 0
        },
        "outputId": "2f8a445f-db95-4e23-8622-8001aeaff6b9"
      },
      "source": [
        "plt.plot(X[0,:],X[1,:],'or')\r\n",
        "plt.plot([0,3*V[0,1]],[0,3*V[1,1]],'<-b')"
      ],
      "execution_count": 33,
      "outputs": [
        {
          "output_type": "execute_result",
          "data": {
            "text/plain": [
              "[<matplotlib.lines.Line2D at 0x7f1ac35c5c50>]"
            ]
          },
          "metadata": {
            "tags": []
          },
          "execution_count": 33
        },
        {
          "output_type": "display_data",
          "data": {
            "image/png": "[encoded data removed]",
            "text/plain": [
              "<Figure size 432x288 with 1 Axes>"
            ]
          },
          "metadata": {
            "tags": [],
            "needs_background": "light"
          }
        }
      ]
    },
    {
      "cell_type": "markdown",
      "metadata": {
        "id": "qvIZN_4pcor-"
      },
      "source": [
        "Inverse Matrix \r\n",
        "\r\n",
        "inverse ของ $A$ เขียน $A^{-1}$\r\n",
        "\r\n",
        "นิยาม $A*A^{-1} = I = A^{-1}*A$"
      ]
    },
    {
      "cell_type": "code",
      "metadata": {
        "id": "eTgpSZdScp1_",
        "colab": {
          "base_uri": "https://localhost:8080/"
        },
        "outputId": "15880b92-233b-4a48-ef32-56e21a4c44a4"
      },
      "source": [
        "C_X"
      ],
      "execution_count": 34,
      "outputs": [
        {
          "output_type": "execute_result",
          "data": {
            "text/plain": [
              "array([[ 8.66666667,  7.66666667],\n",
              "       [ 7.66666667, 12.66666667]])"
            ]
          },
          "metadata": {
            "tags": []
          },
          "execution_count": 34
        }
      ]
    },
    {
      "cell_type": "code",
      "metadata": {
        "id": "aMU8_jonctvw",
        "colab": {
          "base_uri": "https://localhost:8080/"
        },
        "outputId": "7568e10c-64be-4ed5-f5bf-0d922f3dfa11"
      },
      "source": [
        "inv_C_X = np.linalg.inv(C_X)\r\n",
        "inv_C_X"
      ],
      "execution_count": 35,
      "outputs": [
        {
          "output_type": "execute_result",
          "data": {
            "text/plain": [
              "array([[ 0.24836601, -0.1503268 ],\n",
              "       [-0.1503268 ,  0.16993464]])"
            ]
          },
          "metadata": {
            "tags": []
          },
          "execution_count": 35
        }
      ]
    },
    {
      "cell_type": "code",
      "metadata": {
        "id": "1FZiwGFbct4O",
        "colab": {
          "base_uri": "https://localhost:8080/"
        },
        "outputId": "339ba4d3-c66f-4ab6-b0b6-e69bd821d59c"
      },
      "source": [
        "#ตรวจสอบได้โดย เอา C_X * inv_C_X\r\n",
        "np.dot(C_X,inv_C_X)"
      ],
      "execution_count": 36,
      "outputs": [
        {
          "output_type": "execute_result",
          "data": {
            "text/plain": [
              "array([[1.00000000e+00, 2.23193529e-16],\n",
              "       [1.26018779e-16, 1.00000000e+00]])"
            ]
          },
          "metadata": {
            "tags": []
          },
          "execution_count": 36
        }
      ]
    },
    {
      "cell_type": "code",
      "metadata": {
        "id": "jlLIywoVcuAV",
        "colab": {
          "base_uri": "https://localhost:8080/"
        },
        "outputId": "ba0f2176-52c5-4721-8dc6-df7c2d2f4643"
      },
      "source": [
        "#ตรวจสอบได้โดย เอา inv_C_X * C_X \r\n",
        "np.dot(inv_C_X,C_X)"
      ],
      "execution_count": 37,
      "outputs": [
        {
          "output_type": "execute_result",
          "data": {
            "text/plain": [
              "array([[1.00000000e+00, 1.26018779e-16],\n",
              "       [2.23193529e-16, 1.00000000e+00]])"
            ]
          },
          "metadata": {
            "tags": []
          },
          "execution_count": 37
        }
      ]
    },
    {
      "cell_type": "code",
      "metadata": {
        "id": "HKsL1Zh4cuOf",
        "colab": {
          "base_uri": "https://localhost:8080/"
        },
        "outputId": "17d66bc1-36a0-45a0-f53c-c29de3213df9"
      },
      "source": [
        "#ตรวจสอบได้โดย inv ตัวที่ได้ ให้ได้เป็นค่าเดิม\r\n",
        "np.linalg.inv(inv_C_X)"
      ],
      "execution_count": 38,
      "outputs": [
        {
          "output_type": "execute_result",
          "data": {
            "text/plain": [
              "array([[ 8.66666667,  7.66666667],\n",
              "       [ 7.66666667, 12.66666667]])"
            ]
          },
          "metadata": {
            "tags": []
          },
          "execution_count": 38
        }
      ]
    },
    {
      "cell_type": "markdown",
      "metadata": {
        "id": "F2cgyUvgc3Yi"
      },
      "source": [
        "#load Data"
      ]
    },
    {
      "cell_type": "code",
      "metadata": {
        "id": "3CmTxoM0c6_H"
      },
      "source": [
        "import pandas as pd"
      ],
      "execution_count": 39,
      "outputs": []
    },
    {
      "cell_type": "code",
      "metadata": {
        "id": "s9ZmfhS7c7C9",
        "colab": {
          "base_uri": "https://localhost:8080/",
          "height": 390
        },
        "outputId": "2713bd37-9afb-4bd4-edc5-52f91ffcf071"
      },
      "source": [
        "pollution_data = pd.read_csv('/pollution.txt',sep='\\t+') #\\t+ คือใช้ tab \r\n",
        "pollution_data"
      ],
      "execution_count": 42,
      "outputs": [
        {
          "output_type": "stream",
          "text": [
            "/usr/local/lib/python3.6/dist-packages/ipykernel_launcher.py:1: ParserWarning: Falling back to the 'python' engine because the 'c' engine does not support regex separators (separators > 1 char and different from '\\s+' are interpreted as regex); you can avoid this warning by specifying engine='python'.\n",
            "  \"\"\"Entry point for launching an IPython kernel.\n"
          ],
          "name": "stderr"
        },
        {
          "output_type": "error",
          "ename": "FileNotFoundError",
          "evalue": "ignored",
          "traceback": [
            "\u001b[0;31m---------------------------------------------------------------------------\u001b[0m",
            "\u001b[0;31mFileNotFoundError\u001b[0m                         Traceback (most recent call last)",
            "\u001b[0;32m<ipython-input-42-c9dcde05f39a>\u001b[0m in \u001b[0;36m<module>\u001b[0;34m()\u001b[0m\n\u001b[0;32m----> 1\u001b[0;31m \u001b[0mpollution_data\u001b[0m \u001b[0;34m=\u001b[0m \u001b[0mpd\u001b[0m\u001b[0;34m.\u001b[0m\u001b[0mread_csv\u001b[0m\u001b[0;34m(\u001b[0m\u001b[0;34m'/pollution.txt'\u001b[0m\u001b[0;34m,\u001b[0m\u001b[0msep\u001b[0m\u001b[0;34m=\u001b[0m\u001b[0;34m'\\t+'\u001b[0m\u001b[0;34m)\u001b[0m \u001b[0;31m#\\t+ คือใช้ tab\u001b[0m\u001b[0;34m\u001b[0m\u001b[0;34m\u001b[0m\u001b[0m\n\u001b[0m\u001b[1;32m      2\u001b[0m \u001b[0mpollution_data\u001b[0m\u001b[0;34m\u001b[0m\u001b[0;34m\u001b[0m\u001b[0m\n",
            "\u001b[0;32m/usr/local/lib/python3.6/dist-packages/pandas/io/parsers.py\u001b[0m in \u001b[0;36mread_csv\u001b[0;34m(filepath_or_buffer, sep, delimiter, header, names, index_col, usecols, squeeze, prefix, mangle_dupe_cols, dtype, engine, converters, true_values, false_values, skipinitialspace, skiprows, skipfooter, nrows, na_values, keep_default_na, na_filter, verbose, skip_blank_lines, parse_dates, infer_datetime_format, keep_date_col, date_parser, dayfirst, cache_dates, iterator, chunksize, compression, thousands, decimal, lineterminator, quotechar, quoting, doublequote, escapechar, comment, encoding, dialect, error_bad_lines, warn_bad_lines, delim_whitespace, low_memory, memory_map, float_precision)\u001b[0m\n\u001b[1;32m    686\u001b[0m     )\n\u001b[1;32m    687\u001b[0m \u001b[0;34m\u001b[0m\u001b[0m\n\u001b[0;32m--> 688\u001b[0;31m     \u001b[0;32mreturn\u001b[0m \u001b[0m_read\u001b[0m\u001b[0;34m(\u001b[0m\u001b[0mfilepath_or_buffer\u001b[0m\u001b[0;34m,\u001b[0m \u001b[0mkwds\u001b[0m\u001b[0;34m)\u001b[0m\u001b[0;34m\u001b[0m\u001b[0;34m\u001b[0m\u001b[0m\n\u001b[0m\u001b[1;32m    689\u001b[0m \u001b[0;34m\u001b[0m\u001b[0m\n\u001b[1;32m    690\u001b[0m \u001b[0;34m\u001b[0m\u001b[0m\n",
            "\u001b[0;32m/usr/local/lib/python3.6/dist-packages/pandas/io/parsers.py\u001b[0m in \u001b[0;36m_read\u001b[0;34m(filepath_or_buffer, kwds)\u001b[0m\n\u001b[1;32m    452\u001b[0m \u001b[0;34m\u001b[0m\u001b[0m\n\u001b[1;32m    453\u001b[0m     \u001b[0;31m# Create the parser.\u001b[0m\u001b[0;34m\u001b[0m\u001b[0;34m\u001b[0m\u001b[0;34m\u001b[0m\u001b[0m\n\u001b[0;32m--> 454\u001b[0;31m     \u001b[0mparser\u001b[0m \u001b[0;34m=\u001b[0m \u001b[0mTextFileReader\u001b[0m\u001b[0;34m(\u001b[0m\u001b[0mfp_or_buf\u001b[0m\u001b[0;34m,\u001b[0m \u001b[0;34m**\u001b[0m\u001b[0mkwds\u001b[0m\u001b[0;34m)\u001b[0m\u001b[0;34m\u001b[0m\u001b[0;34m\u001b[0m\u001b[0m\n\u001b[0m\u001b[1;32m    455\u001b[0m \u001b[0;34m\u001b[0m\u001b[0m\n\u001b[1;32m    456\u001b[0m     \u001b[0;32mif\u001b[0m \u001b[0mchunksize\u001b[0m \u001b[0;32mor\u001b[0m \u001b[0miterator\u001b[0m\u001b[0;34m:\u001b[0m\u001b[0;34m\u001b[0m\u001b[0;34m\u001b[0m\u001b[0m\n",
            "\u001b[0;32m/usr/local/lib/python3.6/dist-packages/pandas/io/parsers.py\u001b[0m in \u001b[0;36m__init__\u001b[0;34m(self, f, engine, **kwds)\u001b[0m\n\u001b[1;32m    946\u001b[0m             \u001b[0mself\u001b[0m\u001b[0;34m.\u001b[0m\u001b[0moptions\u001b[0m\u001b[0;34m[\u001b[0m\u001b[0;34m\"has_index_names\"\u001b[0m\u001b[0;34m]\u001b[0m \u001b[0;34m=\u001b[0m \u001b[0mkwds\u001b[0m\u001b[0;34m[\u001b[0m\u001b[0;34m\"has_index_names\"\u001b[0m\u001b[0;34m]\u001b[0m\u001b[0;34m\u001b[0m\u001b[0;34m\u001b[0m\u001b[0m\n\u001b[1;32m    947\u001b[0m \u001b[0;34m\u001b[0m\u001b[0m\n\u001b[0;32m--> 948\u001b[0;31m         \u001b[0mself\u001b[0m\u001b[0;34m.\u001b[0m\u001b[0m_make_engine\u001b[0m\u001b[0;34m(\u001b[0m\u001b[0mself\u001b[0m\u001b[0;34m.\u001b[0m\u001b[0mengine\u001b[0m\u001b[0;34m)\u001b[0m\u001b[0;34m\u001b[0m\u001b[0;34m\u001b[0m\u001b[0m\n\u001b[0m\u001b[1;32m    949\u001b[0m \u001b[0;34m\u001b[0m\u001b[0m\n\u001b[1;32m    950\u001b[0m     \u001b[0;32mdef\u001b[0m \u001b[0mclose\u001b[0m\u001b[0;34m(\u001b[0m\u001b[0mself\u001b[0m\u001b[0;34m)\u001b[0m\u001b[0;34m:\u001b[0m\u001b[0;34m\u001b[0m\u001b[0;34m\u001b[0m\u001b[0m\n",
            "\u001b[0;32m/usr/local/lib/python3.6/dist-packages/pandas/io/parsers.py\u001b[0m in \u001b[0;36m_make_engine\u001b[0;34m(self, engine)\u001b[0m\n\u001b[1;32m   1189\u001b[0m                     \u001b[0;34m'are \"c\", \"python\", or \"python-fwf\")'\u001b[0m\u001b[0;34m\u001b[0m\u001b[0;34m\u001b[0m\u001b[0m\n\u001b[1;32m   1190\u001b[0m                 )\n\u001b[0;32m-> 1191\u001b[0;31m             \u001b[0mself\u001b[0m\u001b[0;34m.\u001b[0m\u001b[0m_engine\u001b[0m \u001b[0;34m=\u001b[0m \u001b[0mklass\u001b[0m\u001b[0;34m(\u001b[0m\u001b[0mself\u001b[0m\u001b[0;34m.\u001b[0m\u001b[0mf\u001b[0m\u001b[0;34m,\u001b[0m \u001b[0;34m**\u001b[0m\u001b[0mself\u001b[0m\u001b[0;34m.\u001b[0m\u001b[0moptions\u001b[0m\u001b[0;34m)\u001b[0m\u001b[0;34m\u001b[0m\u001b[0;34m\u001b[0m\u001b[0m\n\u001b[0m\u001b[1;32m   1192\u001b[0m \u001b[0;34m\u001b[0m\u001b[0m\n\u001b[1;32m   1193\u001b[0m     \u001b[0;32mdef\u001b[0m \u001b[0m_failover_to_python\u001b[0m\u001b[0;34m(\u001b[0m\u001b[0mself\u001b[0m\u001b[0;34m)\u001b[0m\u001b[0;34m:\u001b[0m\u001b[0;34m\u001b[0m\u001b[0;34m\u001b[0m\u001b[0m\n",
            "\u001b[0;32m/usr/local/lib/python3.6/dist-packages/pandas/io/parsers.py\u001b[0m in \u001b[0;36m__init__\u001b[0;34m(self, f, **kwds)\u001b[0m\n\u001b[1;32m   2387\u001b[0m             \u001b[0mencoding\u001b[0m\u001b[0;34m=\u001b[0m\u001b[0mself\u001b[0m\u001b[0;34m.\u001b[0m\u001b[0mencoding\u001b[0m\u001b[0;34m,\u001b[0m\u001b[0;34m\u001b[0m\u001b[0;34m\u001b[0m\u001b[0m\n\u001b[1;32m   2388\u001b[0m             \u001b[0mcompression\u001b[0m\u001b[0;34m=\u001b[0m\u001b[0mself\u001b[0m\u001b[0;34m.\u001b[0m\u001b[0mcompression\u001b[0m\u001b[0;34m,\u001b[0m\u001b[0;34m\u001b[0m\u001b[0;34m\u001b[0m\u001b[0m\n\u001b[0;32m-> 2389\u001b[0;31m             \u001b[0mmemory_map\u001b[0m\u001b[0;34m=\u001b[0m\u001b[0mself\u001b[0m\u001b[0;34m.\u001b[0m\u001b[0mmemory_map\u001b[0m\u001b[0;34m,\u001b[0m\u001b[0;34m\u001b[0m\u001b[0;34m\u001b[0m\u001b[0m\n\u001b[0m\u001b[1;32m   2390\u001b[0m         )\n\u001b[1;32m   2391\u001b[0m         \u001b[0mself\u001b[0m\u001b[0;34m.\u001b[0m\u001b[0mhandles\u001b[0m\u001b[0;34m.\u001b[0m\u001b[0mextend\u001b[0m\u001b[0;34m(\u001b[0m\u001b[0mhandles\u001b[0m\u001b[0;34m)\u001b[0m\u001b[0;34m\u001b[0m\u001b[0;34m\u001b[0m\u001b[0m\n",
            "\u001b[0;32m/usr/local/lib/python3.6/dist-packages/pandas/io/common.py\u001b[0m in \u001b[0;36mget_handle\u001b[0;34m(path_or_buf, mode, encoding, compression, memory_map, is_text, errors)\u001b[0m\n\u001b[1;32m    494\u001b[0m         \u001b[0;32melif\u001b[0m \u001b[0mis_text\u001b[0m\u001b[0;34m:\u001b[0m\u001b[0;34m\u001b[0m\u001b[0;34m\u001b[0m\u001b[0m\n\u001b[1;32m    495\u001b[0m             \u001b[0;31m# No explicit encoding\u001b[0m\u001b[0;34m\u001b[0m\u001b[0;34m\u001b[0m\u001b[0;34m\u001b[0m\u001b[0m\n\u001b[0;32m--> 496\u001b[0;31m             \u001b[0mf\u001b[0m \u001b[0;34m=\u001b[0m \u001b[0mopen\u001b[0m\u001b[0;34m(\u001b[0m\u001b[0mpath_or_buf\u001b[0m\u001b[0;34m,\u001b[0m \u001b[0mmode\u001b[0m\u001b[0;34m,\u001b[0m \u001b[0merrors\u001b[0m\u001b[0;34m=\u001b[0m\u001b[0;34m\"replace\"\u001b[0m\u001b[0;34m,\u001b[0m \u001b[0mnewline\u001b[0m\u001b[0;34m=\u001b[0m\u001b[0;34m\"\"\u001b[0m\u001b[0;34m)\u001b[0m\u001b[0;34m\u001b[0m\u001b[0;34m\u001b[0m\u001b[0m\n\u001b[0m\u001b[1;32m    497\u001b[0m         \u001b[0;32melse\u001b[0m\u001b[0;34m:\u001b[0m\u001b[0;34m\u001b[0m\u001b[0;34m\u001b[0m\u001b[0m\n\u001b[1;32m    498\u001b[0m             \u001b[0;31m# Binary mode\u001b[0m\u001b[0;34m\u001b[0m\u001b[0;34m\u001b[0m\u001b[0;34m\u001b[0m\u001b[0m\n",
            "\u001b[0;31mFileNotFoundError\u001b[0m: [Errno 2] No such file or directory: '/pollution.txt'"
          ]
        }
      ]
    }
  ]
}