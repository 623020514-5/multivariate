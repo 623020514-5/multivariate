{
  "nbformat": 4,
  "nbformat_minor": 0,
  "metadata": {
    "colab": {
      "name": "Chapter4 MDS.ipynb",
      "provenance": [],
      "authorship_tag": "ABX9TyN87En4FEJoyswKwY1dHWRP",
      "include_colab_link": true
    },
    "kernelspec": {
      "name": "python3",
      "display_name": "Python 3"
    },
    "language_info": {
      "name": "python"
    }
  },
  "cells": [
    {
      "cell_type": "markdown",
      "metadata": {
        "id": "view-in-github",
        "colab_type": "text"
      },
      "source": [
        "<a href=\"https://colab.research.google.com/github/623020514-5/multivariate/blob/main/Chapter4_MDS.ipynb\" target=\"_parent\"><img src=\"https://colab.research.google.com/assets/colab-badge.svg\" alt=\"Open In Colab\"/></a>"
      ]
    },
    {
      "cell_type": "markdown",
      "metadata": {
        "id": "o79JLwSmC4PD"
      },
      "source": [
        "#**Multidimensional scalling**\n"
      ]
    },
    {
      "cell_type": "markdown",
      "metadata": {
        "id": "tzTQmo27G7O4"
      },
      "source": [
        "##วิธีทำ MDS\n",
        "\n",
        "1.   จะเริ่มจากการคำนวณระยะห่างระหว่างจุดแต่ละจุด ว่ามีระยะห่างเท่าไหร่\n",
        "2.   เลือกจุดๆนึงเป็นจุดตั้งต้น แล้วมาหาจุดที่มีระยะห่างน้อยไปถึงมาก\n",
        "3.   โดยเมื่อนำระยะห่างมาเท่ากับจุดต้น ระยะห่างจากจุดอื่นๆต้องมีระยะห่างเท่าเดิมไม่เปลี่ยนแปลง"
      ]
    },
    {
      "cell_type": "markdown",
      "metadata": {
        "id": "oyQtl4LwUooh"
      },
      "source": [
        "ข้อดีของมันคือ จะอยู่จุดเดิมเสมอ โดยที่ใช้ความสว่างเป็นตัวอ่านค่าเวลา plot graph"
      ]
    },
    {
      "cell_type": "markdown",
      "metadata": {
        "id": "BUvbHPWjU-UP"
      },
      "source": [
        "##**Example data Iris**\n",
        "\n",
        "ลอง plot PCA เพื่อเปรียบเทียบกับ MDS"
      ]
    },
    {
      "cell_type": "code",
      "metadata": {
        "id": "DMTlZu3QCtmg"
      },
      "source": [
        ""
      ],
      "execution_count": null,
      "outputs": []
    }
  ]
}