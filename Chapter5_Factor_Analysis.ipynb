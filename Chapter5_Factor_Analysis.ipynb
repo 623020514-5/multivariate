{
  "nbformat": 4,
  "nbformat_minor": 0,
  "metadata": {
    "colab": {
      "name": "Chapter5 Factor Analysis.ipynb",
      "provenance": [],
      "authorship_tag": "ABX9TyOyWLh+0V1RYJ3Cc5NMzTlw",
      "include_colab_link": true
    },
    "kernelspec": {
      "name": "python3",
      "display_name": "Python 3"
    },
    "language_info": {
      "name": "python"
    }
  },
  "cells": [
    {
      "cell_type": "markdown",
      "metadata": {
        "id": "view-in-github",
        "colab_type": "text"
      },
      "source": [
        "<a href=\"https://colab.research.google.com/github/623020514-5/multivariate/blob/main/Chapter5_Factor_Analysis.ipynb\" target=\"_parent\"><img src=\"https://colab.research.google.com/assets/colab-badge.svg\" alt=\"Open In Colab\"/></a>"
      ]
    },
    {
      "cell_type": "markdown",
      "metadata": {
        "id": "hnzk2i_wE1nk"
      },
      "source": [
        "https://www.datacamp.com/community/tutorials/introduction-factor-analysis?fbclid=IwAR1r7DMXKvnMr-keVwlp7FtSSnxsj01HkhPANfLBF3WFTFo-YEdl8isAU80\n",
        "\n"
      ]
    },
    {
      "cell_type": "markdown",
      "metadata": {
        "id": "KNb8Wnl-GPQW"
      },
      "source": [
        "**Assumtion**"
      ]
    },
    {
      "cell_type": "code",
      "metadata": {
        "id": "ezPrSdoCE4kN"
      },
      "source": [
        "import pandas as pd #เรียกใช้เเพนด้า"
      ],
      "execution_count": 1,
      "outputs": []
    },
    {
      "cell_type": "code",
      "metadata": {
        "colab": {
          "base_uri": "https://localhost:8080/",
          "height": 232
        },
        "id": "zy4sffFMGWu4",
        "outputId": "7eb79b8b-0965-4bac-eb3b-e281db43a8df"
      },
      "source": [
        "BFI_data = pd.read_csv('/content/bfi.csv') #copy path csv ตรงๆ\n",
        "BFI_data.head() #show data"
      ],
      "execution_count": 2,
      "outputs": [
        {
          "output_type": "execute_result",
          "data": {
            "text/html": [
              "<div>\n",
              "<style scoped>\n",
              "    .dataframe tbody tr th:only-of-type {\n",
              "        vertical-align: middle;\n",
              "    }\n",
              "\n",
              "    .dataframe tbody tr th {\n",
              "        vertical-align: top;\n",
              "    }\n",
              "\n",
              "    .dataframe thead th {\n",
              "        text-align: right;\n",
              "    }\n",
              "</style>\n",
              "<table border=\"1\" class=\"dataframe\">\n",
              "  <thead>\n",
              "    <tr style=\"text-align: right;\">\n",
              "      <th></th>\n",
              "      <th>Unnamed: 0</th>\n",
              "      <th>A1</th>\n",
              "      <th>A2</th>\n",
              "      <th>A3</th>\n",
              "      <th>A4</th>\n",
              "      <th>A5</th>\n",
              "      <th>C1</th>\n",
              "      <th>C2</th>\n",
              "      <th>C3</th>\n",
              "      <th>C4</th>\n",
              "      <th>C5</th>\n",
              "      <th>E1</th>\n",
              "      <th>E2</th>\n",
              "      <th>E3</th>\n",
              "      <th>E4</th>\n",
              "      <th>E5</th>\n",
              "      <th>N1</th>\n",
              "      <th>N2</th>\n",
              "      <th>N3</th>\n",
              "      <th>N4</th>\n",
              "      <th>N5</th>\n",
              "      <th>O1</th>\n",
              "      <th>O2</th>\n",
              "      <th>O3</th>\n",
              "      <th>O4</th>\n",
              "      <th>O5</th>\n",
              "      <th>gender</th>\n",
              "      <th>education</th>\n",
              "      <th>age</th>\n",
              "    </tr>\n",
              "  </thead>\n",
              "  <tbody>\n",
              "    <tr>\n",
              "      <th>0</th>\n",
              "      <td>61617</td>\n",
              "      <td>2.0</td>\n",
              "      <td>4.0</td>\n",
              "      <td>3.0</td>\n",
              "      <td>4.0</td>\n",
              "      <td>4.0</td>\n",
              "      <td>2.0</td>\n",
              "      <td>3.0</td>\n",
              "      <td>3.0</td>\n",
              "      <td>4.0</td>\n",
              "      <td>4.0</td>\n",
              "      <td>3.0</td>\n",
              "      <td>3.0</td>\n",
              "      <td>3.0</td>\n",
              "      <td>4.0</td>\n",
              "      <td>4.0</td>\n",
              "      <td>3.0</td>\n",
              "      <td>4.0</td>\n",
              "      <td>2.0</td>\n",
              "      <td>2.0</td>\n",
              "      <td>3.0</td>\n",
              "      <td>3.0</td>\n",
              "      <td>6</td>\n",
              "      <td>3.0</td>\n",
              "      <td>4.0</td>\n",
              "      <td>3.0</td>\n",
              "      <td>1</td>\n",
              "      <td>NaN</td>\n",
              "      <td>16</td>\n",
              "    </tr>\n",
              "    <tr>\n",
              "      <th>1</th>\n",
              "      <td>61618</td>\n",
              "      <td>2.0</td>\n",
              "      <td>4.0</td>\n",
              "      <td>5.0</td>\n",
              "      <td>2.0</td>\n",
              "      <td>5.0</td>\n",
              "      <td>5.0</td>\n",
              "      <td>4.0</td>\n",
              "      <td>4.0</td>\n",
              "      <td>3.0</td>\n",
              "      <td>4.0</td>\n",
              "      <td>1.0</td>\n",
              "      <td>1.0</td>\n",
              "      <td>6.0</td>\n",
              "      <td>4.0</td>\n",
              "      <td>3.0</td>\n",
              "      <td>3.0</td>\n",
              "      <td>3.0</td>\n",
              "      <td>3.0</td>\n",
              "      <td>5.0</td>\n",
              "      <td>5.0</td>\n",
              "      <td>4.0</td>\n",
              "      <td>2</td>\n",
              "      <td>4.0</td>\n",
              "      <td>3.0</td>\n",
              "      <td>3.0</td>\n",
              "      <td>2</td>\n",
              "      <td>NaN</td>\n",
              "      <td>18</td>\n",
              "    </tr>\n",
              "    <tr>\n",
              "      <th>2</th>\n",
              "      <td>61620</td>\n",
              "      <td>5.0</td>\n",
              "      <td>4.0</td>\n",
              "      <td>5.0</td>\n",
              "      <td>4.0</td>\n",
              "      <td>4.0</td>\n",
              "      <td>4.0</td>\n",
              "      <td>5.0</td>\n",
              "      <td>4.0</td>\n",
              "      <td>2.0</td>\n",
              "      <td>5.0</td>\n",
              "      <td>2.0</td>\n",
              "      <td>4.0</td>\n",
              "      <td>4.0</td>\n",
              "      <td>4.0</td>\n",
              "      <td>5.0</td>\n",
              "      <td>4.0</td>\n",
              "      <td>5.0</td>\n",
              "      <td>4.0</td>\n",
              "      <td>2.0</td>\n",
              "      <td>3.0</td>\n",
              "      <td>4.0</td>\n",
              "      <td>2</td>\n",
              "      <td>5.0</td>\n",
              "      <td>5.0</td>\n",
              "      <td>2.0</td>\n",
              "      <td>2</td>\n",
              "      <td>NaN</td>\n",
              "      <td>17</td>\n",
              "    </tr>\n",
              "    <tr>\n",
              "      <th>3</th>\n",
              "      <td>61621</td>\n",
              "      <td>4.0</td>\n",
              "      <td>4.0</td>\n",
              "      <td>6.0</td>\n",
              "      <td>5.0</td>\n",
              "      <td>5.0</td>\n",
              "      <td>4.0</td>\n",
              "      <td>4.0</td>\n",
              "      <td>3.0</td>\n",
              "      <td>5.0</td>\n",
              "      <td>5.0</td>\n",
              "      <td>5.0</td>\n",
              "      <td>3.0</td>\n",
              "      <td>4.0</td>\n",
              "      <td>4.0</td>\n",
              "      <td>4.0</td>\n",
              "      <td>2.0</td>\n",
              "      <td>5.0</td>\n",
              "      <td>2.0</td>\n",
              "      <td>4.0</td>\n",
              "      <td>1.0</td>\n",
              "      <td>3.0</td>\n",
              "      <td>3</td>\n",
              "      <td>4.0</td>\n",
              "      <td>3.0</td>\n",
              "      <td>5.0</td>\n",
              "      <td>2</td>\n",
              "      <td>NaN</td>\n",
              "      <td>17</td>\n",
              "    </tr>\n",
              "    <tr>\n",
              "      <th>4</th>\n",
              "      <td>61622</td>\n",
              "      <td>2.0</td>\n",
              "      <td>3.0</td>\n",
              "      <td>3.0</td>\n",
              "      <td>4.0</td>\n",
              "      <td>5.0</td>\n",
              "      <td>4.0</td>\n",
              "      <td>4.0</td>\n",
              "      <td>5.0</td>\n",
              "      <td>3.0</td>\n",
              "      <td>2.0</td>\n",
              "      <td>2.0</td>\n",
              "      <td>2.0</td>\n",
              "      <td>5.0</td>\n",
              "      <td>4.0</td>\n",
              "      <td>5.0</td>\n",
              "      <td>2.0</td>\n",
              "      <td>3.0</td>\n",
              "      <td>4.0</td>\n",
              "      <td>4.0</td>\n",
              "      <td>3.0</td>\n",
              "      <td>3.0</td>\n",
              "      <td>3</td>\n",
              "      <td>4.0</td>\n",
              "      <td>3.0</td>\n",
              "      <td>3.0</td>\n",
              "      <td>1</td>\n",
              "      <td>NaN</td>\n",
              "      <td>17</td>\n",
              "    </tr>\n",
              "  </tbody>\n",
              "</table>\n",
              "</div>"
            ],
            "text/plain": [
              "   Unnamed: 0   A1   A2   A3   A4   A5  ...   O3   O4   O5  gender  education  age\n",
              "0       61617  2.0  4.0  3.0  4.0  4.0  ...  3.0  4.0  3.0       1        NaN   16\n",
              "1       61618  2.0  4.0  5.0  2.0  5.0  ...  4.0  3.0  3.0       2        NaN   18\n",
              "2       61620  5.0  4.0  5.0  4.0  4.0  ...  5.0  5.0  2.0       2        NaN   17\n",
              "3       61621  4.0  4.0  6.0  5.0  5.0  ...  4.0  3.0  5.0       2        NaN   17\n",
              "4       61622  2.0  3.0  3.0  4.0  5.0  ...  4.0  3.0  3.0       1        NaN   17\n",
              "\n",
              "[5 rows x 29 columns]"
            ]
          },
          "metadata": {
            "tags": []
          },
          "execution_count": 2
        }
      ]
    },
    {
      "cell_type": "markdown",
      "metadata": {
        "id": "rw_-vXNUHMLE"
      },
      "source": [
        "ซึงข้อมูลข้างต้นที่ได้มาจะเป็นข้อมูลที่ได้จากแบบสอบถาม จะเป็นคะเเนนจากแบบทดสอบ Unname คือ รหัส เช่น รหัสนักศึกษา or primary key"
      ]
    },
    {
      "cell_type": "markdown",
      "metadata": {
        "id": "0uVcTxnKHrN7"
      },
      "source": [
        "**Factor Analysis**\n",
        "\n",
        "Assumtion: ในข้อมูล multivariate ที่มีตัวแปร observe variables จำนวน n ตัว \n",
        "\n",
        "มีตัวแปร Factor(latent Variables) จำนวน k ตัว ที่สามารถอธิบายข้อมูลทั้งหมดได้ โดย K < n"
      ]
    },
    {
      "cell_type": "markdown",
      "metadata": {
        "id": "VmNxwHUQMncA"
      },
      "source": [
        "![image.png](data:image/png;base64,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)"
      ]
    },
    {
      "cell_type": "markdown",
      "metadata": {
        "id": "gdWbCXNSJxtu"
      },
      "source": [
        "# Assumptions ในการทำ Factor Analysis:\n",
        "\n",
        "* There are no outliers in data.\n",
        "\n",
        "* Sample size should be greater than the factor.\n",
        "\n",
        "* There should not be perfect **multicollinearity**.\n",
        "\n",
        "* There should not be **homoscedasticity** between the variables."
      ]
    },
    {
      "cell_type": "markdown",
      "metadata": {
        "id": "2awm6UpTNIO7"
      },
      "source": [
        "**homoscedasticity** คือ ค่าความคลาดเคลื่อนจะเท่ากันตลอดทั้งเส้นทาง"
      ]
    },
    {
      "cell_type": "markdown",
      "metadata": {
        "id": "jxD36SOFMwk7"
      },
      "source": [
        "ภาวะร่วมเส้นตรงหลายตัวแปรที่สมบูรณ์ (Perfect Multicollinearity)\n",
        "\n",
        "![image.png](data:image/png;base64,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)"
      ]
    },
    {
      "cell_type": "code",
      "metadata": {
        "id": "PA1euOK-HCNU"
      },
      "source": [
        ""
      ],
      "execution_count": null,
      "outputs": []
    }
  ]
}