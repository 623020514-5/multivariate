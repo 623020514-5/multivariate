{
  "nbformat": 4,
  "nbformat_minor": 0,
  "metadata": {
    "colab": {
      "name": "Chapter5 Factor Analysis.ipynb",
      "provenance": [],
      "authorship_tag": "ABX9TyMSeipvW+hlaeAy3/bOBaS2",
      "include_colab_link": true
    },
    "kernelspec": {
      "name": "python3",
      "display_name": "Python 3"
    },
    "language_info": {
      "name": "python"
    }
  },
  "cells": [
    {
      "cell_type": "markdown",
      "metadata": {
        "id": "view-in-github",
        "colab_type": "text"
      },
      "source": [
        "<a href=\"https://colab.research.google.com/github/623020514-5/multivariate/blob/main/Chapter5_Factor_Analysis.ipynb\" target=\"_parent\"><img src=\"https://colab.research.google.com/assets/colab-badge.svg\" alt=\"Open In Colab\"/></a>"
      ]
    },
    {
      "cell_type": "markdown",
      "metadata": {
        "id": "hnzk2i_wE1nk"
      },
      "source": [
        "https://www.datacamp.com/community/tutorials/introduction-factor-analysis?fbclid=IwAR1r7DMXKvnMr-keVwlp7FtSSnxsj01HkhPANfLBF3WFTFo-YEdl8isAU80\n",
        "\n"
      ]
    },
    {
      "cell_type": "markdown",
      "metadata": {
        "id": "KNb8Wnl-GPQW"
      },
      "source": [
        "**Assumtion**"
      ]
    },
    {
      "cell_type": "code",
      "metadata": {
        "id": "ezPrSdoCE4kN"
      },
      "source": [
        "import pandas as pd #เรียกใช้เเพนด้า"
      ],
      "execution_count": 1,
      "outputs": []
    },
    {
      "cell_type": "code",
      "metadata": {
        "colab": {
          "base_uri": "https://localhost:8080/",
          "height": 232
        },
        "id": "zy4sffFMGWu4",
        "outputId": "0bbed8d9-a2e0-4e75-e2c6-a0fc7b84d481"
      },
      "source": [
        "BFI_data = pd.read_csv('/content/bfi.csv') #copy path csv ตรงๆ\n",
        "BFI_data.head() #show data"
      ],
      "execution_count": 2,
      "outputs": [
        {
          "output_type": "execute_result",
          "data": {
            "text/html": [
              "<div>\n",
              "<style scoped>\n",
              "    .dataframe tbody tr th:only-of-type {\n",
              "        vertical-align: middle;\n",
              "    }\n",
              "\n",
              "    .dataframe tbody tr th {\n",
              "        vertical-align: top;\n",
              "    }\n",
              "\n",
              "    .dataframe thead th {\n",
              "        text-align: right;\n",
              "    }\n",
              "</style>\n",
              "<table border=\"1\" class=\"dataframe\">\n",
              "  <thead>\n",
              "    <tr style=\"text-align: right;\">\n",
              "      <th></th>\n",
              "      <th>Unnamed: 0</th>\n",
              "      <th>A1</th>\n",
              "      <th>A2</th>\n",
              "      <th>A3</th>\n",
              "      <th>A4</th>\n",
              "      <th>A5</th>\n",
              "      <th>C1</th>\n",
              "      <th>C2</th>\n",
              "      <th>C3</th>\n",
              "      <th>C4</th>\n",
              "      <th>C5</th>\n",
              "      <th>E1</th>\n",
              "      <th>E2</th>\n",
              "      <th>E3</th>\n",
              "      <th>E4</th>\n",
              "      <th>E5</th>\n",
              "      <th>N1</th>\n",
              "      <th>N2</th>\n",
              "      <th>N3</th>\n",
              "      <th>N4</th>\n",
              "      <th>N5</th>\n",
              "      <th>O1</th>\n",
              "      <th>O2</th>\n",
              "      <th>O3</th>\n",
              "      <th>O4</th>\n",
              "      <th>O5</th>\n",
              "      <th>gender</th>\n",
              "      <th>education</th>\n",
              "      <th>age</th>\n",
              "    </tr>\n",
              "  </thead>\n",
              "  <tbody>\n",
              "    <tr>\n",
              "      <th>0</th>\n",
              "      <td>61617</td>\n",
              "      <td>2.0</td>\n",
              "      <td>4.0</td>\n",
              "      <td>3.0</td>\n",
              "      <td>4.0</td>\n",
              "      <td>4.0</td>\n",
              "      <td>2.0</td>\n",
              "      <td>3.0</td>\n",
              "      <td>3.0</td>\n",
              "      <td>4.0</td>\n",
              "      <td>4.0</td>\n",
              "      <td>3.0</td>\n",
              "      <td>3.0</td>\n",
              "      <td>3.0</td>\n",
              "      <td>4.0</td>\n",
              "      <td>4.0</td>\n",
              "      <td>3.0</td>\n",
              "      <td>4.0</td>\n",
              "      <td>2.0</td>\n",
              "      <td>2.0</td>\n",
              "      <td>3.0</td>\n",
              "      <td>3.0</td>\n",
              "      <td>6</td>\n",
              "      <td>3.0</td>\n",
              "      <td>4.0</td>\n",
              "      <td>3.0</td>\n",
              "      <td>1</td>\n",
              "      <td>NaN</td>\n",
              "      <td>16</td>\n",
              "    </tr>\n",
              "    <tr>\n",
              "      <th>1</th>\n",
              "      <td>61618</td>\n",
              "      <td>2.0</td>\n",
              "      <td>4.0</td>\n",
              "      <td>5.0</td>\n",
              "      <td>2.0</td>\n",
              "      <td>5.0</td>\n",
              "      <td>5.0</td>\n",
              "      <td>4.0</td>\n",
              "      <td>4.0</td>\n",
              "      <td>3.0</td>\n",
              "      <td>4.0</td>\n",
              "      <td>1.0</td>\n",
              "      <td>1.0</td>\n",
              "      <td>6.0</td>\n",
              "      <td>4.0</td>\n",
              "      <td>3.0</td>\n",
              "      <td>3.0</td>\n",
              "      <td>3.0</td>\n",
              "      <td>3.0</td>\n",
              "      <td>5.0</td>\n",
              "      <td>5.0</td>\n",
              "      <td>4.0</td>\n",
              "      <td>2</td>\n",
              "      <td>4.0</td>\n",
              "      <td>3.0</td>\n",
              "      <td>3.0</td>\n",
              "      <td>2</td>\n",
              "      <td>NaN</td>\n",
              "      <td>18</td>\n",
              "    </tr>\n",
              "    <tr>\n",
              "      <th>2</th>\n",
              "      <td>61620</td>\n",
              "      <td>5.0</td>\n",
              "      <td>4.0</td>\n",
              "      <td>5.0</td>\n",
              "      <td>4.0</td>\n",
              "      <td>4.0</td>\n",
              "      <td>4.0</td>\n",
              "      <td>5.0</td>\n",
              "      <td>4.0</td>\n",
              "      <td>2.0</td>\n",
              "      <td>5.0</td>\n",
              "      <td>2.0</td>\n",
              "      <td>4.0</td>\n",
              "      <td>4.0</td>\n",
              "      <td>4.0</td>\n",
              "      <td>5.0</td>\n",
              "      <td>4.0</td>\n",
              "      <td>5.0</td>\n",
              "      <td>4.0</td>\n",
              "      <td>2.0</td>\n",
              "      <td>3.0</td>\n",
              "      <td>4.0</td>\n",
              "      <td>2</td>\n",
              "      <td>5.0</td>\n",
              "      <td>5.0</td>\n",
              "      <td>2.0</td>\n",
              "      <td>2</td>\n",
              "      <td>NaN</td>\n",
              "      <td>17</td>\n",
              "    </tr>\n",
              "    <tr>\n",
              "      <th>3</th>\n",
              "      <td>61621</td>\n",
              "      <td>4.0</td>\n",
              "      <td>4.0</td>\n",
              "      <td>6.0</td>\n",
              "      <td>5.0</td>\n",
              "      <td>5.0</td>\n",
              "      <td>4.0</td>\n",
              "      <td>4.0</td>\n",
              "      <td>3.0</td>\n",
              "      <td>5.0</td>\n",
              "      <td>5.0</td>\n",
              "      <td>5.0</td>\n",
              "      <td>3.0</td>\n",
              "      <td>4.0</td>\n",
              "      <td>4.0</td>\n",
              "      <td>4.0</td>\n",
              "      <td>2.0</td>\n",
              "      <td>5.0</td>\n",
              "      <td>2.0</td>\n",
              "      <td>4.0</td>\n",
              "      <td>1.0</td>\n",
              "      <td>3.0</td>\n",
              "      <td>3</td>\n",
              "      <td>4.0</td>\n",
              "      <td>3.0</td>\n",
              "      <td>5.0</td>\n",
              "      <td>2</td>\n",
              "      <td>NaN</td>\n",
              "      <td>17</td>\n",
              "    </tr>\n",
              "    <tr>\n",
              "      <th>4</th>\n",
              "      <td>61622</td>\n",
              "      <td>2.0</td>\n",
              "      <td>3.0</td>\n",
              "      <td>3.0</td>\n",
              "      <td>4.0</td>\n",
              "      <td>5.0</td>\n",
              "      <td>4.0</td>\n",
              "      <td>4.0</td>\n",
              "      <td>5.0</td>\n",
              "      <td>3.0</td>\n",
              "      <td>2.0</td>\n",
              "      <td>2.0</td>\n",
              "      <td>2.0</td>\n",
              "      <td>5.0</td>\n",
              "      <td>4.0</td>\n",
              "      <td>5.0</td>\n",
              "      <td>2.0</td>\n",
              "      <td>3.0</td>\n",
              "      <td>4.0</td>\n",
              "      <td>4.0</td>\n",
              "      <td>3.0</td>\n",
              "      <td>3.0</td>\n",
              "      <td>3</td>\n",
              "      <td>4.0</td>\n",
              "      <td>3.0</td>\n",
              "      <td>3.0</td>\n",
              "      <td>1</td>\n",
              "      <td>NaN</td>\n",
              "      <td>17</td>\n",
              "    </tr>\n",
              "  </tbody>\n",
              "</table>\n",
              "</div>"
            ],
            "text/plain": [
              "   Unnamed: 0   A1   A2   A3   A4   A5  ...   O3   O4   O5  gender  education  age\n",
              "0       61617  2.0  4.0  3.0  4.0  4.0  ...  3.0  4.0  3.0       1        NaN   16\n",
              "1       61618  2.0  4.0  5.0  2.0  5.0  ...  4.0  3.0  3.0       2        NaN   18\n",
              "2       61620  5.0  4.0  5.0  4.0  4.0  ...  5.0  5.0  2.0       2        NaN   17\n",
              "3       61621  4.0  4.0  6.0  5.0  5.0  ...  4.0  3.0  5.0       2        NaN   17\n",
              "4       61622  2.0  3.0  3.0  4.0  5.0  ...  4.0  3.0  3.0       1        NaN   17\n",
              "\n",
              "[5 rows x 29 columns]"
            ]
          },
          "metadata": {
            "tags": []
          },
          "execution_count": 2
        }
      ]
    },
    {
      "cell_type": "markdown",
      "metadata": {
        "id": "rw_-vXNUHMLE"
      },
      "source": [
        "ซึงข้อมูลข้างต้นที่ได้มาจะเป็นข้อมูลที่ได้จากแบบสอบถาม จะเป็นคะเเนนจากแบบทดสอบ Unname คือ รหัส เช่น รหัสนักศึกษา or primary key"
      ]
    },
    {
      "cell_type": "markdown",
      "metadata": {
        "id": "0uVcTxnKHrN7"
      },
      "source": [
        "**Factor Analysis**\n",
        "\n",
        "Assumtion: ในข้อมูล multivariate ที่มีตัวแปร observe variables จำนวน n ตัว \n",
        "\n",
        "มีตัวแปร Factor(latent Variables) จำนวน k ตัว ที่สามารถอธิบายข้อมูลทั้งหมดได้ โดย K < n"
      ]
    },
    {
      "cell_type": "markdown",
      "metadata": {
        "id": "VmNxwHUQMncA"
      },
      "source": [
        "![image.png](data:image/png;base64,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)"
      ]
    },
    {
      "cell_type": "markdown",
      "metadata": {
        "id": "gdWbCXNSJxtu"
      },
      "source": [
        "# Assumptions ในการทำ Factor Analysis:\n",
        "\n",
        "* There are no outliers in data.\n",
        "\n",
        "* Sample size should be greater than the factor.\n",
        "\n",
        "* There should not be perfect **multicollinearity**.\n",
        "\n",
        "* There should not be **homoscedasticity** between the variables."
      ]
    },
    {
      "cell_type": "markdown",
      "metadata": {
        "id": "2awm6UpTNIO7"
      },
      "source": [
        "**homoscedasticity** คือ ค่าความคลาดเคลื่อนจะเท่ากันตลอดทั้งเส้นทาง"
      ]
    },
    {
      "cell_type": "markdown",
      "metadata": {
        "id": "jxD36SOFMwk7"
      },
      "source": [
        "ภาวะร่วมเส้นตรงหลายตัวแปรที่สมบูรณ์ (Perfect Multicollinearity)\n",
        "\n",
        "![image.png](data:image/png;base64,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)"
      ]
    },
    {
      "cell_type": "markdown",
      "metadata": {
        "id": "0Pl1CtEaO1SO"
      },
      "source": [
        "**การทำ Factor Analysi**"
      ]
    },
    {
      "cell_type": "code",
      "metadata": {
        "colab": {
          "base_uri": "https://localhost:8080/",
          "height": 313
        },
        "id": "PA1euOK-HCNU",
        "outputId": "13fd6e34-8696-4622-bb2c-9d78fe18842f"
      },
      "source": [
        "from factor_analyzer import FactorAnalyzer\n",
        "import matplotlib.pyplot as plt"
      ],
      "execution_count": 3,
      "outputs": [
        {
          "output_type": "error",
          "ename": "ModuleNotFoundError",
          "evalue": "ignored",
          "traceback": [
            "\u001b[0;31m---------------------------------------------------------------------------\u001b[0m",
            "\u001b[0;31mModuleNotFoundError\u001b[0m                       Traceback (most recent call last)",
            "\u001b[0;32m<ipython-input-3-bda6d7cd1b63>\u001b[0m in \u001b[0;36m<module>\u001b[0;34m()\u001b[0m\n\u001b[0;32m----> 1\u001b[0;31m \u001b[0;32mfrom\u001b[0m \u001b[0mfactor_analyzer\u001b[0m \u001b[0;32mimport\u001b[0m \u001b[0mFactorAnalyzer\u001b[0m\u001b[0;34m\u001b[0m\u001b[0;34m\u001b[0m\u001b[0m\n\u001b[0m\u001b[1;32m      2\u001b[0m \u001b[0;32mimport\u001b[0m \u001b[0mmatplotlib\u001b[0m\u001b[0;34m.\u001b[0m\u001b[0mpyplot\u001b[0m \u001b[0;32mas\u001b[0m \u001b[0mplt\u001b[0m\u001b[0;34m\u001b[0m\u001b[0;34m\u001b[0m\u001b[0m\n",
            "\u001b[0;31mModuleNotFoundError\u001b[0m: No module named 'factor_analyzer'",
            "",
            "\u001b[0;31m---------------------------------------------------------------------------\u001b[0;32m\nNOTE: If your import is failing due to a missing package, you can\nmanually install dependencies using either !pip or !apt.\n\nTo view examples of installing some common dependencies, click the\n\"Open Examples\" button below.\n\u001b[0;31m---------------------------------------------------------------------------\u001b[0m\n"
          ]
        }
      ]
    },
    {
      "cell_type": "markdown",
      "metadata": {
        "id": "TSOqxQV4PnqK"
      },
      "source": [
        "แก้ error by copy code that is error\n",
        "![image.png](data:image/png;base64,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)"
      ]
    },
    {
      "cell_type": "markdown",
      "metadata": {
        "id": "pa0HLVfXQCae"
      },
      "source": [
        "install package factor_analyzer\n"
      ]
    },
    {
      "cell_type": "code",
      "metadata": {
        "colab": {
          "base_uri": "https://localhost:8080/"
        },
        "id": "R4Mg6Ow2QULe",
        "outputId": "96a155f7-9005-43ba-ed97-c6e9c01687ec"
      },
      "source": [
        "!pip install factor_analyzer"
      ],
      "execution_count": 4,
      "outputs": [
        {
          "output_type": "stream",
          "text": [
            "Collecting factor_analyzer\n",
            "\u001b[?25l  Downloading https://files.pythonhosted.org/packages/44/b5/cbd83484ca6dd4c6562c6d66a6a3a0ecf526e79b2b575b9fb4bf5ad172dd/factor_analyzer-0.3.2.tar.gz (40kB)\n",
            "\r\u001b[K     |████████▏                       | 10kB 15.7MB/s eta 0:00:01\r\u001b[K     |████████████████▍               | 20kB 11.0MB/s eta 0:00:01\r\u001b[K     |████████████████████████▌       | 30kB 7.9MB/s eta 0:00:01\r\u001b[K     |████████████████████████████████| 40kB 2.8MB/s \n",
            "\u001b[?25hRequirement already satisfied: pandas in /usr/local/lib/python3.7/dist-packages (from factor_analyzer) (1.1.5)\n",
            "Requirement already satisfied: scipy in /usr/local/lib/python3.7/dist-packages (from factor_analyzer) (1.4.1)\n",
            "Requirement already satisfied: numpy in /usr/local/lib/python3.7/dist-packages (from factor_analyzer) (1.19.5)\n",
            "Requirement already satisfied: scikit-learn in /usr/local/lib/python3.7/dist-packages (from factor_analyzer) (0.22.2.post1)\n",
            "Requirement already satisfied: pytz>=2017.2 in /usr/local/lib/python3.7/dist-packages (from pandas->factor_analyzer) (2018.9)\n",
            "Requirement already satisfied: python-dateutil>=2.7.3 in /usr/local/lib/python3.7/dist-packages (from pandas->factor_analyzer) (2.8.1)\n",
            "Requirement already satisfied: joblib>=0.11 in /usr/local/lib/python3.7/dist-packages (from scikit-learn->factor_analyzer) (1.0.1)\n",
            "Requirement already satisfied: six>=1.5 in /usr/local/lib/python3.7/dist-packages (from python-dateutil>=2.7.3->pandas->factor_analyzer) (1.15.0)\n",
            "Building wheels for collected packages: factor-analyzer\n",
            "  Building wheel for factor-analyzer (setup.py) ... \u001b[?25l\u001b[?25hdone\n",
            "  Created wheel for factor-analyzer: filename=factor_analyzer-0.3.2-cp37-none-any.whl size=40383 sha256=f354e6c64a3a8df86527194b41f8053372986808466b3a2cd80454aa415643a4\n",
            "  Stored in directory: /root/.cache/pip/wheels/4a/d0/57/f1330cb9c80e82d8d05391c74c94ed61ce3f03bf6157f3d6db\n",
            "Successfully built factor-analyzer\n",
            "Installing collected packages: factor-analyzer\n",
            "Successfully installed factor-analyzer-0.3.2\n"
          ],
          "name": "stdout"
        }
      ]
    },
    {
      "cell_type": "code",
      "metadata": {
        "id": "9tFfand6Qyhi"
      },
      "source": [
        "from factor_analyzer import FactorAnalyzer\n",
        "import matplotlib.pyplot as plt \n",
        "#in chapter3 from matplotlib import pyplot as plt"
      ],
      "execution_count": 5,
      "outputs": []
    },
    {
      "cell_type": "markdown",
      "metadata": {
        "id": "_i1KAldsSGnU"
      },
      "source": [
        "## Quiz 5 เลือกข้อมูลมาเฉพาะ a1,a2,a3,...,o5 ด้วยคำสั่ง .iloc[]"
      ]
    },
    {
      "cell_type": "code",
      "metadata": {
        "colab": {
          "base_uri": "https://localhost:8080/"
        },
        "id": "l0bFqizSTxe1",
        "outputId": "150b896f-c7f1-4c3d-d0bc-aec14bd79789"
      },
      "source": [
        "BFI_data.shape"
      ],
      "execution_count": 6,
      "outputs": [
        {
          "output_type": "execute_result",
          "data": {
            "text/plain": [
              "(2800, 29)"
            ]
          },
          "metadata": {
            "tags": []
          },
          "execution_count": 6
        }
      ]
    },
    {
      "cell_type": "code",
      "metadata": {
        "colab": {
          "base_uri": "https://localhost:8080/",
          "height": 422
        },
        "id": "6fwLBU70Tdob",
        "outputId": "248e88bb-4709-4993-f027-804e6251a8d9"
      },
      "source": [
        "BFI_data_dropped = BFI_data.iloc[:,1:26]\n",
        "BFI_data_dropped"
      ],
      "execution_count": 7,
      "outputs": [
        {
          "output_type": "execute_result",
          "data": {
            "text/html": [
              "<div>\n",
              "<style scoped>\n",
              "    .dataframe tbody tr th:only-of-type {\n",
              "        vertical-align: middle;\n",
              "    }\n",
              "\n",
              "    .dataframe tbody tr th {\n",
              "        vertical-align: top;\n",
              "    }\n",
              "\n",
              "    .dataframe thead th {\n",
              "        text-align: right;\n",
              "    }\n",
              "</style>\n",
              "<table border=\"1\" class=\"dataframe\">\n",
              "  <thead>\n",
              "    <tr style=\"text-align: right;\">\n",
              "      <th></th>\n",
              "      <th>A1</th>\n",
              "      <th>A2</th>\n",
              "      <th>A3</th>\n",
              "      <th>A4</th>\n",
              "      <th>A5</th>\n",
              "      <th>C1</th>\n",
              "      <th>C2</th>\n",
              "      <th>C3</th>\n",
              "      <th>C4</th>\n",
              "      <th>C5</th>\n",
              "      <th>E1</th>\n",
              "      <th>E2</th>\n",
              "      <th>E3</th>\n",
              "      <th>E4</th>\n",
              "      <th>E5</th>\n",
              "      <th>N1</th>\n",
              "      <th>N2</th>\n",
              "      <th>N3</th>\n",
              "      <th>N4</th>\n",
              "      <th>N5</th>\n",
              "      <th>O1</th>\n",
              "      <th>O2</th>\n",
              "      <th>O3</th>\n",
              "      <th>O4</th>\n",
              "      <th>O5</th>\n",
              "    </tr>\n",
              "  </thead>\n",
              "  <tbody>\n",
              "    <tr>\n",
              "      <th>0</th>\n",
              "      <td>2.0</td>\n",
              "      <td>4.0</td>\n",
              "      <td>3.0</td>\n",
              "      <td>4.0</td>\n",
              "      <td>4.0</td>\n",
              "      <td>2.0</td>\n",
              "      <td>3.0</td>\n",
              "      <td>3.0</td>\n",
              "      <td>4.0</td>\n",
              "      <td>4.0</td>\n",
              "      <td>3.0</td>\n",
              "      <td>3.0</td>\n",
              "      <td>3.0</td>\n",
              "      <td>4.0</td>\n",
              "      <td>4.0</td>\n",
              "      <td>3.0</td>\n",
              "      <td>4.0</td>\n",
              "      <td>2.0</td>\n",
              "      <td>2.0</td>\n",
              "      <td>3.0</td>\n",
              "      <td>3.0</td>\n",
              "      <td>6</td>\n",
              "      <td>3.0</td>\n",
              "      <td>4.0</td>\n",
              "      <td>3.0</td>\n",
              "    </tr>\n",
              "    <tr>\n",
              "      <th>1</th>\n",
              "      <td>2.0</td>\n",
              "      <td>4.0</td>\n",
              "      <td>5.0</td>\n",
              "      <td>2.0</td>\n",
              "      <td>5.0</td>\n",
              "      <td>5.0</td>\n",
              "      <td>4.0</td>\n",
              "      <td>4.0</td>\n",
              "      <td>3.0</td>\n",
              "      <td>4.0</td>\n",
              "      <td>1.0</td>\n",
              "      <td>1.0</td>\n",
              "      <td>6.0</td>\n",
              "      <td>4.0</td>\n",
              "      <td>3.0</td>\n",
              "      <td>3.0</td>\n",
              "      <td>3.0</td>\n",
              "      <td>3.0</td>\n",
              "      <td>5.0</td>\n",
              "      <td>5.0</td>\n",
              "      <td>4.0</td>\n",
              "      <td>2</td>\n",
              "      <td>4.0</td>\n",
              "      <td>3.0</td>\n",
              "      <td>3.0</td>\n",
              "    </tr>\n",
              "    <tr>\n",
              "      <th>2</th>\n",
              "      <td>5.0</td>\n",
              "      <td>4.0</td>\n",
              "      <td>5.0</td>\n",
              "      <td>4.0</td>\n",
              "      <td>4.0</td>\n",
              "      <td>4.0</td>\n",
              "      <td>5.0</td>\n",
              "      <td>4.0</td>\n",
              "      <td>2.0</td>\n",
              "      <td>5.0</td>\n",
              "      <td>2.0</td>\n",
              "      <td>4.0</td>\n",
              "      <td>4.0</td>\n",
              "      <td>4.0</td>\n",
              "      <td>5.0</td>\n",
              "      <td>4.0</td>\n",
              "      <td>5.0</td>\n",
              "      <td>4.0</td>\n",
              "      <td>2.0</td>\n",
              "      <td>3.0</td>\n",
              "      <td>4.0</td>\n",
              "      <td>2</td>\n",
              "      <td>5.0</td>\n",
              "      <td>5.0</td>\n",
              "      <td>2.0</td>\n",
              "    </tr>\n",
              "    <tr>\n",
              "      <th>3</th>\n",
              "      <td>4.0</td>\n",
              "      <td>4.0</td>\n",
              "      <td>6.0</td>\n",
              "      <td>5.0</td>\n",
              "      <td>5.0</td>\n",
              "      <td>4.0</td>\n",
              "      <td>4.0</td>\n",
              "      <td>3.0</td>\n",
              "      <td>5.0</td>\n",
              "      <td>5.0</td>\n",
              "      <td>5.0</td>\n",
              "      <td>3.0</td>\n",
              "      <td>4.0</td>\n",
              "      <td>4.0</td>\n",
              "      <td>4.0</td>\n",
              "      <td>2.0</td>\n",
              "      <td>5.0</td>\n",
              "      <td>2.0</td>\n",
              "      <td>4.0</td>\n",
              "      <td>1.0</td>\n",
              "      <td>3.0</td>\n",
              "      <td>3</td>\n",
              "      <td>4.0</td>\n",
              "      <td>3.0</td>\n",
              "      <td>5.0</td>\n",
              "    </tr>\n",
              "    <tr>\n",
              "      <th>4</th>\n",
              "      <td>2.0</td>\n",
              "      <td>3.0</td>\n",
              "      <td>3.0</td>\n",
              "      <td>4.0</td>\n",
              "      <td>5.0</td>\n",
              "      <td>4.0</td>\n",
              "      <td>4.0</td>\n",
              "      <td>5.0</td>\n",
              "      <td>3.0</td>\n",
              "      <td>2.0</td>\n",
              "      <td>2.0</td>\n",
              "      <td>2.0</td>\n",
              "      <td>5.0</td>\n",
              "      <td>4.0</td>\n",
              "      <td>5.0</td>\n",
              "      <td>2.0</td>\n",
              "      <td>3.0</td>\n",
              "      <td>4.0</td>\n",
              "      <td>4.0</td>\n",
              "      <td>3.0</td>\n",
              "      <td>3.0</td>\n",
              "      <td>3</td>\n",
              "      <td>4.0</td>\n",
              "      <td>3.0</td>\n",
              "      <td>3.0</td>\n",
              "    </tr>\n",
              "    <tr>\n",
              "      <th>...</th>\n",
              "      <td>...</td>\n",
              "      <td>...</td>\n",
              "      <td>...</td>\n",
              "      <td>...</td>\n",
              "      <td>...</td>\n",
              "      <td>...</td>\n",
              "      <td>...</td>\n",
              "      <td>...</td>\n",
              "      <td>...</td>\n",
              "      <td>...</td>\n",
              "      <td>...</td>\n",
              "      <td>...</td>\n",
              "      <td>...</td>\n",
              "      <td>...</td>\n",
              "      <td>...</td>\n",
              "      <td>...</td>\n",
              "      <td>...</td>\n",
              "      <td>...</td>\n",
              "      <td>...</td>\n",
              "      <td>...</td>\n",
              "      <td>...</td>\n",
              "      <td>...</td>\n",
              "      <td>...</td>\n",
              "      <td>...</td>\n",
              "      <td>...</td>\n",
              "    </tr>\n",
              "    <tr>\n",
              "      <th>2795</th>\n",
              "      <td>6.0</td>\n",
              "      <td>1.0</td>\n",
              "      <td>3.0</td>\n",
              "      <td>3.0</td>\n",
              "      <td>3.0</td>\n",
              "      <td>6.0</td>\n",
              "      <td>6.0</td>\n",
              "      <td>6.0</td>\n",
              "      <td>1.0</td>\n",
              "      <td>1.0</td>\n",
              "      <td>1.0</td>\n",
              "      <td>4.0</td>\n",
              "      <td>5.0</td>\n",
              "      <td>5.0</td>\n",
              "      <td>6.0</td>\n",
              "      <td>1.0</td>\n",
              "      <td>1.0</td>\n",
              "      <td>1.0</td>\n",
              "      <td>NaN</td>\n",
              "      <td>1.0</td>\n",
              "      <td>6.0</td>\n",
              "      <td>1</td>\n",
              "      <td>6.0</td>\n",
              "      <td>6.0</td>\n",
              "      <td>1.0</td>\n",
              "    </tr>\n",
              "    <tr>\n",
              "      <th>2796</th>\n",
              "      <td>2.0</td>\n",
              "      <td>4.0</td>\n",
              "      <td>4.0</td>\n",
              "      <td>3.0</td>\n",
              "      <td>5.0</td>\n",
              "      <td>2.0</td>\n",
              "      <td>3.0</td>\n",
              "      <td>4.0</td>\n",
              "      <td>4.0</td>\n",
              "      <td>3.0</td>\n",
              "      <td>2.0</td>\n",
              "      <td>2.0</td>\n",
              "      <td>4.0</td>\n",
              "      <td>4.0</td>\n",
              "      <td>3.0</td>\n",
              "      <td>NaN</td>\n",
              "      <td>3.0</td>\n",
              "      <td>2.0</td>\n",
              "      <td>3.0</td>\n",
              "      <td>3.0</td>\n",
              "      <td>6.0</td>\n",
              "      <td>3</td>\n",
              "      <td>5.0</td>\n",
              "      <td>4.0</td>\n",
              "      <td>2.0</td>\n",
              "    </tr>\n",
              "    <tr>\n",
              "      <th>2797</th>\n",
              "      <td>2.0</td>\n",
              "      <td>3.0</td>\n",
              "      <td>5.0</td>\n",
              "      <td>2.0</td>\n",
              "      <td>5.0</td>\n",
              "      <td>5.0</td>\n",
              "      <td>5.0</td>\n",
              "      <td>5.0</td>\n",
              "      <td>1.0</td>\n",
              "      <td>1.0</td>\n",
              "      <td>2.0</td>\n",
              "      <td>2.0</td>\n",
              "      <td>6.0</td>\n",
              "      <td>3.0</td>\n",
              "      <td>6.0</td>\n",
              "      <td>3.0</td>\n",
              "      <td>4.0</td>\n",
              "      <td>3.0</td>\n",
              "      <td>3.0</td>\n",
              "      <td>1.0</td>\n",
              "      <td>5.0</td>\n",
              "      <td>1</td>\n",
              "      <td>6.0</td>\n",
              "      <td>4.0</td>\n",
              "      <td>3.0</td>\n",
              "    </tr>\n",
              "    <tr>\n",
              "      <th>2798</th>\n",
              "      <td>5.0</td>\n",
              "      <td>2.0</td>\n",
              "      <td>2.0</td>\n",
              "      <td>4.0</td>\n",
              "      <td>4.0</td>\n",
              "      <td>5.0</td>\n",
              "      <td>5.0</td>\n",
              "      <td>5.0</td>\n",
              "      <td>2.0</td>\n",
              "      <td>6.0</td>\n",
              "      <td>2.0</td>\n",
              "      <td>2.0</td>\n",
              "      <td>4.0</td>\n",
              "      <td>5.0</td>\n",
              "      <td>4.0</td>\n",
              "      <td>5.0</td>\n",
              "      <td>5.0</td>\n",
              "      <td>6.0</td>\n",
              "      <td>4.0</td>\n",
              "      <td>1.0</td>\n",
              "      <td>5.0</td>\n",
              "      <td>2</td>\n",
              "      <td>5.0</td>\n",
              "      <td>5.0</td>\n",
              "      <td>1.0</td>\n",
              "    </tr>\n",
              "    <tr>\n",
              "      <th>2799</th>\n",
              "      <td>2.0</td>\n",
              "      <td>3.0</td>\n",
              "      <td>1.0</td>\n",
              "      <td>4.0</td>\n",
              "      <td>2.0</td>\n",
              "      <td>5.0</td>\n",
              "      <td>5.0</td>\n",
              "      <td>3.0</td>\n",
              "      <td>3.0</td>\n",
              "      <td>3.0</td>\n",
              "      <td>3.0</td>\n",
              "      <td>3.0</td>\n",
              "      <td>1.0</td>\n",
              "      <td>2.0</td>\n",
              "      <td>2.0</td>\n",
              "      <td>1.0</td>\n",
              "      <td>2.0</td>\n",
              "      <td>2.0</td>\n",
              "      <td>1.0</td>\n",
              "      <td>1.0</td>\n",
              "      <td>3.0</td>\n",
              "      <td>1</td>\n",
              "      <td>3.0</td>\n",
              "      <td>5.0</td>\n",
              "      <td>1.0</td>\n",
              "    </tr>\n",
              "  </tbody>\n",
              "</table>\n",
              "<p>2800 rows × 25 columns</p>\n",
              "</div>"
            ],
            "text/plain": [
              "       A1   A2   A3   A4   A5   C1   C2  ...   N4   N5   O1  O2   O3   O4   O5\n",
              "0     2.0  4.0  3.0  4.0  4.0  2.0  3.0  ...  2.0  3.0  3.0   6  3.0  4.0  3.0\n",
              "1     2.0  4.0  5.0  2.0  5.0  5.0  4.0  ...  5.0  5.0  4.0   2  4.0  3.0  3.0\n",
              "2     5.0  4.0  5.0  4.0  4.0  4.0  5.0  ...  2.0  3.0  4.0   2  5.0  5.0  2.0\n",
              "3     4.0  4.0  6.0  5.0  5.0  4.0  4.0  ...  4.0  1.0  3.0   3  4.0  3.0  5.0\n",
              "4     2.0  3.0  3.0  4.0  5.0  4.0  4.0  ...  4.0  3.0  3.0   3  4.0  3.0  3.0\n",
              "...   ...  ...  ...  ...  ...  ...  ...  ...  ...  ...  ...  ..  ...  ...  ...\n",
              "2795  6.0  1.0  3.0  3.0  3.0  6.0  6.0  ...  NaN  1.0  6.0   1  6.0  6.0  1.0\n",
              "2796  2.0  4.0  4.0  3.0  5.0  2.0  3.0  ...  3.0  3.0  6.0   3  5.0  4.0  2.0\n",
              "2797  2.0  3.0  5.0  2.0  5.0  5.0  5.0  ...  3.0  1.0  5.0   1  6.0  4.0  3.0\n",
              "2798  5.0  2.0  2.0  4.0  4.0  5.0  5.0  ...  4.0  1.0  5.0   2  5.0  5.0  1.0\n",
              "2799  2.0  3.0  1.0  4.0  2.0  5.0  5.0  ...  1.0  1.0  3.0   1  3.0  5.0  1.0\n",
              "\n",
              "[2800 rows x 25 columns]"
            ]
          },
          "metadata": {
            "tags": []
          },
          "execution_count": 7
        }
      ]
    },
    {
      "cell_type": "code",
      "metadata": {
        "id": "7DDJz9XOBK2v",
        "colab": {
          "base_uri": "https://localhost:8080/",
          "height": 422
        },
        "outputId": "b12f2151-2634-4087-ccc4-5f7980fcf42c"
      },
      "source": [
        "## เฉลย\n",
        "BFI_data_dropped = BFI_data.iloc[:,1:-3]\n",
        "BFI_data_dropped"
      ],
      "execution_count": 8,
      "outputs": [
        {
          "output_type": "execute_result",
          "data": {
            "text/html": [
              "<div>\n",
              "<style scoped>\n",
              "    .dataframe tbody tr th:only-of-type {\n",
              "        vertical-align: middle;\n",
              "    }\n",
              "\n",
              "    .dataframe tbody tr th {\n",
              "        vertical-align: top;\n",
              "    }\n",
              "\n",
              "    .dataframe thead th {\n",
              "        text-align: right;\n",
              "    }\n",
              "</style>\n",
              "<table border=\"1\" class=\"dataframe\">\n",
              "  <thead>\n",
              "    <tr style=\"text-align: right;\">\n",
              "      <th></th>\n",
              "      <th>A1</th>\n",
              "      <th>A2</th>\n",
              "      <th>A3</th>\n",
              "      <th>A4</th>\n",
              "      <th>A5</th>\n",
              "      <th>C1</th>\n",
              "      <th>C2</th>\n",
              "      <th>C3</th>\n",
              "      <th>C4</th>\n",
              "      <th>C5</th>\n",
              "      <th>E1</th>\n",
              "      <th>E2</th>\n",
              "      <th>E3</th>\n",
              "      <th>E4</th>\n",
              "      <th>E5</th>\n",
              "      <th>N1</th>\n",
              "      <th>N2</th>\n",
              "      <th>N3</th>\n",
              "      <th>N4</th>\n",
              "      <th>N5</th>\n",
              "      <th>O1</th>\n",
              "      <th>O2</th>\n",
              "      <th>O3</th>\n",
              "      <th>O4</th>\n",
              "      <th>O5</th>\n",
              "    </tr>\n",
              "  </thead>\n",
              "  <tbody>\n",
              "    <tr>\n",
              "      <th>0</th>\n",
              "      <td>2.0</td>\n",
              "      <td>4.0</td>\n",
              "      <td>3.0</td>\n",
              "      <td>4.0</td>\n",
              "      <td>4.0</td>\n",
              "      <td>2.0</td>\n",
              "      <td>3.0</td>\n",
              "      <td>3.0</td>\n",
              "      <td>4.0</td>\n",
              "      <td>4.0</td>\n",
              "      <td>3.0</td>\n",
              "      <td>3.0</td>\n",
              "      <td>3.0</td>\n",
              "      <td>4.0</td>\n",
              "      <td>4.0</td>\n",
              "      <td>3.0</td>\n",
              "      <td>4.0</td>\n",
              "      <td>2.0</td>\n",
              "      <td>2.0</td>\n",
              "      <td>3.0</td>\n",
              "      <td>3.0</td>\n",
              "      <td>6</td>\n",
              "      <td>3.0</td>\n",
              "      <td>4.0</td>\n",
              "      <td>3.0</td>\n",
              "    </tr>\n",
              "    <tr>\n",
              "      <th>1</th>\n",
              "      <td>2.0</td>\n",
              "      <td>4.0</td>\n",
              "      <td>5.0</td>\n",
              "      <td>2.0</td>\n",
              "      <td>5.0</td>\n",
              "      <td>5.0</td>\n",
              "      <td>4.0</td>\n",
              "      <td>4.0</td>\n",
              "      <td>3.0</td>\n",
              "      <td>4.0</td>\n",
              "      <td>1.0</td>\n",
              "      <td>1.0</td>\n",
              "      <td>6.0</td>\n",
              "      <td>4.0</td>\n",
              "      <td>3.0</td>\n",
              "      <td>3.0</td>\n",
              "      <td>3.0</td>\n",
              "      <td>3.0</td>\n",
              "      <td>5.0</td>\n",
              "      <td>5.0</td>\n",
              "      <td>4.0</td>\n",
              "      <td>2</td>\n",
              "      <td>4.0</td>\n",
              "      <td>3.0</td>\n",
              "      <td>3.0</td>\n",
              "    </tr>\n",
              "    <tr>\n",
              "      <th>2</th>\n",
              "      <td>5.0</td>\n",
              "      <td>4.0</td>\n",
              "      <td>5.0</td>\n",
              "      <td>4.0</td>\n",
              "      <td>4.0</td>\n",
              "      <td>4.0</td>\n",
              "      <td>5.0</td>\n",
              "      <td>4.0</td>\n",
              "      <td>2.0</td>\n",
              "      <td>5.0</td>\n",
              "      <td>2.0</td>\n",
              "      <td>4.0</td>\n",
              "      <td>4.0</td>\n",
              "      <td>4.0</td>\n",
              "      <td>5.0</td>\n",
              "      <td>4.0</td>\n",
              "      <td>5.0</td>\n",
              "      <td>4.0</td>\n",
              "      <td>2.0</td>\n",
              "      <td>3.0</td>\n",
              "      <td>4.0</td>\n",
              "      <td>2</td>\n",
              "      <td>5.0</td>\n",
              "      <td>5.0</td>\n",
              "      <td>2.0</td>\n",
              "    </tr>\n",
              "    <tr>\n",
              "      <th>3</th>\n",
              "      <td>4.0</td>\n",
              "      <td>4.0</td>\n",
              "      <td>6.0</td>\n",
              "      <td>5.0</td>\n",
              "      <td>5.0</td>\n",
              "      <td>4.0</td>\n",
              "      <td>4.0</td>\n",
              "      <td>3.0</td>\n",
              "      <td>5.0</td>\n",
              "      <td>5.0</td>\n",
              "      <td>5.0</td>\n",
              "      <td>3.0</td>\n",
              "      <td>4.0</td>\n",
              "      <td>4.0</td>\n",
              "      <td>4.0</td>\n",
              "      <td>2.0</td>\n",
              "      <td>5.0</td>\n",
              "      <td>2.0</td>\n",
              "      <td>4.0</td>\n",
              "      <td>1.0</td>\n",
              "      <td>3.0</td>\n",
              "      <td>3</td>\n",
              "      <td>4.0</td>\n",
              "      <td>3.0</td>\n",
              "      <td>5.0</td>\n",
              "    </tr>\n",
              "    <tr>\n",
              "      <th>4</th>\n",
              "      <td>2.0</td>\n",
              "      <td>3.0</td>\n",
              "      <td>3.0</td>\n",
              "      <td>4.0</td>\n",
              "      <td>5.0</td>\n",
              "      <td>4.0</td>\n",
              "      <td>4.0</td>\n",
              "      <td>5.0</td>\n",
              "      <td>3.0</td>\n",
              "      <td>2.0</td>\n",
              "      <td>2.0</td>\n",
              "      <td>2.0</td>\n",
              "      <td>5.0</td>\n",
              "      <td>4.0</td>\n",
              "      <td>5.0</td>\n",
              "      <td>2.0</td>\n",
              "      <td>3.0</td>\n",
              "      <td>4.0</td>\n",
              "      <td>4.0</td>\n",
              "      <td>3.0</td>\n",
              "      <td>3.0</td>\n",
              "      <td>3</td>\n",
              "      <td>4.0</td>\n",
              "      <td>3.0</td>\n",
              "      <td>3.0</td>\n",
              "    </tr>\n",
              "    <tr>\n",
              "      <th>...</th>\n",
              "      <td>...</td>\n",
              "      <td>...</td>\n",
              "      <td>...</td>\n",
              "      <td>...</td>\n",
              "      <td>...</td>\n",
              "      <td>...</td>\n",
              "      <td>...</td>\n",
              "      <td>...</td>\n",
              "      <td>...</td>\n",
              "      <td>...</td>\n",
              "      <td>...</td>\n",
              "      <td>...</td>\n",
              "      <td>...</td>\n",
              "      <td>...</td>\n",
              "      <td>...</td>\n",
              "      <td>...</td>\n",
              "      <td>...</td>\n",
              "      <td>...</td>\n",
              "      <td>...</td>\n",
              "      <td>...</td>\n",
              "      <td>...</td>\n",
              "      <td>...</td>\n",
              "      <td>...</td>\n",
              "      <td>...</td>\n",
              "      <td>...</td>\n",
              "    </tr>\n",
              "    <tr>\n",
              "      <th>2795</th>\n",
              "      <td>6.0</td>\n",
              "      <td>1.0</td>\n",
              "      <td>3.0</td>\n",
              "      <td>3.0</td>\n",
              "      <td>3.0</td>\n",
              "      <td>6.0</td>\n",
              "      <td>6.0</td>\n",
              "      <td>6.0</td>\n",
              "      <td>1.0</td>\n",
              "      <td>1.0</td>\n",
              "      <td>1.0</td>\n",
              "      <td>4.0</td>\n",
              "      <td>5.0</td>\n",
              "      <td>5.0</td>\n",
              "      <td>6.0</td>\n",
              "      <td>1.0</td>\n",
              "      <td>1.0</td>\n",
              "      <td>1.0</td>\n",
              "      <td>NaN</td>\n",
              "      <td>1.0</td>\n",
              "      <td>6.0</td>\n",
              "      <td>1</td>\n",
              "      <td>6.0</td>\n",
              "      <td>6.0</td>\n",
              "      <td>1.0</td>\n",
              "    </tr>\n",
              "    <tr>\n",
              "      <th>2796</th>\n",
              "      <td>2.0</td>\n",
              "      <td>4.0</td>\n",
              "      <td>4.0</td>\n",
              "      <td>3.0</td>\n",
              "      <td>5.0</td>\n",
              "      <td>2.0</td>\n",
              "      <td>3.0</td>\n",
              "      <td>4.0</td>\n",
              "      <td>4.0</td>\n",
              "      <td>3.0</td>\n",
              "      <td>2.0</td>\n",
              "      <td>2.0</td>\n",
              "      <td>4.0</td>\n",
              "      <td>4.0</td>\n",
              "      <td>3.0</td>\n",
              "      <td>NaN</td>\n",
              "      <td>3.0</td>\n",
              "      <td>2.0</td>\n",
              "      <td>3.0</td>\n",
              "      <td>3.0</td>\n",
              "      <td>6.0</td>\n",
              "      <td>3</td>\n",
              "      <td>5.0</td>\n",
              "      <td>4.0</td>\n",
              "      <td>2.0</td>\n",
              "    </tr>\n",
              "    <tr>\n",
              "      <th>2797</th>\n",
              "      <td>2.0</td>\n",
              "      <td>3.0</td>\n",
              "      <td>5.0</td>\n",
              "      <td>2.0</td>\n",
              "      <td>5.0</td>\n",
              "      <td>5.0</td>\n",
              "      <td>5.0</td>\n",
              "      <td>5.0</td>\n",
              "      <td>1.0</td>\n",
              "      <td>1.0</td>\n",
              "      <td>2.0</td>\n",
              "      <td>2.0</td>\n",
              "      <td>6.0</td>\n",
              "      <td>3.0</td>\n",
              "      <td>6.0</td>\n",
              "      <td>3.0</td>\n",
              "      <td>4.0</td>\n",
              "      <td>3.0</td>\n",
              "      <td>3.0</td>\n",
              "      <td>1.0</td>\n",
              "      <td>5.0</td>\n",
              "      <td>1</td>\n",
              "      <td>6.0</td>\n",
              "      <td>4.0</td>\n",
              "      <td>3.0</td>\n",
              "    </tr>\n",
              "    <tr>\n",
              "      <th>2798</th>\n",
              "      <td>5.0</td>\n",
              "      <td>2.0</td>\n",
              "      <td>2.0</td>\n",
              "      <td>4.0</td>\n",
              "      <td>4.0</td>\n",
              "      <td>5.0</td>\n",
              "      <td>5.0</td>\n",
              "      <td>5.0</td>\n",
              "      <td>2.0</td>\n",
              "      <td>6.0</td>\n",
              "      <td>2.0</td>\n",
              "      <td>2.0</td>\n",
              "      <td>4.0</td>\n",
              "      <td>5.0</td>\n",
              "      <td>4.0</td>\n",
              "      <td>5.0</td>\n",
              "      <td>5.0</td>\n",
              "      <td>6.0</td>\n",
              "      <td>4.0</td>\n",
              "      <td>1.0</td>\n",
              "      <td>5.0</td>\n",
              "      <td>2</td>\n",
              "      <td>5.0</td>\n",
              "      <td>5.0</td>\n",
              "      <td>1.0</td>\n",
              "    </tr>\n",
              "    <tr>\n",
              "      <th>2799</th>\n",
              "      <td>2.0</td>\n",
              "      <td>3.0</td>\n",
              "      <td>1.0</td>\n",
              "      <td>4.0</td>\n",
              "      <td>2.0</td>\n",
              "      <td>5.0</td>\n",
              "      <td>5.0</td>\n",
              "      <td>3.0</td>\n",
              "      <td>3.0</td>\n",
              "      <td>3.0</td>\n",
              "      <td>3.0</td>\n",
              "      <td>3.0</td>\n",
              "      <td>1.0</td>\n",
              "      <td>2.0</td>\n",
              "      <td>2.0</td>\n",
              "      <td>1.0</td>\n",
              "      <td>2.0</td>\n",
              "      <td>2.0</td>\n",
              "      <td>1.0</td>\n",
              "      <td>1.0</td>\n",
              "      <td>3.0</td>\n",
              "      <td>1</td>\n",
              "      <td>3.0</td>\n",
              "      <td>5.0</td>\n",
              "      <td>1.0</td>\n",
              "    </tr>\n",
              "  </tbody>\n",
              "</table>\n",
              "<p>2800 rows × 25 columns</p>\n",
              "</div>"
            ],
            "text/plain": [
              "       A1   A2   A3   A4   A5   C1   C2  ...   N4   N5   O1  O2   O3   O4   O5\n",
              "0     2.0  4.0  3.0  4.0  4.0  2.0  3.0  ...  2.0  3.0  3.0   6  3.0  4.0  3.0\n",
              "1     2.0  4.0  5.0  2.0  5.0  5.0  4.0  ...  5.0  5.0  4.0   2  4.0  3.0  3.0\n",
              "2     5.0  4.0  5.0  4.0  4.0  4.0  5.0  ...  2.0  3.0  4.0   2  5.0  5.0  2.0\n",
              "3     4.0  4.0  6.0  5.0  5.0  4.0  4.0  ...  4.0  1.0  3.0   3  4.0  3.0  5.0\n",
              "4     2.0  3.0  3.0  4.0  5.0  4.0  4.0  ...  4.0  3.0  3.0   3  4.0  3.0  3.0\n",
              "...   ...  ...  ...  ...  ...  ...  ...  ...  ...  ...  ...  ..  ...  ...  ...\n",
              "2795  6.0  1.0  3.0  3.0  3.0  6.0  6.0  ...  NaN  1.0  6.0   1  6.0  6.0  1.0\n",
              "2796  2.0  4.0  4.0  3.0  5.0  2.0  3.0  ...  3.0  3.0  6.0   3  5.0  4.0  2.0\n",
              "2797  2.0  3.0  5.0  2.0  5.0  5.0  5.0  ...  3.0  1.0  5.0   1  6.0  4.0  3.0\n",
              "2798  5.0  2.0  2.0  4.0  4.0  5.0  5.0  ...  4.0  1.0  5.0   2  5.0  5.0  1.0\n",
              "2799  2.0  3.0  1.0  4.0  2.0  5.0  5.0  ...  1.0  1.0  3.0   1  3.0  5.0  1.0\n",
              "\n",
              "[2800 rows x 25 columns]"
            ]
          },
          "metadata": {
            "tags": []
          },
          "execution_count": 8
        }
      ]
    },
    {
      "cell_type": "code",
      "metadata": {
        "id": "1wSGu44RBR87"
      },
      "source": [
        "BFI_data_dropped = BFI_data_dropped.dropna()"
      ],
      "execution_count": 10,
      "outputs": []
    },
    {
      "cell_type": "code",
      "metadata": {
        "id": "1y5mzrTpBR5S",
        "colab": {
          "base_uri": "https://localhost:8080/"
        },
        "outputId": "76806fc1-d243-468a-db4a-59aa454df5f7"
      },
      "source": [
        "BFI_data_dropped.shape"
      ],
      "execution_count": 11,
      "outputs": [
        {
          "output_type": "execute_result",
          "data": {
            "text/plain": [
              "(2436, 25)"
            ]
          },
          "metadata": {
            "tags": []
          },
          "execution_count": 11
        }
      ]
    },
    {
      "cell_type": "markdown",
      "metadata": {
        "id": "c9Eyh0sbIOtO"
      },
      "source": [
        "There should not be prefact multicollonearity : เช่น การหา correlation จะได้เท่ากับ 1 หรือ plot กราฟจะได้เป็นเส้นตรง ต้องไม่มีค่าแบบนี้"
      ]
    },
    {
      "cell_type": "markdown",
      "metadata": {
        "id": "UGuClUEM1REN"
      },
      "source": [
        "#**Bartlett’s test**"
      ]
    },
    {
      "cell_type": "code",
      "metadata": {
        "colab": {
          "base_uri": "https://localhost:8080/"
        },
        "id": "Aj3J2uFP1Ucc",
        "outputId": "28ae41e6-c6cb-41e9-fe88-ab4a6325b96c"
      },
      "source": [
        "from factor_analyzer.factor_analyzer import calculate_bartlett_sphericity\n",
        "\n",
        "chi_square_value,p_value=calculate_bartlett_sphericity(BFI_data_dropped)\n",
        "\n",
        "chi_square_value, p_value"
      ],
      "execution_count": 12,
      "outputs": [
        {
          "output_type": "execute_result",
          "data": {
            "text/plain": [
              "(18170.966350869243, 0.0)"
            ]
          },
          "metadata": {
            "tags": []
          },
          "execution_count": 12
        }
      ]
    },
    {
      "cell_type": "markdown",
      "metadata": {
        "id": "tHe3dFj5BcJr"
      },
      "source": [
        "In this Bartlett ’s test, the p-value is 0. The test was statistically significant, indicating that the observed correlation matrix is not an identity matrix."
      ]
    },
    {
      "cell_type": "markdown",
      "metadata": {
        "id": "OvKzak6o2f1T"
      },
      "source": [
        "#**Kaiser-Meyer-Olkin (KMO) Test**\n",
        "\n",
        "ถ้า KMO model มีค่ามากกว่า 0.6 แปลว่าข้อมูลเหมาะสมที่นำไปทำ Factor Analysis\n"
      ]
    },
    {
      "cell_type": "code",
      "metadata": {
        "id": "r7g31FgJBqqy",
        "colab": {
          "base_uri": "https://localhost:8080/"
        },
        "outputId": "c9f01f33-c611-451f-e412-5eec284a7231"
      },
      "source": [
        "from factor_analyzer.factor_analyzer import calculate_kmo\n",
        "\n",
        "kmo_all,kmo_model=calculate_kmo(BFI_data_dropped)\n",
        "\n",
        "kmo_model"
      ],
      "execution_count": 14,
      "outputs": [
        {
          "output_type": "execute_result",
          "data": {
            "text/plain": [
              "0.8485397221949221"
            ]
          },
          "metadata": {
            "tags": []
          },
          "execution_count": 14
        }
      ]
    },
    {
      "cell_type": "markdown",
      "metadata": {
        "id": "5MbXfFwvIWnM"
      },
      "source": [
        "เราสามารถดูได้ว่า ถ้า p-value เท่ากับ 0 แสดงว่า data ที่เรามีไม่มี prefact multicollonearity"
      ]
    },
    {
      "cell_type": "markdown",
      "metadata": {
        "id": "cnUslT7hBuEi"
      },
      "source": [
        "#** Factor Analysis**"
      ]
    },
    {
      "cell_type": "code",
      "metadata": {
        "id": "fCluIBDEBtp7"
      },
      "source": [
        "from factor_analyzer import  FactorAnalyzer #import"
      ],
      "execution_count": 15,
      "outputs": []
    },
    {
      "cell_type": "code",
      "metadata": {
        "id": "aSRyCDb7B1_s"
      },
      "source": [
        "fa = FactorAnalyzer(n_factors=20)#define"
      ],
      "execution_count": 16,
      "outputs": []
    },
    {
      "cell_type": "code",
      "metadata": {
        "colab": {
          "base_uri": "https://localhost:8080/",
          "height": 178
        },
        "id": "DsU3_bOaIcic",
        "outputId": "60c8bc5b-974e-4831-9a45-d9d70dd5c2ba"
      },
      "source": [
        "chi_square_value,p_value=calculate_bartlett_sphericity(BFI_data_dropped2)\n",
        "chi_square_value, p_value #จะบอกค่าว่ามี chi_square เท่าไหร่ p_value"
      ],
      "execution_count": 18,
      "outputs": [
        {
          "output_type": "error",
          "ename": "NameError",
          "evalue": "ignored",
          "traceback": [
            "\u001b[0;31m---------------------------------------------------------------------------\u001b[0m",
            "\u001b[0;31mNameError\u001b[0m                                 Traceback (most recent call last)",
            "\u001b[0;32m<ipython-input-18-2b1cec6a6813>\u001b[0m in \u001b[0;36m<module>\u001b[0;34m()\u001b[0m\n\u001b[0;32m----> 1\u001b[0;31m \u001b[0mchi_square_value\u001b[0m\u001b[0;34m,\u001b[0m\u001b[0mp_value\u001b[0m\u001b[0;34m=\u001b[0m\u001b[0mcalculate_bartlett_sphericity\u001b[0m\u001b[0;34m(\u001b[0m\u001b[0mBFI_data_dropped2\u001b[0m\u001b[0;34m)\u001b[0m\u001b[0;34m\u001b[0m\u001b[0;34m\u001b[0m\u001b[0m\n\u001b[0m\u001b[1;32m      2\u001b[0m \u001b[0mchi_square_value\u001b[0m\u001b[0;34m,\u001b[0m \u001b[0mp_value\u001b[0m \u001b[0;31m#จะบอกค่าว่ามี chi_square เท่าไหร่ p_value\u001b[0m\u001b[0;34m\u001b[0m\u001b[0;34m\u001b[0m\u001b[0m\n",
            "\u001b[0;31mNameError\u001b[0m: name 'BFI_data_dropped2' is not defined"
          ]
        }
      ]
    },
    {
      "cell_type": "markdown",
      "metadata": {
        "id": "ze4JoPrxB7HK"
      },
      "source": [
        "##**Fit-transform**"
      ]
    },
    {
      "cell_type": "code",
      "metadata": {
        "id": "WIOUlvswB_U5",
        "colab": {
          "base_uri": "https://localhost:8080/"
        },
        "outputId": "0d271417-bc7f-42ca-dd8c-861ecb3c5e54"
      },
      "source": [
        "data_fa = fa.fit_transform(BFI_data_dropped)\n",
        "data_fa.shape"
      ],
      "execution_count": 19,
      "outputs": [
        {
          "output_type": "execute_result",
          "data": {
            "text/plain": [
              "(2436, 20)"
            ]
          },
          "metadata": {
            "tags": []
          },
          "execution_count": 19
        }
      ]
    },
    {
      "cell_type": "code",
      "metadata": {
        "id": "scGLGcQPCGND"
      },
      "source": [
        " ev, v = fa.get_eigenvalues() #ตรวจดูว่าควรลดเหลือกี่ dimention (มี factor)"
      ],
      "execution_count": 20,
      "outputs": []
    },
    {
      "cell_type": "markdown",
      "metadata": {
        "id": "EaHyrSuYCVY6"
      },
      "source": [
        "##**ใช้ eigen values**"
      ]
    },
    {
      "cell_type": "code",
      "metadata": {
        "id": "PzJsxoI5CZJy",
        "colab": {
          "base_uri": "https://localhost:8080/"
        },
        "outputId": "34631b3b-2fa8-4b60-d6e4-4912fef79cb2"
      },
      "source": [
        "ev"
      ],
      "execution_count": 21,
      "outputs": [
        {
          "output_type": "execute_result",
          "data": {
            "text/plain": [
              "array([5.13431118, 2.75188667, 2.14270195, 1.85232761, 1.54816285,\n",
              "       1.07358247, 0.83953893, 0.79920618, 0.71898919, 0.68808879,\n",
              "       0.67637336, 0.65179984, 0.62325295, 0.59656284, 0.56309083,\n",
              "       0.54330533, 0.51451752, 0.49450315, 0.48263952, 0.448921  ,\n",
              "       0.42336611, 0.40067145, 0.38780448, 0.38185679, 0.26253902])"
            ]
          },
          "metadata": {
            "tags": []
          },
          "execution_count": 21
        }
      ]
    },
    {
      "cell_type": "markdown",
      "metadata": {
        "id": "pcmVye_9CcsK"
      },
      "source": [
        "#**Scree plot**"
      ]
    },
    {
      "cell_type": "code",
      "metadata": {
        "id": "Asq4ym81Cgry",
        "colab": {
          "base_uri": "https://localhost:8080/",
          "height": 494
        },
        "outputId": "32e94dbb-0ef8-414d-f003-f9aef841a55b"
      },
      "source": [
        "# Create scree plot using matplotlib\n",
        "plt.scatter(range(1,BFI_data_dropped.shape[1]+1),ev)\n",
        "plt.plot(range(1,BFI_data_dropped.shape[1]+1),ev)\n",
        "plt.plot(range(1,BFI_data_dropped.shape[1]+1),BFI_data_dropped.shape[1]+1*[1],'r--')\n",
        "plt.title('Scree Plot')\n",
        "plt.xlabel('Factors')\n",
        "plt.ylabel('Eigenvalue')\n",
        "plt.grid()\n",
        "plt.show()"
      ],
      "execution_count": 22,
      "outputs": [
        {
          "output_type": "error",
          "ename": "TypeError",
          "evalue": "ignored",
          "traceback": [
            "\u001b[0;31m---------------------------------------------------------------------------\u001b[0m",
            "\u001b[0;31mTypeError\u001b[0m                                 Traceback (most recent call last)",
            "\u001b[0;32m<ipython-input-22-eb335e61b577>\u001b[0m in \u001b[0;36m<module>\u001b[0;34m()\u001b[0m\n\u001b[1;32m      2\u001b[0m \u001b[0mplt\u001b[0m\u001b[0;34m.\u001b[0m\u001b[0mscatter\u001b[0m\u001b[0;34m(\u001b[0m\u001b[0mrange\u001b[0m\u001b[0;34m(\u001b[0m\u001b[0;36m1\u001b[0m\u001b[0;34m,\u001b[0m\u001b[0mBFI_data_dropped\u001b[0m\u001b[0;34m.\u001b[0m\u001b[0mshape\u001b[0m\u001b[0;34m[\u001b[0m\u001b[0;36m1\u001b[0m\u001b[0;34m]\u001b[0m\u001b[0;34m+\u001b[0m\u001b[0;36m1\u001b[0m\u001b[0;34m)\u001b[0m\u001b[0;34m,\u001b[0m\u001b[0mev\u001b[0m\u001b[0;34m)\u001b[0m\u001b[0;34m\u001b[0m\u001b[0;34m\u001b[0m\u001b[0m\n\u001b[1;32m      3\u001b[0m \u001b[0mplt\u001b[0m\u001b[0;34m.\u001b[0m\u001b[0mplot\u001b[0m\u001b[0;34m(\u001b[0m\u001b[0mrange\u001b[0m\u001b[0;34m(\u001b[0m\u001b[0;36m1\u001b[0m\u001b[0;34m,\u001b[0m\u001b[0mBFI_data_dropped\u001b[0m\u001b[0;34m.\u001b[0m\u001b[0mshape\u001b[0m\u001b[0;34m[\u001b[0m\u001b[0;36m1\u001b[0m\u001b[0;34m]\u001b[0m\u001b[0;34m+\u001b[0m\u001b[0;36m1\u001b[0m\u001b[0;34m)\u001b[0m\u001b[0;34m,\u001b[0m\u001b[0mev\u001b[0m\u001b[0;34m)\u001b[0m\u001b[0;34m\u001b[0m\u001b[0;34m\u001b[0m\u001b[0m\n\u001b[0;32m----> 4\u001b[0;31m \u001b[0mplt\u001b[0m\u001b[0;34m.\u001b[0m\u001b[0mplot\u001b[0m\u001b[0;34m(\u001b[0m\u001b[0mrange\u001b[0m\u001b[0;34m(\u001b[0m\u001b[0;36m1\u001b[0m\u001b[0;34m,\u001b[0m\u001b[0mBFI_data_dropped\u001b[0m\u001b[0;34m.\u001b[0m\u001b[0mshape\u001b[0m\u001b[0;34m[\u001b[0m\u001b[0;36m1\u001b[0m\u001b[0;34m]\u001b[0m\u001b[0;34m+\u001b[0m\u001b[0;36m1\u001b[0m\u001b[0;34m)\u001b[0m\u001b[0;34m,\u001b[0m\u001b[0mBFI_data_dropped\u001b[0m\u001b[0;34m.\u001b[0m\u001b[0mshape\u001b[0m\u001b[0;34m[\u001b[0m\u001b[0;36m1\u001b[0m\u001b[0;34m]\u001b[0m\u001b[0;34m+\u001b[0m\u001b[0;36m1\u001b[0m\u001b[0;34m*\u001b[0m\u001b[0;34m[\u001b[0m\u001b[0;36m1\u001b[0m\u001b[0;34m]\u001b[0m\u001b[0;34m,\u001b[0m\u001b[0;34m'r--'\u001b[0m\u001b[0;34m)\u001b[0m\u001b[0;34m\u001b[0m\u001b[0;34m\u001b[0m\u001b[0m\n\u001b[0m\u001b[1;32m      5\u001b[0m \u001b[0mplt\u001b[0m\u001b[0;34m.\u001b[0m\u001b[0mtitle\u001b[0m\u001b[0;34m(\u001b[0m\u001b[0;34m'Scree Plot'\u001b[0m\u001b[0;34m)\u001b[0m\u001b[0;34m\u001b[0m\u001b[0;34m\u001b[0m\u001b[0m\n\u001b[1;32m      6\u001b[0m \u001b[0mplt\u001b[0m\u001b[0;34m.\u001b[0m\u001b[0mxlabel\u001b[0m\u001b[0;34m(\u001b[0m\u001b[0;34m'Factors'\u001b[0m\u001b[0;34m)\u001b[0m\u001b[0;34m\u001b[0m\u001b[0;34m\u001b[0m\u001b[0m\n",
            "\u001b[0;31mTypeError\u001b[0m: unsupported operand type(s) for +: 'int' and 'list'"
          ]
        },
        {
          "output_type": "display_data",
          "data": {
            "image/png": "[encoded data removed]",
            "text/plain": [
              "<Figure size 432x288 with 1 Axes>"
            ]
          },
          "metadata": {
            "tags": [],
            "needs_background": "light"
          }
        }
      ]
    },
    {
      "cell_type": "code",
      "metadata": {
        "id": "eHRkE9qBCmMm",
        "colab": {
          "base_uri": "https://localhost:8080/",
          "height": 212
        },
        "outputId": "ca9c820c-e45c-49f0-d132-3cd7d9b8b7b2"
      },
      "source": [
        "# Create factor analysis object and perform factor analysis\n",
        "fa = FactorAnalyzer()\n",
        "\n",
        "fa.analyze(BFI_data_dropped, 25, rotation=None)\n",
        "# Checl Ejgenvalues"
      ],
      "execution_count": 24,
      "outputs": [
        {
          "output_type": "error",
          "ename": "AttributeError",
          "evalue": "ignored",
          "traceback": [
            "\u001b[0;31m---------------------------------------------------------------------------\u001b[0m",
            "\u001b[0;31mAttributeError\u001b[0m                            Traceback (most recent call last)",
            "\u001b[0;32m<ipython-input-24-37fd3c514cd4>\u001b[0m in \u001b[0;36m<module>\u001b[0;34m()\u001b[0m\n\u001b[1;32m      2\u001b[0m \u001b[0mfa\u001b[0m \u001b[0;34m=\u001b[0m \u001b[0mFactorAnalyzer\u001b[0m\u001b[0;34m(\u001b[0m\u001b[0;34m)\u001b[0m\u001b[0;34m\u001b[0m\u001b[0;34m\u001b[0m\u001b[0m\n\u001b[1;32m      3\u001b[0m \u001b[0;34m\u001b[0m\u001b[0m\n\u001b[0;32m----> 4\u001b[0;31m \u001b[0mfa\u001b[0m\u001b[0;34m.\u001b[0m\u001b[0manalyze\u001b[0m\u001b[0;34m(\u001b[0m\u001b[0mBFI_data_dropped\u001b[0m\u001b[0;34m,\u001b[0m \u001b[0;36m25\u001b[0m\u001b[0;34m,\u001b[0m \u001b[0mrotation\u001b[0m\u001b[0;34m=\u001b[0m\u001b[0;32mNone\u001b[0m\u001b[0;34m)\u001b[0m\u001b[0;34m\u001b[0m\u001b[0;34m\u001b[0m\u001b[0m\n\u001b[0m\u001b[1;32m      5\u001b[0m \u001b[0;31m# Checl Ejgenvalues\u001b[0m\u001b[0;34m\u001b[0m\u001b[0;34m\u001b[0m\u001b[0;34m\u001b[0m\u001b[0m\n",
            "\u001b[0;31mAttributeError\u001b[0m: 'FactorAnalyzer' object has no attribute 'analyze'"
          ]
        }
      ]
    },
    {
      "cell_type": "code",
      "metadata": {
        "colab": {
          "base_uri": "https://localhost:8080/"
        },
        "id": "f-IL5Uj-IyLT",
        "outputId": "0b06e93a-3fb8-4af2-ffdb-1a3a5689b23e"
      },
      "source": [
        "data_fa[:,:6] #ที่เป็น 6 ตัวเพราะ ตัวที่ 1-6 มีค่ามากกว่า 1 "
      ],
      "execution_count": 26,
      "outputs": [
        {
          "output_type": "execute_result",
          "data": {
            "text/plain": [
              "array([[-0.89749661, -0.12809666, -1.22649076,  1.08665889,  0.42476701,\n",
              "         0.03981611],\n",
              "       [ 0.33679356, -0.15018138, -0.04332274, -0.10339328,  0.29665648,\n",
              "        -1.11019718],\n",
              "       [-0.24521029,  0.80409961,  0.39343377, -0.30106518,  0.82703928,\n",
              "        -0.2982022 ],\n",
              "       ...,\n",
              "       [ 0.38724631, -0.02183587,  1.19616826, -1.19357208,  0.79669501,\n",
              "        -0.95295109],\n",
              "       [-0.75695976,  0.94984758,  1.24363484, -1.15230215,  2.2534133 ,\n",
              "        -1.0218667 ],\n",
              "       [-2.35583952, -1.49829856,  0.49436981, -1.64734311,  0.94742323,\n",
              "         0.43462495]])"
            ]
          },
          "metadata": {
            "tags": []
          },
          "execution_count": 26
        }
      ]
    },
    {
      "cell_type": "markdown",
      "metadata": {
        "id": "YjrbyE74Ip9U"
      },
      "source": [
        "##Factor Loading "
      ]
    },
    {
      "cell_type": "code",
      "metadata": {
        "id": "2vCdJ3Xqj9AT"
      },
      "source": [
        "from factor_analyzer import FactorAnalyzer\n",
        "fa2 = FactorAnalyzer(n_factors=6)\n",
        "data_fa = fa2.fit_transform(BFI_data_dropped)"
      ],
      "execution_count": 30,
      "outputs": []
    },
    {
      "cell_type": "code",
      "metadata": {
        "colab": {
          "base_uri": "https://localhost:8080/"
        },
        "id": "oudHG-a1Ir8z",
        "outputId": "6e20f804-838f-4adf-c015-194c3d2f897c"
      },
      "source": [
        "fa2.loadings_.shape\n",
        "\n",
        "#เป็นการบอกว่ามีกี่ตัวแปร แล้วดูตัวแปรไหนมีอิทธิพลบ้าง"
      ],
      "execution_count": 31,
      "outputs": [
        {
          "output_type": "execute_result",
          "data": {
            "text/plain": [
              "(25, 6)"
            ]
          },
          "metadata": {
            "tags": []
          },
          "execution_count": 31
        }
      ]
    },
    {
      "cell_type": "markdown",
      "metadata": {
        "id": "g-7f9eNOkFiS"
      },
      "source": [
        "parameters จำนวน factor เท่ากับ 6"
      ]
    },
    {
      "cell_type": "markdown",
      "metadata": {
        "id": "CTl50VmjkH9y"
      },
      "source": [
        "##**plot factor loadings**"
      ]
    },
    {
      "cell_type": "code",
      "metadata": {
        "id": "q_erz0RlIuDE"
      },
      "source": [
        "from matplotlib import pyplot as plt\n",
        "import numpy as np\n",
        "import matplotlib"
      ],
      "execution_count": 32,
      "outputs": []
    },
    {
      "cell_type": "code",
      "metadata": {
        "colab": {
          "base_uri": "https://localhost:8080/",
          "height": 880
        },
        "id": "wVkTKtirkOs4",
        "outputId": "f0447610-6fb7-48ea-b94e-12f26a15ceae"
      },
      "source": [
        "matplotlib.rcParams['figure.figsize']=[15,15]\n",
        "plt.imshow(np.absolute(fa2.loadings_))"
      ],
      "execution_count": 33,
      "outputs": [
        {
          "output_type": "execute_result",
          "data": {
            "text/plain": [
              "<matplotlib.image.AxesImage at 0x7f35daea7750>"
            ]
          },
          "metadata": {
            "tags": []
          },
          "execution_count": 33
        },
        {
          "output_type": "display_data",
          "data": {
            "image/png": "[encoded data removed]",
            "text/plain": [
              "<Figure size 1080x1080 with 1 Axes>"
            ]
          },
          "metadata": {
            "tags": [],
            "needs_background": "light"
          }
        }
      ]
    },
    {
      "cell_type": "code",
      "metadata": {
        "colab": {
          "base_uri": "https://localhost:8080/"
        },
        "id": "CCPC_Qa5kStg",
        "outputId": "ccc1334b-b6c2-489b-ed8c-98809bbddf18"
      },
      "source": [
        "BFI_data_dropped.columns"
      ],
      "execution_count": 34,
      "outputs": [
        {
          "output_type": "execute_result",
          "data": {
            "text/plain": [
              "Index(['A1', 'A2', 'A3', 'A4', 'A5', 'C1', 'C2', 'C3', 'C4', 'C5', 'E1', 'E2',\n",
              "       'E3', 'E4', 'E5', 'N1', 'N2', 'N3', 'N4', 'N5', 'O1', 'O2', 'O3', 'O4',\n",
              "       'O5'],\n",
              "      dtype='object')"
            ]
          },
          "metadata": {
            "tags": []
          },
          "execution_count": 34
        }
      ]
    },
    {
      "cell_type": "code",
      "metadata": {
        "colab": {
          "base_uri": "https://localhost:8080/",
          "height": 658
        },
        "id": "0PRVTE2ikSqo",
        "outputId": "fbc09c6e-ad8a-487a-b02e-f11a35e6c6c3"
      },
      "source": [
        "plt.bar(range(25),np.absolute(fa2.loadings_[:,0]),tick_label=BFI_data_dropped.columns)"
      ],
      "execution_count": 35,
      "outputs": [
        {
          "output_type": "execute_result",
          "data": {
            "text/plain": [
              "<BarContainer object of 25 artists>"
            ]
          },
          "metadata": {
            "tags": []
          },
          "execution_count": 35
        },
        {
          "output_type": "display_data",
          "data": {
            "image/png": "[encoded data removed]",
            "text/plain": [
              "<Figure size 1080x1080 with 1 Axes>"
            ]
          },
          "metadata": {
            "tags": [],
            "needs_background": "light"
          }
        }
      ]
    },
    {
      "cell_type": "markdown",
      "metadata": {
        "id": "Q9FOm8TJkat0"
      },
      "source": [
        "# **Exam 3**\n",
        "\n",
        "***use Factor Analysis Fifa 2018 data ***"
      ]
    },
    {
      "cell_type": "markdown",
      "metadata": {
        "id": "Ycc3T0BnkvyL"
      },
      "source": [
        "ขั้นตอนแรก ให้นำเข้าไฟล์ข้อมูลที่จะใช้ \n",
        "\n",
        "\n",
        "\n",
        "```\n",
        "import FIFA 2018 Statistics.csv\n",
        "```\n",
        "ดาวโหลดไฟล์แล้ว copy past\n"
      ]
    },
    {
      "cell_type": "code",
      "metadata": {
        "colab": {
          "base_uri": "https://localhost:8080/",
          "height": 808
        },
        "id": "PVKEApZTkowU",
        "outputId": "93d77e33-5b69-4c17-83af-f7b6508a3ed5"
      },
      "source": [
        "exam3 = pd.read_csv('FIFA 2018 Statistics.csv')\n",
        "exam3"
      ],
      "execution_count": 36,
      "outputs": [
        {
          "output_type": "execute_result",
          "data": {
            "text/html": [
              "<div>\n",
              "<style scoped>\n",
              "    .dataframe tbody tr th:only-of-type {\n",
              "        vertical-align: middle;\n",
              "    }\n",
              "\n",
              "    .dataframe tbody tr th {\n",
              "        vertical-align: top;\n",
              "    }\n",
              "\n",
              "    .dataframe thead th {\n",
              "        text-align: right;\n",
              "    }\n",
              "</style>\n",
              "<table border=\"1\" class=\"dataframe\">\n",
              "  <thead>\n",
              "    <tr style=\"text-align: right;\">\n",
              "      <th></th>\n",
              "      <th>Date</th>\n",
              "      <th>Team</th>\n",
              "      <th>Opponent</th>\n",
              "      <th>Goal Scored</th>\n",
              "      <th>Ball Possession %</th>\n",
              "      <th>Attempts</th>\n",
              "      <th>On-Target</th>\n",
              "      <th>Off-Target</th>\n",
              "      <th>Blocked</th>\n",
              "      <th>Corners</th>\n",
              "      <th>Offsides</th>\n",
              "      <th>Free Kicks</th>\n",
              "      <th>Saves</th>\n",
              "      <th>Pass Accuracy %</th>\n",
              "      <th>Passes</th>\n",
              "      <th>Distance Covered (Kms)</th>\n",
              "      <th>Fouls Committed</th>\n",
              "      <th>Yellow Card</th>\n",
              "      <th>Yellow &amp; Red</th>\n",
              "      <th>Red</th>\n",
              "      <th>Man of the Match</th>\n",
              "      <th>1st Goal</th>\n",
              "      <th>Round</th>\n",
              "      <th>PSO</th>\n",
              "      <th>Goals in PSO</th>\n",
              "      <th>Own goals</th>\n",
              "      <th>Own goal Time</th>\n",
              "    </tr>\n",
              "  </thead>\n",
              "  <tbody>\n",
              "    <tr>\n",
              "      <th>0</th>\n",
              "      <td>14-06-2018</td>\n",
              "      <td>Russia</td>\n",
              "      <td>Saudi Arabia</td>\n",
              "      <td>5</td>\n",
              "      <td>40</td>\n",
              "      <td>13</td>\n",
              "      <td>7</td>\n",
              "      <td>3</td>\n",
              "      <td>3</td>\n",
              "      <td>6</td>\n",
              "      <td>3</td>\n",
              "      <td>11</td>\n",
              "      <td>0</td>\n",
              "      <td>78</td>\n",
              "      <td>306</td>\n",
              "      <td>118</td>\n",
              "      <td>22</td>\n",
              "      <td>0</td>\n",
              "      <td>0</td>\n",
              "      <td>0</td>\n",
              "      <td>Yes</td>\n",
              "      <td>12.0</td>\n",
              "      <td>Group Stage</td>\n",
              "      <td>No</td>\n",
              "      <td>0</td>\n",
              "      <td>NaN</td>\n",
              "      <td>NaN</td>\n",
              "    </tr>\n",
              "    <tr>\n",
              "      <th>1</th>\n",
              "      <td>14-06-2018</td>\n",
              "      <td>Saudi Arabia</td>\n",
              "      <td>Russia</td>\n",
              "      <td>0</td>\n",
              "      <td>60</td>\n",
              "      <td>6</td>\n",
              "      <td>0</td>\n",
              "      <td>3</td>\n",
              "      <td>3</td>\n",
              "      <td>2</td>\n",
              "      <td>1</td>\n",
              "      <td>25</td>\n",
              "      <td>2</td>\n",
              "      <td>86</td>\n",
              "      <td>511</td>\n",
              "      <td>105</td>\n",
              "      <td>10</td>\n",
              "      <td>0</td>\n",
              "      <td>0</td>\n",
              "      <td>0</td>\n",
              "      <td>No</td>\n",
              "      <td>NaN</td>\n",
              "      <td>Group Stage</td>\n",
              "      <td>No</td>\n",
              "      <td>0</td>\n",
              "      <td>NaN</td>\n",
              "      <td>NaN</td>\n",
              "    </tr>\n",
              "    <tr>\n",
              "      <th>2</th>\n",
              "      <td>15-06-2018</td>\n",
              "      <td>Egypt</td>\n",
              "      <td>Uruguay</td>\n",
              "      <td>0</td>\n",
              "      <td>43</td>\n",
              "      <td>8</td>\n",
              "      <td>3</td>\n",
              "      <td>3</td>\n",
              "      <td>2</td>\n",
              "      <td>0</td>\n",
              "      <td>1</td>\n",
              "      <td>7</td>\n",
              "      <td>3</td>\n",
              "      <td>78</td>\n",
              "      <td>395</td>\n",
              "      <td>112</td>\n",
              "      <td>12</td>\n",
              "      <td>2</td>\n",
              "      <td>0</td>\n",
              "      <td>0</td>\n",
              "      <td>No</td>\n",
              "      <td>NaN</td>\n",
              "      <td>Group Stage</td>\n",
              "      <td>No</td>\n",
              "      <td>0</td>\n",
              "      <td>NaN</td>\n",
              "      <td>NaN</td>\n",
              "    </tr>\n",
              "    <tr>\n",
              "      <th>3</th>\n",
              "      <td>15-06-2018</td>\n",
              "      <td>Uruguay</td>\n",
              "      <td>Egypt</td>\n",
              "      <td>1</td>\n",
              "      <td>57</td>\n",
              "      <td>14</td>\n",
              "      <td>4</td>\n",
              "      <td>6</td>\n",
              "      <td>4</td>\n",
              "      <td>5</td>\n",
              "      <td>1</td>\n",
              "      <td>13</td>\n",
              "      <td>3</td>\n",
              "      <td>86</td>\n",
              "      <td>589</td>\n",
              "      <td>111</td>\n",
              "      <td>6</td>\n",
              "      <td>0</td>\n",
              "      <td>0</td>\n",
              "      <td>0</td>\n",
              "      <td>Yes</td>\n",
              "      <td>89.0</td>\n",
              "      <td>Group Stage</td>\n",
              "      <td>No</td>\n",
              "      <td>0</td>\n",
              "      <td>NaN</td>\n",
              "      <td>NaN</td>\n",
              "    </tr>\n",
              "    <tr>\n",
              "      <th>4</th>\n",
              "      <td>15-06-2018</td>\n",
              "      <td>Morocco</td>\n",
              "      <td>Iran</td>\n",
              "      <td>0</td>\n",
              "      <td>64</td>\n",
              "      <td>13</td>\n",
              "      <td>3</td>\n",
              "      <td>6</td>\n",
              "      <td>4</td>\n",
              "      <td>5</td>\n",
              "      <td>0</td>\n",
              "      <td>14</td>\n",
              "      <td>2</td>\n",
              "      <td>86</td>\n",
              "      <td>433</td>\n",
              "      <td>101</td>\n",
              "      <td>22</td>\n",
              "      <td>1</td>\n",
              "      <td>0</td>\n",
              "      <td>0</td>\n",
              "      <td>No</td>\n",
              "      <td>NaN</td>\n",
              "      <td>Group Stage</td>\n",
              "      <td>No</td>\n",
              "      <td>0</td>\n",
              "      <td>1.0</td>\n",
              "      <td>90.0</td>\n",
              "    </tr>\n",
              "    <tr>\n",
              "      <th>...</th>\n",
              "      <td>...</td>\n",
              "      <td>...</td>\n",
              "      <td>...</td>\n",
              "      <td>...</td>\n",
              "      <td>...</td>\n",
              "      <td>...</td>\n",
              "      <td>...</td>\n",
              "      <td>...</td>\n",
              "      <td>...</td>\n",
              "      <td>...</td>\n",
              "      <td>...</td>\n",
              "      <td>...</td>\n",
              "      <td>...</td>\n",
              "      <td>...</td>\n",
              "      <td>...</td>\n",
              "      <td>...</td>\n",
              "      <td>...</td>\n",
              "      <td>...</td>\n",
              "      <td>...</td>\n",
              "      <td>...</td>\n",
              "      <td>...</td>\n",
              "      <td>...</td>\n",
              "      <td>...</td>\n",
              "      <td>...</td>\n",
              "      <td>...</td>\n",
              "      <td>...</td>\n",
              "      <td>...</td>\n",
              "    </tr>\n",
              "    <tr>\n",
              "      <th>123</th>\n",
              "      <td>11-07-2018</td>\n",
              "      <td>England</td>\n",
              "      <td>Croatia</td>\n",
              "      <td>1</td>\n",
              "      <td>46</td>\n",
              "      <td>11</td>\n",
              "      <td>1</td>\n",
              "      <td>6</td>\n",
              "      <td>4</td>\n",
              "      <td>4</td>\n",
              "      <td>3</td>\n",
              "      <td>24</td>\n",
              "      <td>5</td>\n",
              "      <td>79</td>\n",
              "      <td>479</td>\n",
              "      <td>148</td>\n",
              "      <td>14</td>\n",
              "      <td>1</td>\n",
              "      <td>0</td>\n",
              "      <td>0</td>\n",
              "      <td>No</td>\n",
              "      <td>5.0</td>\n",
              "      <td>Semi- Finals</td>\n",
              "      <td>No</td>\n",
              "      <td>0</td>\n",
              "      <td>NaN</td>\n",
              "      <td>NaN</td>\n",
              "    </tr>\n",
              "    <tr>\n",
              "      <th>124</th>\n",
              "      <td>14-07-2018</td>\n",
              "      <td>Belgium</td>\n",
              "      <td>England</td>\n",
              "      <td>2</td>\n",
              "      <td>43</td>\n",
              "      <td>12</td>\n",
              "      <td>4</td>\n",
              "      <td>3</td>\n",
              "      <td>5</td>\n",
              "      <td>4</td>\n",
              "      <td>1</td>\n",
              "      <td>5</td>\n",
              "      <td>5</td>\n",
              "      <td>88</td>\n",
              "      <td>510</td>\n",
              "      <td>108</td>\n",
              "      <td>11</td>\n",
              "      <td>1</td>\n",
              "      <td>0</td>\n",
              "      <td>0</td>\n",
              "      <td>Yes</td>\n",
              "      <td>4.0</td>\n",
              "      <td>3rd Place</td>\n",
              "      <td>No</td>\n",
              "      <td>0</td>\n",
              "      <td>NaN</td>\n",
              "      <td>NaN</td>\n",
              "    </tr>\n",
              "    <tr>\n",
              "      <th>125</th>\n",
              "      <td>14-07-2018</td>\n",
              "      <td>England</td>\n",
              "      <td>Belgium</td>\n",
              "      <td>0</td>\n",
              "      <td>57</td>\n",
              "      <td>15</td>\n",
              "      <td>5</td>\n",
              "      <td>7</td>\n",
              "      <td>3</td>\n",
              "      <td>5</td>\n",
              "      <td>0</td>\n",
              "      <td>12</td>\n",
              "      <td>2</td>\n",
              "      <td>92</td>\n",
              "      <td>698</td>\n",
              "      <td>110</td>\n",
              "      <td>5</td>\n",
              "      <td>2</td>\n",
              "      <td>0</td>\n",
              "      <td>0</td>\n",
              "      <td>No</td>\n",
              "      <td>NaN</td>\n",
              "      <td>3rd Place</td>\n",
              "      <td>No</td>\n",
              "      <td>0</td>\n",
              "      <td>NaN</td>\n",
              "      <td>NaN</td>\n",
              "    </tr>\n",
              "    <tr>\n",
              "      <th>126</th>\n",
              "      <td>15-07-2018</td>\n",
              "      <td>France</td>\n",
              "      <td>Croatia</td>\n",
              "      <td>4</td>\n",
              "      <td>39</td>\n",
              "      <td>8</td>\n",
              "      <td>6</td>\n",
              "      <td>1</td>\n",
              "      <td>1</td>\n",
              "      <td>2</td>\n",
              "      <td>1</td>\n",
              "      <td>14</td>\n",
              "      <td>1</td>\n",
              "      <td>75</td>\n",
              "      <td>271</td>\n",
              "      <td>99</td>\n",
              "      <td>14</td>\n",
              "      <td>2</td>\n",
              "      <td>0</td>\n",
              "      <td>0</td>\n",
              "      <td>Yes</td>\n",
              "      <td>18.0</td>\n",
              "      <td>Final</td>\n",
              "      <td>No</td>\n",
              "      <td>0</td>\n",
              "      <td>1.0</td>\n",
              "      <td>18.0</td>\n",
              "    </tr>\n",
              "    <tr>\n",
              "      <th>127</th>\n",
              "      <td>15-07-2018</td>\n",
              "      <td>Croatia</td>\n",
              "      <td>France</td>\n",
              "      <td>2</td>\n",
              "      <td>61</td>\n",
              "      <td>15</td>\n",
              "      <td>3</td>\n",
              "      <td>8</td>\n",
              "      <td>4</td>\n",
              "      <td>6</td>\n",
              "      <td>1</td>\n",
              "      <td>15</td>\n",
              "      <td>3</td>\n",
              "      <td>83</td>\n",
              "      <td>547</td>\n",
              "      <td>100</td>\n",
              "      <td>13</td>\n",
              "      <td>1</td>\n",
              "      <td>0</td>\n",
              "      <td>0</td>\n",
              "      <td>No</td>\n",
              "      <td>28.0</td>\n",
              "      <td>Final</td>\n",
              "      <td>No</td>\n",
              "      <td>0</td>\n",
              "      <td>NaN</td>\n",
              "      <td>NaN</td>\n",
              "    </tr>\n",
              "  </tbody>\n",
              "</table>\n",
              "<p>128 rows × 27 columns</p>\n",
              "</div>"
            ],
            "text/plain": [
              "           Date          Team  ... Own goals  Own goal Time\n",
              "0    14-06-2018        Russia  ...       NaN            NaN\n",
              "1    14-06-2018  Saudi Arabia  ...       NaN            NaN\n",
              "2    15-06-2018         Egypt  ...       NaN            NaN\n",
              "3    15-06-2018       Uruguay  ...       NaN            NaN\n",
              "4    15-06-2018       Morocco  ...       1.0           90.0\n",
              "..          ...           ...  ...       ...            ...\n",
              "123  11-07-2018       England  ...       NaN            NaN\n",
              "124  14-07-2018       Belgium  ...       NaN            NaN\n",
              "125  14-07-2018       England  ...       NaN            NaN\n",
              "126  15-07-2018        France  ...       1.0           18.0\n",
              "127  15-07-2018       Croatia  ...       NaN            NaN\n",
              "\n",
              "[128 rows x 27 columns]"
            ]
          },
          "metadata": {
            "tags": []
          },
          "execution_count": 36
        }
      ]
    },
    {
      "cell_type": "markdown",
      "metadata": {
        "id": "1WvwFUdJlI8b"
      },
      "source": [
        "##**จากโจทย์ให้คัดเลือกเฉพาะข้อมูลตั้งแต่ Goal - scored ถึง red**"
      ]
    },
    {
      "cell_type": "markdown",
      "metadata": {
        "id": "WrdHO-XQlXN2"
      },
      "source": [
        "ดังนั้น เราจึงต้องเช็คดูขนาดก่อน จึงจะสามารถกำหนดค่าได้ "
      ]
    },
    {
      "cell_type": "code",
      "metadata": {
        "colab": {
          "base_uri": "https://localhost:8080/"
        },
        "id": "qKGLR7rWlU48",
        "outputId": "9b94ab9a-3f2e-47bf-849f-52295608cc0c"
      },
      "source": [
        "exam3.shape"
      ],
      "execution_count": 37,
      "outputs": [
        {
          "output_type": "execute_result",
          "data": {
            "text/plain": [
              "(128, 27)"
            ]
          },
          "metadata": {
            "tags": []
          },
          "execution_count": 37
        }
      ]
    },
    {
      "cell_type": "code",
      "metadata": {
        "colab": {
          "base_uri": "https://localhost:8080/",
          "height": 455
        },
        "id": "NE0uQcNzlvIU",
        "outputId": "cb48ffd6-b0fc-434a-c339-4d97faa969f6"
      },
      "source": [
        "exam3_drop = exam3.iloc[:,3:20] #กำหนดคอลัมน์ที่ต้องการ\n",
        "exam3_drop"
      ],
      "execution_count": 38,
      "outputs": [
        {
          "output_type": "execute_result",
          "data": {
            "text/html": [
              "<div>\n",
              "<style scoped>\n",
              "    .dataframe tbody tr th:only-of-type {\n",
              "        vertical-align: middle;\n",
              "    }\n",
              "\n",
              "    .dataframe tbody tr th {\n",
              "        vertical-align: top;\n",
              "    }\n",
              "\n",
              "    .dataframe thead th {\n",
              "        text-align: right;\n",
              "    }\n",
              "</style>\n",
              "<table border=\"1\" class=\"dataframe\">\n",
              "  <thead>\n",
              "    <tr style=\"text-align: right;\">\n",
              "      <th></th>\n",
              "      <th>Goal Scored</th>\n",
              "      <th>Ball Possession %</th>\n",
              "      <th>Attempts</th>\n",
              "      <th>On-Target</th>\n",
              "      <th>Off-Target</th>\n",
              "      <th>Blocked</th>\n",
              "      <th>Corners</th>\n",
              "      <th>Offsides</th>\n",
              "      <th>Free Kicks</th>\n",
              "      <th>Saves</th>\n",
              "      <th>Pass Accuracy %</th>\n",
              "      <th>Passes</th>\n",
              "      <th>Distance Covered (Kms)</th>\n",
              "      <th>Fouls Committed</th>\n",
              "      <th>Yellow Card</th>\n",
              "      <th>Yellow &amp; Red</th>\n",
              "      <th>Red</th>\n",
              "    </tr>\n",
              "  </thead>\n",
              "  <tbody>\n",
              "    <tr>\n",
              "      <th>0</th>\n",
              "      <td>5</td>\n",
              "      <td>40</td>\n",
              "      <td>13</td>\n",
              "      <td>7</td>\n",
              "      <td>3</td>\n",
              "      <td>3</td>\n",
              "      <td>6</td>\n",
              "      <td>3</td>\n",
              "      <td>11</td>\n",
              "      <td>0</td>\n",
              "      <td>78</td>\n",
              "      <td>306</td>\n",
              "      <td>118</td>\n",
              "      <td>22</td>\n",
              "      <td>0</td>\n",
              "      <td>0</td>\n",
              "      <td>0</td>\n",
              "    </tr>\n",
              "    <tr>\n",
              "      <th>1</th>\n",
              "      <td>0</td>\n",
              "      <td>60</td>\n",
              "      <td>6</td>\n",
              "      <td>0</td>\n",
              "      <td>3</td>\n",
              "      <td>3</td>\n",
              "      <td>2</td>\n",
              "      <td>1</td>\n",
              "      <td>25</td>\n",
              "      <td>2</td>\n",
              "      <td>86</td>\n",
              "      <td>511</td>\n",
              "      <td>105</td>\n",
              "      <td>10</td>\n",
              "      <td>0</td>\n",
              "      <td>0</td>\n",
              "      <td>0</td>\n",
              "    </tr>\n",
              "    <tr>\n",
              "      <th>2</th>\n",
              "      <td>0</td>\n",
              "      <td>43</td>\n",
              "      <td>8</td>\n",
              "      <td>3</td>\n",
              "      <td>3</td>\n",
              "      <td>2</td>\n",
              "      <td>0</td>\n",
              "      <td>1</td>\n",
              "      <td>7</td>\n",
              "      <td>3</td>\n",
              "      <td>78</td>\n",
              "      <td>395</td>\n",
              "      <td>112</td>\n",
              "      <td>12</td>\n",
              "      <td>2</td>\n",
              "      <td>0</td>\n",
              "      <td>0</td>\n",
              "    </tr>\n",
              "    <tr>\n",
              "      <th>3</th>\n",
              "      <td>1</td>\n",
              "      <td>57</td>\n",
              "      <td>14</td>\n",
              "      <td>4</td>\n",
              "      <td>6</td>\n",
              "      <td>4</td>\n",
              "      <td>5</td>\n",
              "      <td>1</td>\n",
              "      <td>13</td>\n",
              "      <td>3</td>\n",
              "      <td>86</td>\n",
              "      <td>589</td>\n",
              "      <td>111</td>\n",
              "      <td>6</td>\n",
              "      <td>0</td>\n",
              "      <td>0</td>\n",
              "      <td>0</td>\n",
              "    </tr>\n",
              "    <tr>\n",
              "      <th>4</th>\n",
              "      <td>0</td>\n",
              "      <td>64</td>\n",
              "      <td>13</td>\n",
              "      <td>3</td>\n",
              "      <td>6</td>\n",
              "      <td>4</td>\n",
              "      <td>5</td>\n",
              "      <td>0</td>\n",
              "      <td>14</td>\n",
              "      <td>2</td>\n",
              "      <td>86</td>\n",
              "      <td>433</td>\n",
              "      <td>101</td>\n",
              "      <td>22</td>\n",
              "      <td>1</td>\n",
              "      <td>0</td>\n",
              "      <td>0</td>\n",
              "    </tr>\n",
              "    <tr>\n",
              "      <th>...</th>\n",
              "      <td>...</td>\n",
              "      <td>...</td>\n",
              "      <td>...</td>\n",
              "      <td>...</td>\n",
              "      <td>...</td>\n",
              "      <td>...</td>\n",
              "      <td>...</td>\n",
              "      <td>...</td>\n",
              "      <td>...</td>\n",
              "      <td>...</td>\n",
              "      <td>...</td>\n",
              "      <td>...</td>\n",
              "      <td>...</td>\n",
              "      <td>...</td>\n",
              "      <td>...</td>\n",
              "      <td>...</td>\n",
              "      <td>...</td>\n",
              "    </tr>\n",
              "    <tr>\n",
              "      <th>123</th>\n",
              "      <td>1</td>\n",
              "      <td>46</td>\n",
              "      <td>11</td>\n",
              "      <td>1</td>\n",
              "      <td>6</td>\n",
              "      <td>4</td>\n",
              "      <td>4</td>\n",
              "      <td>3</td>\n",
              "      <td>24</td>\n",
              "      <td>5</td>\n",
              "      <td>79</td>\n",
              "      <td>479</td>\n",
              "      <td>148</td>\n",
              "      <td>14</td>\n",
              "      <td>1</td>\n",
              "      <td>0</td>\n",
              "      <td>0</td>\n",
              "    </tr>\n",
              "    <tr>\n",
              "      <th>124</th>\n",
              "      <td>2</td>\n",
              "      <td>43</td>\n",
              "      <td>12</td>\n",
              "      <td>4</td>\n",
              "      <td>3</td>\n",
              "      <td>5</td>\n",
              "      <td>4</td>\n",
              "      <td>1</td>\n",
              "      <td>5</td>\n",
              "      <td>5</td>\n",
              "      <td>88</td>\n",
              "      <td>510</td>\n",
              "      <td>108</td>\n",
              "      <td>11</td>\n",
              "      <td>1</td>\n",
              "      <td>0</td>\n",
              "      <td>0</td>\n",
              "    </tr>\n",
              "    <tr>\n",
              "      <th>125</th>\n",
              "      <td>0</td>\n",
              "      <td>57</td>\n",
              "      <td>15</td>\n",
              "      <td>5</td>\n",
              "      <td>7</td>\n",
              "      <td>3</td>\n",
              "      <td>5</td>\n",
              "      <td>0</td>\n",
              "      <td>12</td>\n",
              "      <td>2</td>\n",
              "      <td>92</td>\n",
              "      <td>698</td>\n",
              "      <td>110</td>\n",
              "      <td>5</td>\n",
              "      <td>2</td>\n",
              "      <td>0</td>\n",
              "      <td>0</td>\n",
              "    </tr>\n",
              "    <tr>\n",
              "      <th>126</th>\n",
              "      <td>4</td>\n",
              "      <td>39</td>\n",
              "      <td>8</td>\n",
              "      <td>6</td>\n",
              "      <td>1</td>\n",
              "      <td>1</td>\n",
              "      <td>2</td>\n",
              "      <td>1</td>\n",
              "      <td>14</td>\n",
              "      <td>1</td>\n",
              "      <td>75</td>\n",
              "      <td>271</td>\n",
              "      <td>99</td>\n",
              "      <td>14</td>\n",
              "      <td>2</td>\n",
              "      <td>0</td>\n",
              "      <td>0</td>\n",
              "    </tr>\n",
              "    <tr>\n",
              "      <th>127</th>\n",
              "      <td>2</td>\n",
              "      <td>61</td>\n",
              "      <td>15</td>\n",
              "      <td>3</td>\n",
              "      <td>8</td>\n",
              "      <td>4</td>\n",
              "      <td>6</td>\n",
              "      <td>1</td>\n",
              "      <td>15</td>\n",
              "      <td>3</td>\n",
              "      <td>83</td>\n",
              "      <td>547</td>\n",
              "      <td>100</td>\n",
              "      <td>13</td>\n",
              "      <td>1</td>\n",
              "      <td>0</td>\n",
              "      <td>0</td>\n",
              "    </tr>\n",
              "  </tbody>\n",
              "</table>\n",
              "<p>128 rows × 17 columns</p>\n",
              "</div>"
            ],
            "text/plain": [
              "     Goal Scored  Ball Possession %  Attempts  ...  Yellow Card  Yellow & Red  Red\n",
              "0              5                 40        13  ...            0             0    0\n",
              "1              0                 60         6  ...            0             0    0\n",
              "2              0                 43         8  ...            2             0    0\n",
              "3              1                 57        14  ...            0             0    0\n",
              "4              0                 64        13  ...            1             0    0\n",
              "..           ...                ...       ...  ...          ...           ...  ...\n",
              "123            1                 46        11  ...            1             0    0\n",
              "124            2                 43        12  ...            1             0    0\n",
              "125            0                 57        15  ...            2             0    0\n",
              "126            4                 39         8  ...            2             0    0\n",
              "127            2                 61        15  ...            1             0    0\n",
              "\n",
              "[128 rows x 17 columns]"
            ]
          },
          "metadata": {
            "tags": []
          },
          "execution_count": 38
        }
      ]
    },
    {
      "cell_type": "markdown",
      "metadata": {
        "id": "93q7r8GNl7Ms"
      },
      "source": [
        "ตรวจสอบขนาดของข้อมูลหลังทำการเลือกข้อมูล"
      ]
    },
    {
      "cell_type": "code",
      "metadata": {
        "colab": {
          "base_uri": "https://localhost:8080/"
        },
        "id": "G06A3koMmAx8",
        "outputId": "95aac571-9aa9-4b76-b762-732b3916bae8"
      },
      "source": [
        "exam3_drop.shape"
      ],
      "execution_count": 39,
      "outputs": [
        {
          "output_type": "execute_result",
          "data": {
            "text/plain": [
              "(128, 17)"
            ]
          },
          "metadata": {
            "tags": []
          },
          "execution_count": 39
        }
      ]
    },
    {
      "cell_type": "markdown",
      "metadata": {
        "id": "lx2mHFnRmD_M"
      },
      "source": [
        "ขั้นตอนที่ 2 การทำ Bartlett’s test\n",
        "\n",
        "Bartlett’s test \n",
        "Perform Bartlett’s test for equal variances.\n",
        "\n",
        "Bartlett’s test tests the null hypothesis that all input samples are from populations with equal variances. For samples from significantly non-normal populations, Levene’s test levene is more robust. \n",
        "\n",
        "https://docs.scipy.org/doc/scipy/reference/generated/scipy.stats.bartlett.html"
      ]
    },
    {
      "cell_type": "markdown",
      "metadata": {
        "id": "qBPvM-TMmhGX"
      },
      "source": [
        "โดยจะพิจารณาจากค่า P-value ที่ควรให้เข้าใกล้ 0 มากที่สุด"
      ]
    },
    {
      "cell_type": "code",
      "metadata": {
        "colab": {
          "base_uri": "https://localhost:8080/"
        },
        "id": "FkBZ6OsEmy6Z",
        "outputId": "1980716a-a7a3-4765-bd10-c9cc83c26d5d"
      },
      "source": [
        "from factor_analyzer.factor_analyzer import calculate_bartlett_sphericity\n",
        "\n",
        "chi_square_value,p_value = calculate_bartlett_sphericity(exam3_drop)\n",
        "\n",
        "chi_square_value, p_value"
      ],
      "execution_count": 41,
      "outputs": [
        {
          "output_type": "execute_result",
          "data": {
            "text/plain": [
              "(1299.3697851171412, 2.713580160466225e-189)"
            ]
          },
          "metadata": {
            "tags": []
          },
          "execution_count": 41
        }
      ]
    },
    {
      "cell_type": "markdown",
      "metadata": {
        "id": "_QyJGy2xm9Fi"
      },
      "source": [
        "จากผลการทำ Bartlett’s test จะเห็นว่า ค่า  P-value มีค่า 2.713580160466225e-189 ซึ่งค่าเข้าใกล้ 0 มาก ดังนั้นจึงถือว่าสามารถทำขั้นตอนต่อไปได้"
      ]
    },
    {
      "cell_type": "markdown",
      "metadata": {
        "id": "fLi9wl1unZpz"
      },
      "source": [
        "ขั้นตอนที่ 3 การทำ KMO Test หรือ Kaiser-Meyer-Olkin Test\n",
        "ซึ่งตัวแบบที่ดี และสามารถทำต่อได้ควรมีค่า มากกว่า 0.6"
      ]
    },
    {
      "cell_type": "code",
      "metadata": {
        "colab": {
          "base_uri": "https://localhost:8080/"
        },
        "id": "-A22_9xzn2eF",
        "outputId": "347a08cb-3a09-412b-998b-4c0a7ca64281"
      },
      "source": [
        "from factor_analyzer.factor_analyzer import calculate_kmo\n",
        "kmo_all,kmo_model=calculate_kmo(exam3_drop)\n",
        "kmo_model"
      ],
      "execution_count": 45,
      "outputs": [
        {
          "output_type": "execute_result",
          "data": {
            "text/plain": [
              "0.5594556344508279"
            ]
          },
          "metadata": {
            "tags": []
          },
          "execution_count": 45
        }
      ]
    },
    {
      "cell_type": "markdown",
      "metadata": {
        "id": "SXNe5ccaoCPu"
      },
      "source": [
        "จากผลการทำ KMO test จะเห็นว่ามีค่า 0.5594556344508279 ซึ่งค่าใกล้เคียงกับ 0.6 มาก ดังนั้นจึงถือว่าสามารถทำขั้นตอน Factor Analysis ต่อไปได้"
      ]
    },
    {
      "cell_type": "markdown",
      "metadata": {
        "id": "O8AAtLzeolQR"
      },
      "source": [
        "ขั้นตอนที่ 4 การทำ Factor Analysis"
      ]
    },
    {
      "cell_type": "code",
      "metadata": {
        "id": "j4HLw6W3oFen"
      },
      "source": [
        "from factor_analyzer import FactorAnalyzer #import data\n",
        "exam_fa = FactorAnalyzer(n_factors=10) \n",
        "#defind shape or n in how to factor analysis\n",
        "data_exam_fa = exam_fa.fit_transform(exam3_drop)"
      ],
      "execution_count": 49,
      "outputs": []
    },
    {
      "cell_type": "markdown",
      "metadata": {
        "id": "rgIxAdEtpnFu"
      },
      "source": [
        "ดังนั้น เราจึงต้องเช็คดูขนาดก่อน จึงจะสามารถกำหนดค่าได้ "
      ]
    },
    {
      "cell_type": "code",
      "metadata": {
        "colab": {
          "base_uri": "https://localhost:8080/"
        },
        "id": "KLpt6KYtpW60",
        "outputId": "256eed88-3c03-414a-d78d-8c5577b3ae8c"
      },
      "source": [
        "data_exam_fa.shape #check data shape"
      ],
      "execution_count": 50,
      "outputs": [
        {
          "output_type": "execute_result",
          "data": {
            "text/plain": [
              "(128, 10)"
            ]
          },
          "metadata": {
            "tags": []
          },
          "execution_count": 50
        }
      ]
    },
    {
      "cell_type": "code",
      "metadata": {
        "colab": {
          "base_uri": "https://localhost:8080/"
        },
        "id": "N9NU9Mhlppxt",
        "outputId": "e0fe8b10-4b3b-4c2b-dab0-bca0f7d13ce7"
      },
      "source": [
        "ev,v = exam_fa.get_eigenvalues()\n",
        "ev"
      ],
      "execution_count": 51,
      "outputs": [
        {
          "output_type": "execute_result",
          "data": {
            "text/plain": [
              "array([4.93533676, 1.66110682, 1.45898601, 1.31857945, 1.27991548,\n",
              "       1.1607222 , 0.89822418, 0.80740568, 0.78874612, 0.65948826,\n",
              "       0.56563441, 0.48116939, 0.38549929, 0.29659929, 0.22859409,\n",
              "       0.06848785, 0.00550471])"
            ]
          },
          "metadata": {
            "tags": []
          },
          "execution_count": 51
        }
      ]
    },
    {
      "cell_type": "markdown",
      "metadata": {
        "id": "OZ5Q0qfupzkd"
      },
      "source": [
        "ขั้นตอนที่ 5 การทำ scree plot\n",
        "เพื่อดูลักษณะข้อมูล การพิจารณาข้อมูล หรือ ตัวแบบโดยการวาดกราฟ จะทำให้ง่ายขึ้น"
      ]
    },
    {
      "cell_type": "code",
      "metadata": {
        "colab": {
          "base_uri": "https://localhost:8080/",
          "height": 661
        },
        "id": "LUOMGiTPqGhR",
        "outputId": "359ea44e-ef32-4f80-8ac1-575e024309b0"
      },
      "source": [
        "plt.plot(range(1,exam3_drop.shape[1]+1),ev,'bo-')\n",
        "plt.plot([0,exam3_drop.shape[1]+1],[1,1],'r--')\n",
        "plt.title('Scree Plot Fifa with 17 factors')\n",
        "plt.xlabel('Factors')\n",
        "plt.ylabel('Eigenvalue')\n",
        "plt.grid()\n",
        "plt.show()"
      ],
      "execution_count": 52,
      "outputs": [
        {
          "output_type": "display_data",
          "data": {
            "image/png": "[encoded data removed]",
            "text/plain": [
              "<Figure size 1080x1080 with 1 Axes>"
            ]
          },
          "metadata": {
            "tags": [],
            "needs_background": "light"
          }
        }
      ]
    },
    {
      "cell_type": "markdown",
      "metadata": {
        "id": "g2GY2TrzqQdZ"
      },
      "source": [
        "จากการแสดงผลของกราฟจะเห็นว่า ข้อมูล มีค่า factor มากกว่า 1 อยู่ 6 ตัว"
      ]
    },
    {
      "cell_type": "code",
      "metadata": {
        "colab": {
          "base_uri": "https://localhost:8080/"
        },
        "id": "bDW5Lkp7qgsm",
        "outputId": "e6f539af-55fb-448f-c596-5e4b59a393b1"
      },
      "source": [
        "data_exam_fa[:,:6] #กำหนดจำนวนคอลัมน์"
      ],
      "execution_count": 53,
      "outputs": [
        {
          "output_type": "execute_result",
          "data": {
            "text/plain": [
              "array([[-1.14061137e+00,  1.05033795e+00,  2.79854567e+00,\n",
              "         3.57574560e-01, -5.95152711e-02, -7.48334076e-02],\n",
              "       [ 5.33831171e-01, -1.78150280e-01, -1.10088651e+00,\n",
              "         1.81432000e-02, -8.36944321e-01, -7.31531607e-01],\n",
              "       [-7.29379706e-01,  3.96402498e-01, -7.02153492e-01,\n",
              "        -2.77221903e-01,  1.34345254e-01, -5.61356514e-01],\n",
              "       [ 7.08580342e-01,  3.36178613e-01, -3.31529441e-01,\n",
              "        -2.60518967e-01, -1.38667315e+00,  1.34916077e-01],\n",
              "       [ 3.25530467e-01, -3.71841487e-01, -4.14431700e-01,\n",
              "         3.27492853e-01,  2.50366459e-01,  2.57255932e-01],\n",
              "       [-1.34130209e+00, -5.34562069e-01,  2.52429472e-01,\n",
              "        -5.22235915e-01,  1.05852627e+00, -1.07428697e+00],\n",
              "       [-5.46867894e-01, -4.92844282e-01,  9.46711298e-01,\n",
              "        -3.59877314e-01, -1.85391071e-01, -3.25465436e-01],\n",
              "       [ 1.67488741e+00, -4.32704892e-01,  7.61605381e-01,\n",
              "        -3.70473849e-01, -8.35201718e-01, -5.88310671e-01],\n",
              "       [ 2.62530209e-01, -3.24159295e-01,  6.58987216e-01,\n",
              "        -8.77493871e-02, -1.29974193e-01, -2.53944852e-01],\n",
              "       [-4.24340037e-01,  2.94944349e-01,  4.29409238e-02,\n",
              "        -1.64381947e-02,  1.25250458e+00, -1.11481292e+00],\n",
              "       [ 1.95876399e+00, -4.46975965e-01, -3.61523432e-01,\n",
              "         3.78163388e-02, -1.35874423e+00,  2.54926969e+00],\n",
              "       [-2.08882967e+00, -1.88315017e-02, -9.70957261e-02,\n",
              "        -2.16254041e-01, -6.44227818e-01, -7.44602446e-01],\n",
              "       [-1.13023467e-01, -1.86239106e-01, -2.97895618e-01,\n",
              "        -2.22964741e-01, -5.62470690e-01,  4.57419585e-01],\n",
              "       [-5.79705484e-01,  2.67017734e-01,  1.84093790e-01,\n",
              "         2.16481968e-01,  5.45634263e-01, -4.35644718e-01],\n",
              "       [ 1.91713667e-01, -1.68566869e-01,  2.97003398e-01,\n",
              "         7.05696188e-02,  5.23795988e-01, -5.16332969e-01],\n",
              "       [-2.72239288e-01, -4.89047675e-01, -9.80538749e-01,\n",
              "        -3.10055851e-02, -2.27316336e-02,  1.01966276e+00],\n",
              "       [-1.23346248e-01, -3.64285360e-02, -6.51761097e-01,\n",
              "         1.85936300e-01,  5.65122914e-01,  6.06494933e-02],\n",
              "       [-2.97922468e-01,  1.96200209e-01,  3.88046147e-02,\n",
              "         4.47998161e-03,  3.60714543e-01, -6.48805858e-01],\n",
              "       [ 9.39499385e-01,  2.95628629e-01, -2.39799127e-01,\n",
              "        -1.51633941e-01, -3.37278747e-01,  1.55986629e+00],\n",
              "       [-1.12457695e+00, -3.95892986e-02,  4.07359193e-01,\n",
              "        -4.24913701e-01,  2.84232064e-01, -3.72874610e-01],\n",
              "       [ 5.11996719e-01, -2.72746579e-01, -3.87642085e-01,\n",
              "        -3.10369709e-01, -5.43121239e-01,  1.26838979e+00],\n",
              "       [-2.42001288e-01,  7.95623673e-02, -3.26243458e-02,\n",
              "        -1.49980559e-01,  1.03658919e+00, -1.27621926e+00],\n",
              "       [ 3.09253969e-03, -3.45964922e-01, -6.97980197e-02,\n",
              "         2.32866611e-01,  1.89502372e-01,  7.59341359e-01],\n",
              "       [-5.31938248e-01, -3.40097273e-01, -9.32193283e-01,\n",
              "         4.35478826e-01,  1.00694242e+00, -4.14036551e-01],\n",
              "       [ 9.12307220e-01, -3.62280886e-01,  1.26221663e+00,\n",
              "         8.98399815e-02,  7.65873647e-01, -3.66204217e-01],\n",
              "       [-7.74051832e-01, -6.63482792e-01, -6.54190082e-01,\n",
              "        -2.59606852e-01,  1.99538017e+00, -1.29695998e+00],\n",
              "       [-8.42058865e-01, -3.54054671e-01, -2.02329205e-01,\n",
              "        -2.30382892e-01, -6.26005287e-01, -6.77676309e-01],\n",
              "       [ 6.12123138e-01, -1.09371483e-01,  9.07193812e-01,\n",
              "        -2.16378691e-01, -6.92670363e-01, -8.06428204e-02],\n",
              "       [-5.56953139e-01, -1.25871638e+00, -6.44086390e-01,\n",
              "        -3.87320560e-02,  4.59378691e-01,  7.09651980e-01],\n",
              "       [ 8.61050269e-01, -4.97631493e-01,  4.62562434e-01,\n",
              "        -1.38999280e-01, -7.04281466e-01, -1.57426034e-01],\n",
              "       [ 6.26529608e-01,  2.32296184e-01, -1.25986637e-02,\n",
              "        -2.81543275e-01, -7.01189194e-01, -1.09311691e+00],\n",
              "       [-8.03503780e-01,  1.25630962e-02,  3.69402988e-01,\n",
              "        -1.27813348e-01,  4.16918389e-01, -5.80145626e-01],\n",
              "       [-6.40380429e-01,  7.99243147e-01,  6.77333936e-01,\n",
              "         1.29494354e-01, -2.67289507e-01, -1.32356525e-01],\n",
              "       [-1.42818154e-01,  3.95529062e-01, -6.16044825e-01,\n",
              "        -2.21118615e-01, -4.81295325e-01,  1.54688879e-01],\n",
              "       [-4.67509318e-01, -1.05180767e-01, -3.99644730e-01,\n",
              "         3.17623410e-01,  1.30423140e-01, -2.73318455e-02],\n",
              "       [ 1.75653737e-02,  2.17735238e-01, -5.48974966e-01,\n",
              "         2.06757096e-01,  2.09977718e-02, -3.48556675e-01],\n",
              "       [ 3.15334813e-01, -5.23719722e-01, -1.52798556e-01,\n",
              "        -5.94117926e-01, -1.18169362e+00, -2.39310582e-01],\n",
              "       [ 7.39953249e-01, -7.07803705e-01, -9.24387707e-01,\n",
              "        -1.83811695e-01, -1.04862701e+00, -6.02493141e-01],\n",
              "       [-1.79979304e+00, -1.09617819e-03, -1.12941806e+00,\n",
              "        -2.25645701e-01,  3.52977742e-01, -1.36898273e+00],\n",
              "       [ 2.11628106e+00, -2.04181831e-01, -9.72704032e-01,\n",
              "         1.07305207e-01, -1.10551513e+00,  1.44924200e+00],\n",
              "       [-8.35656394e-02,  3.78366851e-01,  3.44536089e-01,\n",
              "        -5.59532265e-01, -2.58114607e-01, -1.06890930e+00],\n",
              "       [ 1.67554445e-01,  5.65854288e-01, -5.73410801e-02,\n",
              "        -3.29440672e-01, -1.37895603e+00,  2.71911174e-01],\n",
              "       [-4.31196011e-01, -2.63922738e-01, -3.31075560e-01,\n",
              "        -2.31018064e-01, -1.52384039e-02, -4.65153850e-01],\n",
              "       [ 4.26784251e-01, -3.95917274e-01, -1.07862229e+00,\n",
              "        -1.26605892e-01,  6.85655665e-02, -4.84575965e-01],\n",
              "       [ 5.24250313e-01, -5.59806839e-01, -1.05679538e+00,\n",
              "         3.20892875e-01,  7.71395466e-01, -8.51484399e-02],\n",
              "       [-6.00753883e-01, -1.86765428e-01,  1.13551613e+00,\n",
              "        -1.21896544e-01,  1.68593294e+00,  2.50503912e-01],\n",
              "       [ 1.83318956e+00, -1.57671240e-01,  5.19798791e-01,\n",
              "        -9.42187282e-02, -4.68241300e-01,  8.95443947e-01],\n",
              "       [-1.48697240e+00,  1.71561363e-01, -9.57228698e-01,\n",
              "        -2.77523180e-01, -3.58786384e-01, -1.41819697e+00],\n",
              "       [ 3.65377238e-01, -5.24106434e-01,  6.28968446e-02,\n",
              "        -6.97396846e-02, -6.08868149e-01,  1.00749388e+00],\n",
              "       [-1.09152620e+00,  5.61283999e-02, -6.57002482e-01,\n",
              "        -1.59965319e-01, -9.21816620e-01, -7.77388017e-01],\n",
              "       [-1.09542449e+00,  8.74395108e-01,  9.73556213e-02,\n",
              "        -1.62571719e-01,  1.50739351e+00, -4.42463168e-01],\n",
              "       [ 6.35415106e-01,  4.82706116e-01,  3.50489795e-01,\n",
              "        -1.19064003e-02, -5.10100926e-01,  1.27616924e+00],\n",
              "       [ 1.57581188e-01, -6.04215812e-02,  3.07763687e+00,\n",
              "        -2.75020586e-01, -1.14054663e+00,  1.68321217e-01],\n",
              "       [ 2.23136719e-02, -3.96667961e-01,  4.06988694e-01,\n",
              "        -3.27718473e-01, -5.44295664e-01,  2.11199645e-01],\n",
              "       [-6.17446737e-01, -7.65246076e-01, -5.07258978e-02,\n",
              "         2.27645849e-01,  1.87431164e+00,  2.29785384e+00],\n",
              "       [ 5.93535986e-01, -7.64998678e-01,  6.65610498e-01,\n",
              "        -2.81663239e-01, -1.19858606e+00, -6.45894662e-01],\n",
              "       [ 1.39732611e+00,  6.97261955e-01,  8.39941540e-01,\n",
              "         6.86060236e+00, -1.05958904e+00,  1.52461005e+00],\n",
              "       [-1.72862350e+00,  2.01911704e-01,  5.57043095e-01,\n",
              "        -1.70623257e-01,  4.14087979e-01, -9.37271899e-01],\n",
              "       [ 1.06162060e+00, -7.06922165e-01,  2.95283291e+00,\n",
              "        -3.03852935e-01, -3.70829664e-01, -5.72988807e-01],\n",
              "       [-1.50192669e-01, -1.55123241e+00, -3.44923296e-01,\n",
              "        -7.14113642e-01,  6.39170801e-01, -9.87671984e-01],\n",
              "       [ 7.78857235e-02, -2.23185003e-01,  3.06349978e-01,\n",
              "        -1.16703547e-01, -9.67119074e-03, -7.83437821e-01],\n",
              "       [-5.88555311e-01, -3.66730275e-01,  7.84246515e-01,\n",
              "        -6.05473962e-02,  6.68451875e-01, -2.62500889e-01],\n",
              "       [-3.16410702e-01, -5.78722830e-02, -1.13397372e+00,\n",
              "         1.45245631e-01,  3.52999911e-01,  1.66888315e-01],\n",
              "       [ 3.21732327e-01,  1.52672009e-01,  5.10237481e-01,\n",
              "         3.45947646e-03, -9.73890968e-01,  3.79486718e-01],\n",
              "       [ 4.48830971e-01, -3.88736473e-01,  1.45796168e+00,\n",
              "        -1.28695541e-01, -1.39507239e-01,  2.03202577e-01],\n",
              "       [-8.29502147e-01, -3.85982135e-01, -1.07600737e-01,\n",
              "         6.43474038e+00,  1.20387736e-01, -7.96790085e-01],\n",
              "       [ 1.37378390e+00, -3.98659636e-01,  3.74432422e-01,\n",
              "        -4.53974945e-01, -1.55089855e+00,  6.41033725e-01],\n",
              "       [-7.94831176e-01, -9.14604653e-02, -2.25737999e-01,\n",
              "        -4.41660950e-01,  2.83565339e-01, -8.34691403e-01],\n",
              "       [ 1.97973549e+00, -2.41284495e-01,  2.64567506e-02,\n",
              "        -5.21037743e-01, -1.78701068e+00, -8.49313013e-01],\n",
              "       [-1.45197320e+00,  2.38758388e-01,  7.35442027e-01,\n",
              "        -4.61763467e-01,  2.66063158e+00, -8.19300630e-01],\n",
              "       [-1.58854054e+00, -1.05850495e+00, -5.46549301e-01,\n",
              "        -3.10039539e-01,  3.46240540e-01, -8.27116414e-01],\n",
              "       [ 1.52325858e+00, -1.50843663e+00, -5.98411060e-01,\n",
              "        -2.37270317e-01,  7.43290476e-01, -9.22032969e-02],\n",
              "       [-1.18054959e+00, -1.04729691e-01, -1.18777824e+00,\n",
              "         2.86327819e-03, -3.48156640e-01, -6.33798413e-01],\n",
              "       [ 1.22384029e+00, -2.48435272e-01, -7.91731754e-01,\n",
              "        -3.72516111e-01, -1.34427743e+00, -9.21404229e-01],\n",
              "       [ 6.55975463e-01, -2.59964073e-01, -1.33412295e+00,\n",
              "        -1.30906659e-01,  9.45657624e-01,  6.27101751e-01],\n",
              "       [-2.06547806e-01, -6.45976725e-01,  2.73298804e-01,\n",
              "        -9.59877395e-02,  2.18025269e-01, -1.42610096e+00],\n",
              "       [-1.36105338e+00, -6.53452759e-01,  8.07283305e-04,\n",
              "        -2.05052100e-01,  6.80096146e-01, -8.58920121e-01],\n",
              "       [ 9.91007861e-01, -5.16227104e-01,  2.96272313e-01,\n",
              "         3.03517478e-01,  7.26596253e-01, -9.94374602e-01],\n",
              "       [-8.20914259e-01, -2.06848426e-01, -2.82781605e-01,\n",
              "        -6.15477586e-02,  3.92704377e-01,  2.30500537e-01],\n",
              "       [ 6.09760014e-01, -4.34871261e-01,  7.10763005e-02,\n",
              "        -2.92338746e-01, -4.97105567e-02, -4.19572253e-02],\n",
              "       [-1.84295447e+00,  9.75226801e-01,  9.27222165e-01,\n",
              "        -2.78279676e-01,  1.42661526e+00, -5.79832108e-01],\n",
              "       [ 1.63878087e+00,  7.69762606e-01, -9.17873969e-01,\n",
              "        -1.98512713e-02, -1.56930966e+00,  2.13780201e+00],\n",
              "       [ 6.85776817e-01, -9.32938161e-01, -1.29760941e+00,\n",
              "         1.72224325e-01,  5.53126239e-01,  1.83784749e+00],\n",
              "       [-1.68383975e+00, -1.66535905e-01,  9.05808023e-01,\n",
              "        -2.47581914e-01,  1.12644221e-01, -7.27421476e-01],\n",
              "       [-3.08543709e-01,  5.16585812e-01, -1.29671803e+00,\n",
              "        -7.82763160e-02,  5.88839989e-01,  1.72782332e-01],\n",
              "       [ 1.11242937e+00, -3.07010044e-01,  2.34024042e-01,\n",
              "         7.62563610e-03, -1.36027514e+00,  1.32278618e-01],\n",
              "       [ 9.75002126e-01, -4.07626361e-01, -9.28046254e-02,\n",
              "        -1.31839534e-01,  2.81834463e-01,  1.80282790e-01],\n",
              "       [-6.87440127e-01, -2.88109821e-01,  7.37388900e-01,\n",
              "        -3.83698312e-01,  6.81586124e-01, -2.63988762e-01],\n",
              "       [ 8.73916854e-01, -2.11435076e+00, -1.31599245e+00,\n",
              "        -3.58315317e-01, -7.45847140e-01, -7.06247597e-02],\n",
              "       [ 2.94990479e-01, -2.30411743e+00, -1.03671950e+00,\n",
              "        -4.35262424e-01, -1.29960964e+00,  2.37816682e-01],\n",
              "       [-9.22049552e-01, -7.66628038e-01, -5.55659268e-01,\n",
              "        -1.54029503e-01, -1.10392865e-01, -1.05099608e+00],\n",
              "       [ 1.39252794e-01, -6.30430511e-01, -1.97550284e-01,\n",
              "         2.50973243e-01, -7.18479537e-02, -1.16636089e+00],\n",
              "       [-1.17286516e+00, -4.13556107e-01,  1.52264136e-01,\n",
              "        -2.51873781e-01,  9.65462616e-01, -9.80541470e-01],\n",
              "       [ 1.17113964e+00, -3.21611722e-02,  7.48063765e-01,\n",
              "         2.99130715e-01,  8.44339992e-01,  2.17814703e-01],\n",
              "       [ 1.58108060e-01,  1.27557942e-01, -1.02709286e+00,\n",
              "        -2.43467615e-01, -9.99956129e-01,  4.26534245e-01],\n",
              "       [ 5.20518322e-01, -1.56196961e-01, -3.66857809e-01,\n",
              "        -2.68845760e-01,  1.56573099e-01,  1.11125424e+00],\n",
              "       [-6.14869856e-01, -7.69192616e-01,  1.75272972e+00,\n",
              "        -4.05733251e-01,  1.22748188e+00, -9.42610391e-01],\n",
              "       [ 8.61613649e-01, -1.03122898e+00,  5.07555979e-01,\n",
              "         1.14571396e-01,  1.82872685e+00, -2.43353253e-02],\n",
              "       [-1.41231457e+00,  3.31067060e-02,  3.03038995e-01,\n",
              "         9.74932562e-02, -6.10893631e-01, -9.97615378e-01],\n",
              "       [ 7.97572544e-01, -9.68142225e-03, -6.24196479e-01,\n",
              "         4.48854891e-01, -4.79246698e-01,  4.63543562e+00],\n",
              "       [ 3.29394397e+00,  2.34396356e+00, -5.63396140e-01,\n",
              "        -1.51773215e-02, -1.44749132e+00,  2.13423978e+00],\n",
              "       [-2.19323128e+00,  3.21978924e+00,  1.94039349e-01,\n",
              "         1.76432344e-01,  7.92413196e-01, -4.81739315e-01],\n",
              "       [ 4.52895857e-01,  2.17162592e+00, -3.73672458e-02,\n",
              "        -1.25553483e-01, -1.47977207e+00,  1.16593762e+00],\n",
              "       [-3.45399940e-01,  2.47674515e+00,  1.73797147e-01,\n",
              "        -1.75257029e-01, -2.31714813e-01, -2.68446882e-01],\n",
              "       [-3.08215719e-02, -1.16509055e+00,  8.32022714e-01,\n",
              "        -3.95475068e-01, -3.84932029e-01,  4.76903439e-01],\n",
              "       [ 2.02566911e-01, -1.65241863e+00, -1.43983134e+00,\n",
              "         9.89727976e-02,  1.35512330e+00,  1.85813498e+00],\n",
              "       [ 9.37403220e-01,  1.86828572e-01,  1.13120531e+00,\n",
              "        -1.79472936e-01, -1.23199543e+00,  1.33673402e+00],\n",
              "       [-1.97096339e-01,  1.16787588e-01,  3.50022339e-01,\n",
              "        -2.27310411e-01, -5.68574386e-01, -1.80014683e-01],\n",
              "       [-1.33269362e+00, -4.51982253e-02, -3.09578259e-01,\n",
              "        -2.55003796e-01, -3.85366969e-01, -1.32288257e-01],\n",
              "       [ 1.06977547e+00, -3.52114526e-01, -1.62581954e+00,\n",
              "         5.28272293e-01,  1.42892540e-01,  2.68850458e+00],\n",
              "       [-3.37723546e-01,  2.48688737e+00,  1.24489405e-01,\n",
              "         8.99632758e-02,  2.67537399e+00, -1.17521617e-01],\n",
              "       [ 5.76243036e-02,  3.08550560e+00, -1.91385431e-01,\n",
              "         1.27657861e-01,  1.80165882e-01,  3.13071356e-01],\n",
              "       [-1.04449446e+00, -1.51366494e-01, -8.65664172e-01,\n",
              "         1.07613223e-01,  3.51218517e-01, -7.52499062e-01],\n",
              "       [ 4.94945157e-01, -5.63588188e-01, -4.11149556e-02,\n",
              "        -1.33691061e-01,  1.19286621e-01, -5.50170600e-01],\n",
              "       [ 8.04067144e-01, -2.45849407e-01,  1.55475749e-01,\n",
              "        -2.87176633e-02,  1.23819193e-02,  2.58501926e+00],\n",
              "       [-5.87274103e-01, -2.15448624e-01,  6.11195481e-01,\n",
              "        -1.25087462e-01,  4.27715211e-01, -5.12536455e-01],\n",
              "       [-7.47844561e-01,  6.88896229e-03, -9.65814618e-01,\n",
              "        -2.02968717e-01, -1.74775984e-03, -9.34478128e-01],\n",
              "       [ 3.64878596e-01,  2.52253435e-01, -3.76627737e-01,\n",
              "         1.24370002e-01, -6.42372730e-01,  7.79646785e-01],\n",
              "       [-1.37603116e+00,  3.58469424e+00,  1.38343384e+00,\n",
              "         7.03147076e-01,  5.50942136e-01, -5.11665066e-01],\n",
              "       [ 1.15940104e+00,  2.75079228e+00,  1.88286547e-01,\n",
              "         2.83401811e-01,  1.17983014e+00,  1.37748637e-01],\n",
              "       [-6.13844647e-01, -3.70102043e-01, -6.77554436e-02,\n",
              "        -7.16807641e-01, -2.43361137e-01,  9.41210533e-01],\n",
              "       [ 1.12358329e+00, -5.38271194e-01, -7.69228672e-01,\n",
              "        -2.02726741e-01,  5.27644428e-01, -6.97091652e-01],\n",
              "       [ 2.58419141e-01,  3.22776919e+00,  1.04033154e+00,\n",
              "         3.27941148e-01,  5.08832897e-01,  4.31039051e-01],\n",
              "       [-6.42288719e-01,  3.47885322e+00, -9.61382551e-04,\n",
              "         2.50659970e-01, -6.03083583e-02, -2.39830165e-01],\n",
              "       [ 4.79581160e-02, -6.02050869e-02,  3.11324684e-01,\n",
              "        -4.38941726e-01, -5.26768869e-01,  6.03338453e-01],\n",
              "       [ 1.30564472e+00,  1.52376854e-01, -7.85831196e-01,\n",
              "        -6.45437778e-01, -6.58990947e-01, -1.05463445e-01],\n",
              "       [-1.14736335e+00, -6.04957682e-01,  1.72370918e+00,\n",
              "        -6.02569299e-02,  4.43664037e-01, -9.10766961e-01],\n",
              "       [ 7.44178734e-01, -4.71574957e-01, -3.29454853e-02,\n",
              "        -3.39511580e-02, -5.25737045e-01,  2.57221672e-01]])"
            ]
          },
          "metadata": {
            "tags": []
          },
          "execution_count": 53
        }
      ]
    },
    {
      "cell_type": "markdown",
      "metadata": {
        "id": "ucsnyFqhq1Rq"
      },
      "source": [
        "ขั้นตอนที่ 6 อ่านข้อมูลด้วย Paremeters โดยกำหนดใฟ้ factor มีจำนวนเท่ากับ 6"
      ]
    },
    {
      "cell_type": "code",
      "metadata": {
        "id": "k5BKJapgrEZU"
      },
      "source": [
        "from factor_analyzer import FactorAnalyzer\n",
        "exam_fa2 = FactorAnalyzer(n_factors=6)\n",
        "data_exam_fa2 = exam_fa2.fit_transform(exam3_drop)"
      ],
      "execution_count": 57,
      "outputs": []
    },
    {
      "cell_type": "code",
      "metadata": {
        "colab": {
          "base_uri": "https://localhost:8080/"
        },
        "id": "pSJsaj10ruEL",
        "outputId": "a64ce017-17fc-4ed8-f797-29bbbb1f1e83"
      },
      "source": [
        "exam_fa2.loadings_.shape"
      ],
      "execution_count": 58,
      "outputs": [
        {
          "output_type": "execute_result",
          "data": {
            "text/plain": [
              "(17, 6)"
            ]
          },
          "metadata": {
            "tags": []
          },
          "execution_count": 58
        }
      ]
    },
    {
      "cell_type": "markdown",
      "metadata": {
        "id": "Dl54NbwTr1EF"
      },
      "source": [
        "ขั้นตอนที่ 7  Plot factor loadings by Matrix plot\n",
        "\n",
        "โดยเราจะพิจารณาจากสีของข้อมูลแต่ละช่วง ถ้าสีสว่าง คือ มาก ถ้า สีทึบ คือ น้อย "
      ]
    },
    {
      "cell_type": "code",
      "metadata": {
        "id": "Syp46hytr6aU"
      },
      "source": [
        "from matplotlib import pyplot as plt\n",
        "import numpy as np\n",
        "import matplotlib"
      ],
      "execution_count": 59,
      "outputs": []
    },
    {
      "cell_type": "code",
      "metadata": {
        "colab": {
          "base_uri": "https://localhost:8080/",
          "height": 880
        },
        "id": "3OEPnZIDsIml",
        "outputId": "c0620bfe-69a6-4f86-da9d-79f6dcd6cf18"
      },
      "source": [
        "matplotlib.rcParams['figure.figsize']=[15,15]\n",
        "plt.imshow(np.absolute(exam_fa2.loadings_))"
      ],
      "execution_count": 60,
      "outputs": [
        {
          "output_type": "execute_result",
          "data": {
            "text/plain": [
              "<matplotlib.image.AxesImage at 0x7f35db310850>"
            ]
          },
          "metadata": {
            "tags": []
          },
          "execution_count": 60
        },
        {
          "output_type": "display_data",
          "data": {
            "image/png": "[encoded data removed]",
            "text/plain": [
              "<Figure size 1080x1080 with 1 Axes>"
            ]
          },
          "metadata": {
            "tags": [],
            "needs_background": "light"
          }
        }
      ]
    },
    {
      "cell_type": "markdown",
      "metadata": {
        "id": "4GmtVFAashJB"
      },
      "source": [
        "ขั้นตอนที่ 8 วาดกราฟแท่ง"
      ]
    },
    {
      "cell_type": "code",
      "metadata": {
        "colab": {
          "base_uri": "https://localhost:8080/"
        },
        "id": "Y5JyhfqBsoIL",
        "outputId": "2d32d443-5e9a-4694-ffe2-e6cbedc55b60"
      },
      "source": [
        "exam3_drop.columns "
      ],
      "execution_count": 61,
      "outputs": [
        {
          "output_type": "execute_result",
          "data": {
            "text/plain": [
              "Index(['Goal Scored', 'Ball Possession %', 'Attempts', 'On-Target',\n",
              "       'Off-Target', 'Blocked', 'Corners', 'Offsides', 'Free Kicks', 'Saves',\n",
              "       'Pass Accuracy %', 'Passes', 'Distance Covered (Kms)',\n",
              "       'Fouls Committed', 'Yellow Card', 'Yellow & Red', 'Red'],\n",
              "      dtype='object')"
            ]
          },
          "metadata": {
            "tags": []
          },
          "execution_count": 61
        }
      ]
    },
    {
      "cell_type": "code",
      "metadata": {
        "colab": {
          "base_uri": "https://localhost:8080/",
          "height": 880
        },
        "id": "_UWgADkwsrFI",
        "outputId": "bc7d0c09-1433-4521-f4bd-e3c779058e89"
      },
      "source": [
        "plt.bar(range(17),np.absolute(exam_fa2.loadings_[:,0]),tick_label=exam3_drop.columns)"
      ],
      "execution_count": 63,
      "outputs": [
        {
          "output_type": "execute_result",
          "data": {
            "text/plain": [
              "<BarContainer object of 17 artists>"
            ]
          },
          "metadata": {
            "tags": []
          },
          "execution_count": 63
        },
        {
          "output_type": "display_data",
          "data": {
            "image/png": "[encoded data removed]",
            "text/plain": [
              "<Figure size 1080x1080 with 1 Axes>"
            ]
          },
          "metadata": {
            "tags": [],
            "needs_background": "light"
          }
        }
      ]
    },
    {
      "cell_type": "markdown",
      "metadata": {
        "id": "D7q9pJITs3PJ"
      },
      "source": [
        "จากการวิเคราะห์ผล สามารถสรุปผลได้ว่า มีตัวแปรอิสระ หรือตัวแปรfactor 6 ตัวแปร ที่สามารถ ทำนาย อธิบายข้อมูลได้ นอกจากนี้ยังสามารถใช้ Exporatory Factors Analysis และConfirmatory Factors Analysis ได้อีกด้วย"
      ]
    },
    {
      "cell_type": "markdown",
      "metadata": {
        "id": "rbNsOnc1tpau"
      },
      "source": [
        "#**จบ**"
      ]
    }
  ]
}