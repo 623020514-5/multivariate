{
  "nbformat": 4,
  "nbformat_minor": 0,
  "metadata": {
    "colab": {
      "name": "Chapter3 PCA.ipynb",
      "provenance": [],
      "authorship_tag": "ABX9TyOflQVQp0ic7tEysLevEJys",
      "include_colab_link": true
    },
    "kernelspec": {
      "name": "python3",
      "display_name": "Python 3"
    }
  },
  "cells": [
    {
      "cell_type": "markdown",
      "metadata": {
        "id": "view-in-github",
        "colab_type": "text"
      },
      "source": [
        "<a href=\"https://colab.research.google.com/github/623020514-5/multivariate/blob/main/Chapter3_PCA.ipynb\" target=\"_parent\"><img src=\"https://colab.research.google.com/assets/colab-badge.svg\" alt=\"Open In Colab\"/></a>"
      ]
    },
    {
      "cell_type": "markdown",
      "metadata": {
        "id": "kRj4ib-Nb44w"
      },
      "source": [
        "# PCA (Principle)"
      ]
    },
    {
      "cell_type": "markdown",
      "metadata": {
        "id": "VsNGT_kqZnr6"
      },
      "source": [
        "1.standardzing the Data (ปรับ mean และ std ให้ มี mean = 0 std=1)\r\n",
        "\r\n",
        "2.Calculating the covariance matrix\r\n",
        "\r\n",
        "3.Computing the Eigenvecter and Eigenvalue\r\n",
        "\r\n",
        "4.Picking Principal Components Using the explained varianc\r\n",
        "\r\n",
        "5.Project Data Onto Lower-Dimensional Linear Subspace"
      ]
    },
    {
      "cell_type": "markdown",
      "metadata": {
        "id": "jbdyclNObz85"
      },
      "source": [
        ""
      ]
    },
    {
      "cell_type": "code",
      "metadata": {
        "id": "UkKh6foRZVNx"
      },
      "source": [
        ""
      ],
      "execution_count": null,
      "outputs": []
    }
  ]
}